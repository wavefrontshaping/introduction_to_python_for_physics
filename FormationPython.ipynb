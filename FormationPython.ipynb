{
 "cells": [
  {
   "cell_type": "code",
   "execution_count": 1,
   "metadata": {
    "slideshow": {
     "slide_type": "skip"
    }
   },
   "outputs": [
    {
     "data": {
      "text/html": [
       "<style>\n",
       "            .text_cell.rendered table, .text_cell.rendered td, .text_cell.rendered th {\n",
       "                font-size: 15px\n",
       "                color: #D05000;\n",
       "            }\n",
       "            div.warn {    \n",
       "                background-color: #fcf2f2;\n",
       "                border-color: #dFb5b4;\n",
       "                border-left: 5px solid #dfb5b4;\n",
       "                padding: 0.5em;\n",
       "            }\n",
       "            div.rmk {    \n",
       "                background-color: #d8ffe4;\n",
       "                border-color: #dFb5b4;\n",
       "                border-left: 5px solid #91aa99;\n",
       "                padding: 0.5em;\n",
       "            }\n",
       "            div.note {    \n",
       "                background-color: #cee9ff;\n",
       "                border-color: #dFb5b4;\n",
       "                border-left: 5px solid #86a2ba;\n",
       "                padding: 0.5em;\n",
       "            }\n",
       "            .rendered_html tr, .rendered_html th, .rendered_html td {\n",
       "                text-align: left;\n",
       "            }\n",
       "            .rendered_html :first-child {\n",
       "                text-align: left;\n",
       "            }\n",
       "            .rendered_html table, .rendered_html th, .rendered_html tr, .rendered_html td {\n",
       "                font-size: 16px;\n",
       "            }\n",
       "            .rendered_html th, .rendered_html td {\n",
       "                border-bottom: 2px  #707070 solid;\n",
       "                padding: 12px;\n",
       "            }\n",
       "            .reveal table, .reveal td, .reveal th, .reveal tr {\n",
       "                font-size: 25px; }\n",
       "            .reveal il{\n",
       "                margin-bottom: -100px;\n",
       "            }\n",
       "        </style>"
      ],
      "text/plain": [
       "<IPython.core.display.HTML object>"
      ]
     },
     "execution_count": 1,
     "metadata": {},
     "output_type": "execute_result"
    }
   ],
   "source": [
    "from IPython.display import HTML\n",
    "HTML('''<style>\n",
    "            .text_cell.rendered table, .text_cell.rendered td, .text_cell.rendered th {\n",
    "                font-size: 15px\n",
    "                color: #D05000;\n",
    "            }\n",
    "            div.warn {    \n",
    "                background-color: #fcf2f2;\n",
    "                border-color: #dFb5b4;\n",
    "                border-left: 5px solid #dfb5b4;\n",
    "                padding: 0.5em;\n",
    "            }\n",
    "            div.rmk {    \n",
    "                background-color: #d8ffe4;\n",
    "                border-color: #dFb5b4;\n",
    "                border-left: 5px solid #91aa99;\n",
    "                padding: 0.5em;\n",
    "            }\n",
    "            div.note {    \n",
    "                background-color: #cee9ff;\n",
    "                border-color: #dFb5b4;\n",
    "                border-left: 5px solid #86a2ba;\n",
    "                padding: 0.5em;\n",
    "            }\n",
    "            .rendered_html tr, .rendered_html th, .rendered_html td {\n",
    "                text-align: left;\n",
    "            }\n",
    "            .rendered_html :first-child {\n",
    "                text-align: left;\n",
    "            }\n",
    "            .rendered_html table, .rendered_html th, .rendered_html tr, .rendered_html td {\n",
    "                font-size: 16px;\n",
    "            }\n",
    "            .rendered_html th, .rendered_html td {\n",
    "                border-bottom: 2px  #707070 solid;\n",
    "                padding: 12px;\n",
    "            }\n",
    "            .reveal table, .reveal td, .reveal th, .reveal tr {\n",
    "                font-size: 25px; }\n",
    "            .reveal il{\n",
    "                margin-bottom: -100px;\n",
    "            }\n",
    "        </style>''')"
   ]
  },
  {
   "cell_type": "markdown",
   "metadata": {
    "slideshow": {
     "slide_type": "slide"
    }
   },
   "source": [
    "# Python for Elderly People <br> An Introduction to Python for Scientists\n"
   ]
  },
  {
   "cell_type": "markdown",
   "metadata": {
    "slideshow": {
     "slide_type": "slide"
    }
   },
   "source": [
    "**Why Python?**\n",
    "\n",
    "* Free (mostly)\n",
    "* Replace Matlab/Labview and much more\n",
    "* Huge community\n",
    "* Popular for Data Visualization, Machine Learning and Deep learning\n",
    "* Can do anythoing (web sites, scripts, etc...)"
   ]
  },
  {
   "cell_type": "markdown",
   "metadata": {
    "slideshow": {
     "slide_type": "slide"
    }
   },
   "source": [
    "**What is important to know about Python?**\n",
    "\n",
    "* Everything is an object\n",
    "* If it does not look simple, you did it wrong\n",
    "\n",
    "**Few advices for clean coding**\n",
    "* One sentence in english = one line of Python\n",
    "* One function = one operation\n",
    "* No loop on indexes!"
   ]
  },
  {
   "cell_type": "markdown",
   "metadata": {
    "slideshow": {
     "slide_type": "fragment"
    }
   },
   "source": [
    "**Prerequisite:**\n",
    "* Matlab/Scilab/Octave \n",
    "* Some coding skills\n",
    "\n",
    "**Not a complete tutorial!**\n",
    "\n",
    "**Goals:**\n",
    "* Learn to replace Matlab with Python\n",
    "* Know things exist to improve your code\n"
   ]
  },
  {
   "cell_type": "markdown",
   "metadata": {
    "slideshow": {
     "slide_type": "slide"
    },
    "toc": true
   },
   "source": [
    "<h1>Table of Contents<span class=\"tocSkip\"></span></h1>\n",
    "<div class=\"toc\"><ul class=\"toc-item\"><li><span><a href=\"#Conda-for-managing-packages-and-environments\" data-toc-modified-id=\"Conda-for-managing-packages-and-environments-1\"><span class=\"toc-item-num\">1&nbsp;&nbsp;</span>Conda for managing packages and environments</a></span><ul class=\"toc-item\"><li><span><a href=\"#Installation\" data-toc-modified-id=\"Installation-1.1\"><span class=\"toc-item-num\">1.1&nbsp;&nbsp;</span>Installation</a></span></li><li><span><a href=\"#Usage-(Environment-managing)\" data-toc-modified-id=\"Usage-(Environment-managing)-1.2\"><span class=\"toc-item-num\">1.2&nbsp;&nbsp;</span>Usage (Environment managing)</a></span><ul class=\"toc-item\"><li><span><a href=\"#Activate-conda\" data-toc-modified-id=\"Activate-conda-1.2.1\"><span class=\"toc-item-num\">1.2.1&nbsp;&nbsp;</span>Activate conda</a></span></li><li><span><a href=\"#Create-a-new-environment\" data-toc-modified-id=\"Create-a-new-environment-1.2.2\"><span class=\"toc-item-num\">1.2.2&nbsp;&nbsp;</span>Create a new environment</a></span></li><li><span><a href=\"#List-all-the-environments\" data-toc-modified-id=\"List-all-the-environments-1.2.3\"><span class=\"toc-item-num\">1.2.3&nbsp;&nbsp;</span>List all the environments</a></span></li><li><span><a href=\"#Activate-an-environment\" data-toc-modified-id=\"Activate-an-environment-1.2.4\"><span class=\"toc-item-num\">1.2.4&nbsp;&nbsp;</span>Activate an environment</a></span></li><li><span><a href=\"#Remove-environment\" data-toc-modified-id=\"Remove-environment-1.2.5\"><span class=\"toc-item-num\">1.2.5&nbsp;&nbsp;</span>Remove environment</a></span></li></ul></li><li><span><a href=\"#Usage-(Package-managing)\" data-toc-modified-id=\"Usage-(Package-managing)-1.3\"><span class=\"toc-item-num\">1.3&nbsp;&nbsp;</span>Usage (Package managing)</a></span><ul class=\"toc-item\"><li><span><a href=\"#Install-a-package\" data-toc-modified-id=\"Install-a-package-1.3.1\"><span class=\"toc-item-num\">1.3.1&nbsp;&nbsp;</span>Install a package</a></span></li><li><span><a href=\"#Remove-package\" data-toc-modified-id=\"Remove-package-1.3.2\"><span class=\"toc-item-num\">1.3.2&nbsp;&nbsp;</span>Remove package</a></span></li><li><span><a href=\"#List-package-in-current-environment\" data-toc-modified-id=\"List-package-in-current-environment-1.3.3\"><span class=\"toc-item-num\">1.3.3&nbsp;&nbsp;</span>List package in current environment</a></span></li><li><span><a href=\"#More\" data-toc-modified-id=\"More-1.3.4\"><span class=\"toc-item-num\">1.3.4&nbsp;&nbsp;</span>More</a></span></li><li><span><a href=\"#Pip\" data-toc-modified-id=\"Pip-1.3.5\"><span class=\"toc-item-num\">1.3.5&nbsp;&nbsp;</span>Pip</a></span></li><li><span><a href=\"#Export-environment\" data-toc-modified-id=\"Export-environment-1.3.6\"><span class=\"toc-item-num\">1.3.6&nbsp;&nbsp;</span>Export environment</a></span></li><li><span><a href=\"#Import-environment\" data-toc-modified-id=\"Import-environment-1.3.7\"><span class=\"toc-item-num\">1.3.7&nbsp;&nbsp;</span>Import environment</a></span></li></ul></li></ul></li><li><span><a href=\"#Softwares-for-coding\" data-toc-modified-id=\"Softwares-for-coding-2\"><span class=\"toc-item-num\">2&nbsp;&nbsp;</span>Softwares for coding</a></span><ul class=\"toc-item\"><li><span><a href=\"#Spyder,-the-Matlab-clone\" data-toc-modified-id=\"Spyder,-the-Matlab-clone-2.1\"><span class=\"toc-item-num\">2.1&nbsp;&nbsp;</span>Spyder, the Matlab clone</a></span></li><li><span><a href=\"#Jupyter-notebook,-Mathematica-styles-pages\" data-toc-modified-id=\"Jupyter-notebook,-Mathematica-styles-pages-2.2\"><span class=\"toc-item-num\">2.2&nbsp;&nbsp;</span>Jupyter notebook, Mathematica styles pages</a></span></li><li><span><a href=\"#VSCode\" data-toc-modified-id=\"VSCode-2.3\"><span class=\"toc-item-num\">2.3&nbsp;&nbsp;</span>VSCode</a></span></li></ul></li><li><span><a href=\"#Basics-of-Python\" data-toc-modified-id=\"Basics-of-Python-3\"><span class=\"toc-item-num\">3&nbsp;&nbsp;</span>Basics of Python</a></span><ul class=\"toc-item\"><li><span><a href=\"#Variables-in-Python\" data-toc-modified-id=\"Variables-in-Python-3.1\"><span class=\"toc-item-num\">3.1&nbsp;&nbsp;</span>Variables in Python</a></span><ul class=\"toc-item\"><li><span><a href=\"#Integers,-floats-and-complex-values\" data-toc-modified-id=\"Integers,-floats-and-complex-values-3.1.1\"><span class=\"toc-item-num\">3.1.1&nbsp;&nbsp;</span>Integers, floats and complex values</a></span></li><li><span><a href=\"#Lists-and-tuples\" data-toc-modified-id=\"Lists-and-tuples-3.1.2\"><span class=\"toc-item-num\">3.1.2&nbsp;&nbsp;</span>Lists and tuples</a></span></li><li><span><a href=\"#Dictionnaries\" data-toc-modified-id=\"Dictionnaries-3.1.3\"><span class=\"toc-item-num\">3.1.3&nbsp;&nbsp;</span>Dictionnaries</a></span></li><li><span><a href=\"#Strings\" data-toc-modified-id=\"Strings-3.1.4\"><span class=\"toc-item-num\">3.1.4&nbsp;&nbsp;</span>Strings</a></span></li><li><span><a href=\"#Boolean\" data-toc-modified-id=\"Boolean-3.1.5\"><span class=\"toc-item-num\">3.1.5&nbsp;&nbsp;</span>Boolean</a></span></li></ul></li><li><span><a href=\"#if-statements-and-loops\" data-toc-modified-id=\"if-statements-and-loops-3.2\"><span class=\"toc-item-num\">3.2&nbsp;&nbsp;</span>if statements and loops</a></span><ul class=\"toc-item\"><li><span><a href=\"#if/elif/else\" data-toc-modified-id=\"if/elif/else-3.2.1\"><span class=\"toc-item-num\">3.2.1&nbsp;&nbsp;</span>if/elif/else</a></span></li><li><span><a href=\"#Loops\" data-toc-modified-id=\"Loops-3.2.2\"><span class=\"toc-item-num\">3.2.2&nbsp;&nbsp;</span>Loops</a></span></li></ul></li><li><span><a href=\"#Functions\" data-toc-modified-id=\"Functions-3.3\"><span class=\"toc-item-num\">3.3&nbsp;&nbsp;</span>Functions</a></span><ul class=\"toc-item\"><li><span><a href=\"#Definition-and-return-values\" data-toc-modified-id=\"Definition-and-return-values-3.3.1\"><span class=\"toc-item-num\">3.3.1&nbsp;&nbsp;</span>Definition and return values</a></span></li><li><span><a href=\"#Default-arguments\" data-toc-modified-id=\"Default-arguments-3.3.2\"><span class=\"toc-item-num\">3.3.2&nbsp;&nbsp;</span>Default arguments</a></span></li><li><span><a href=\"#Named-arguments\" data-toc-modified-id=\"Named-arguments-3.3.3\"><span class=\"toc-item-num\">3.3.3&nbsp;&nbsp;</span>Named arguments</a></span></li><li><span><a href=\"#Inline-functions\" data-toc-modified-id=\"Inline-functions-3.3.4\"><span class=\"toc-item-num\">3.3.4&nbsp;&nbsp;</span>Inline functions</a></span></li></ul></li><li><span><a href=\"#Classes-and-objects\" data-toc-modified-id=\"Classes-and-objects-3.4\"><span class=\"toc-item-num\">3.4&nbsp;&nbsp;</span>Classes and objects</a></span><ul class=\"toc-item\"><li><span><a href=\"#Creation\" data-toc-modified-id=\"Creation-3.4.1\"><span class=\"toc-item-num\">3.4.1&nbsp;&nbsp;</span>Creation</a></span></li><li><span><a href=\"#Inheritance\" data-toc-modified-id=\"Inheritance-3.4.2\"><span class=\"toc-item-num\">3.4.2&nbsp;&nbsp;</span>Inheritance</a></span></li><li><span><a href=\"#Everythig-is-an-object\" data-toc-modified-id=\"Everythig-is-an-object-3.4.3\"><span class=\"toc-item-num\">3.4.3&nbsp;&nbsp;</span>Everythig is an object</a></span></li></ul></li></ul></li><li><span><a href=\"#The-Python-way-of-coding\" data-toc-modified-id=\"The-Python-way-of-coding-4\"><span class=\"toc-item-num\">4&nbsp;&nbsp;</span>The Python way of coding</a></span><ul class=\"toc-item\"><li><span><a href=\"#Be-clear-and-simple\" data-toc-modified-id=\"Be-clear-and-simple-4.1\"><span class=\"toc-item-num\">4.1&nbsp;&nbsp;</span>Be clear and simple</a></span><ul class=\"toc-item\"><li><span><a href=\"#One-line-should-be-one-sentence-when-you-explain-it\" data-toc-modified-id=\"One-line-should-be-one-sentence-when-you-explain-it-4.1.1\"><span class=\"toc-item-num\">4.1.1&nbsp;&nbsp;</span>One line should be one sentence when you explain it</a></span></li></ul></li><li><span><a href=\"#Avoid-loops-over-indexes:-Iterators\" data-toc-modified-id=\"Avoid-loops-over-indexes:-Iterators-4.2\"><span class=\"toc-item-num\">4.2&nbsp;&nbsp;</span>Avoid loops over indexes: Iterators</a></span></li><li><span><a href=\"#Avoid-flags-when-possible:-Else-statement-for-loops\" data-toc-modified-id=\"Avoid-flags-when-possible:-Else-statement-for-loops-4.3\"><span class=\"toc-item-num\">4.3&nbsp;&nbsp;</span>Avoid flags when possible: Else statement for loops</a></span></li></ul></li><li><span><a href=\"#Replacing-Matlab\" data-toc-modified-id=\"Replacing-Matlab-5\"><span class=\"toc-item-num\">5&nbsp;&nbsp;</span>Replacing Matlab</a></span><ul class=\"toc-item\"><li><span><a href=\"#Importing-modules-and-functions\" data-toc-modified-id=\"Importing-modules-and-functions-5.1\"><span class=\"toc-item-num\">5.1&nbsp;&nbsp;</span>Importing modules and functions</a></span></li><li><span><a href=\"#Numpy-and-Scipy\" data-toc-modified-id=\"Numpy-and-Scipy-5.2\"><span class=\"toc-item-num\">5.2&nbsp;&nbsp;</span>Numpy and Scipy</a></span><ul class=\"toc-item\"><li><span><a href=\"#Linear-algebra\" data-toc-modified-id=\"Linear-algebra-5.2.1\"><span class=\"toc-item-num\">5.2.1&nbsp;&nbsp;</span>Linear algebra</a></span></li><li><span><a href=\"#Useful-functions\" data-toc-modified-id=\"Useful-functions-5.2.2\"><span class=\"toc-item-num\">5.2.2&nbsp;&nbsp;</span>Useful functions</a></span></li><li><span><a href=\"#Saving-data\" data-toc-modified-id=\"Saving-data-5.2.3\"><span class=\"toc-item-num\">5.2.3&nbsp;&nbsp;</span>Saving data</a></span></li></ul></li><li><span><a href=\"#Matplotlib\" data-toc-modified-id=\"Matplotlib-5.3\"><span class=\"toc-item-num\">5.3&nbsp;&nbsp;</span>Matplotlib</a></span><ul class=\"toc-item\"><li><span><a href=\"#Import-and-setup\" data-toc-modified-id=\"Import-and-setup-5.3.1\"><span class=\"toc-item-num\">5.3.1&nbsp;&nbsp;</span>Import and setup</a></span></li><li><span><a href=\"#Some-examples\" data-toc-modified-id=\"Some-examples-5.3.2\"><span class=\"toc-item-num\">5.3.2&nbsp;&nbsp;</span>Some examples</a></span></li></ul></li><li><span><a href=\"#Exercise\" data-toc-modified-id=\"Exercise-5.4\"><span class=\"toc-item-num\">5.4&nbsp;&nbsp;</span>Exercise</a></span></li><li><span><a href=\"#Other-useful-modules\" data-toc-modified-id=\"Other-useful-modules-5.5\"><span class=\"toc-item-num\">5.5&nbsp;&nbsp;</span>Other useful modules</a></span></li></ul></li><li><span><a href=\"#Run-Python-on-the-servers\" data-toc-modified-id=\"Run-Python-on-the-servers-6\"><span class=\"toc-item-num\">6&nbsp;&nbsp;</span>Run Python on the servers</a></span></li><li><span><a href=\"#Going-further\" data-toc-modified-id=\"Going-further-7\"><span class=\"toc-item-num\">7&nbsp;&nbsp;</span>Going further</a></span><ul class=\"toc-item\"><li><span><a href=\"#IPython-magic-functions\" data-toc-modified-id=\"IPython-magic-functions-7.1\"><span class=\"toc-item-num\">7.1&nbsp;&nbsp;</span>IPython magic functions</a></span></li><li><span><a href=\"#Parallel-computing\" data-toc-modified-id=\"Parallel-computing-7.2\"><span class=\"toc-item-num\">7.2&nbsp;&nbsp;</span>Parallel computing</a></span></li><li><span><a href=\"#GPU-computing\" data-toc-modified-id=\"GPU-computing-7.3\"><span class=\"toc-item-num\">7.3&nbsp;&nbsp;</span>GPU computing</a></span></li><li><span><a href=\"#Using-dlls-with-Ctypes\" data-toc-modified-id=\"Using-dlls-with-Ctypes-7.4\"><span class=\"toc-item-num\">7.4&nbsp;&nbsp;</span>Using dlls with Ctypes</a></span></li><li><span><a href=\"#Code-optimization-with-Cython\" data-toc-modified-id=\"Code-optimization-with-Cython-7.5\"><span class=\"toc-item-num\">7.5&nbsp;&nbsp;</span>Code optimization with Cython</a></span><ul class=\"toc-item\"><li><span><a href=\"#Installation\" data-toc-modified-id=\"Installation-7.5.1\"><span class=\"toc-item-num\">7.5.1&nbsp;&nbsp;</span>Installation</a></span></li><li><span><a href=\"#Setup\" data-toc-modified-id=\"Setup-7.5.2\"><span class=\"toc-item-num\">7.5.2&nbsp;&nbsp;</span>Setup</a></span></li><li><span><a href=\"#Synthax-example\" data-toc-modified-id=\"Synthax-example-7.5.3\"><span class=\"toc-item-num\">7.5.3&nbsp;&nbsp;</span>Synthax example</a></span></li><li><span><a href=\"#Compile-code\" data-toc-modified-id=\"Compile-code-7.5.4\"><span class=\"toc-item-num\">7.5.4&nbsp;&nbsp;</span>Compile code</a></span></li></ul></li><li><span><a href=\"#Decorators\" data-toc-modified-id=\"Decorators-7.6\"><span class=\"toc-item-num\">7.6&nbsp;&nbsp;</span>Decorators</a></span></li><li><span><a href=\"#Code-optimization-with-numba\" data-toc-modified-id=\"Code-optimization-with-numba-7.7\"><span class=\"toc-item-num\">7.7&nbsp;&nbsp;</span>Code optimization with numba</a></span><ul class=\"toc-item\"><li><span><a href=\"#Installation\" data-toc-modified-id=\"Installation-7.7.1\"><span class=\"toc-item-num\">7.7.1&nbsp;&nbsp;</span>Installation</a></span></li><li><span><a href=\"#Usage\" data-toc-modified-id=\"Usage-7.7.2\"><span class=\"toc-item-num\">7.7.2&nbsp;&nbsp;</span>Usage</a></span></li></ul></li><li><span><a href=\"#Logger\" data-toc-modified-id=\"Logger-7.8\"><span class=\"toc-item-num\">7.8&nbsp;&nbsp;</span>Logger</a></span></li></ul></li><li><span><a href=\"#Used-ressources:\" data-toc-modified-id=\"Used-ressources:-8\"><span class=\"toc-item-num\">8&nbsp;&nbsp;</span>Used ressources:</a></span></li></ul></div>"
   ]
  },
  {
   "cell_type": "markdown",
   "metadata": {
    "slideshow": {
     "slide_type": "slide"
    }
   },
   "source": [
    "## Conda for managing packages and environments\n",
    "\n",
    "Conda is a **virtual environment** manager + **package** manager \n",
    "\n",
    "##### What is a **virtual environment**?\n",
    "\n",
    "An isolated environment for Python projects. \n",
    "\n",
    "Each project can have its own dependencies (Python and module versions).\n",
    "\n",
    "\n",
    "##### Not compulsory but recommended because for scientific usage because:\n",
    "* Not to mess with your *OS* Python version\n",
    "* Use different version of Python depending on your needs (module requirements)\n",
    "* Easily reproduce best conditions for a code to run\n",
    "\n",
    "\n"
   ]
  },
  {
   "cell_type": "markdown",
   "metadata": {
    "slideshow": {
     "slide_type": "slide"
    }
   },
   "source": [
    "### Installation\n",
    "\n",
    "**Two options (Windows/Linux/Macos):**\n",
    "\n",
    "* [Anaconda](https://www.anaconda.com/distribution/): Big package with Conda + Spyder + Usefull modules for scientific use\n",
    "* [Miniconda](https://docs.conda.io/en/latest/miniconda.html): Just the Conda package/environment manager and then install what you need"
   ]
  },
  {
   "cell_type": "markdown",
   "metadata": {
    "slideshow": {
     "slide_type": "subslide"
    }
   },
   "source": [
    "### Usage (Environment managing)\n",
    "\n",
    "#### Activate conda\n",
    "\n",
    "```bash\n",
    "source activate\n",
    "```\n",
    "\n",
    "#### Create a new environment\n",
    "\n",
    "```bash\n",
    "conda create -n myenv python=3.8 numpy\n",
    "```\n",
    "\n",
    "Creates a new environment with Python 3.6 and numpy"
   ]
  },
  {
   "cell_type": "markdown",
   "metadata": {
    "slideshow": {
     "slide_type": "fragment"
    }
   },
   "source": [
    "#### List all the environments\n",
    "\n",
    "```bash\n",
    "conda env list\n",
    "```\n",
    "\n",
    "#### Activate an environment\n",
    "\n",
    "```bash\n",
    "conda activate myenv\n",
    "```\n",
    "\n",
    "#### Remove environment \n",
    "\n",
    "```bash\n",
    "conda activate\n",
    "conda env remove -n myenv\n",
    "```\n",
    "\n"
   ]
  },
  {
   "cell_type": "markdown",
   "metadata": {
    "slideshow": {
     "slide_type": "slide"
    }
   },
   "source": [
    "### Usage (Package managing)\n",
    "\n",
    "#### Install a package\n",
    "\n",
    "```bash\n",
    "conda install spyder\n",
    "```\n",
    "\n",
    "#### Remove package\n",
    "\n",
    "```bash\n",
    "conda remove spyder\n",
    "```\n",
    "\n",
    "#### List package in current environment\n",
    "\n",
    "```bash\n",
    "conda list\n",
    "```\n",
    "\n",
    "#### More\n",
    "\n",
    "```bash\n",
    "conda install scipy==1.3.0 numpy>0.1 scikit-learn\n",
    "```\n",
    "\n",
    "#### Pip\n",
    "\n",
    "```bash\n",
    "pip install tqdm\n",
    "```\n",
    "\n",
    "Pip works, it will install the package in the current envirnment."
   ]
  },
  {
   "cell_type": "markdown",
   "metadata": {
    "slideshow": {
     "slide_type": "subslide"
    }
   },
   "source": [
    "#### Export environment\n",
    "`conda env export --from-history > env_file.yml`\n",
    "\n",
    "Save the list of modules (with the precise version) of the current environment into a file.\n",
    "\n",
    "Works cross-platform!\n",
    "\n",
    "\n",
    "#### Import environment\n",
    "`conda env create -f environment.yml`\n",
    "\n",
    "Create the environment with the Python version and the modules of the saved one.\n",
    "\n",
    "More info [here](https://docs.conda.io/projects/conda/en/latest/user-guide/tasks/manage-environments.html)"
   ]
  },
  {
   "cell_type": "markdown",
   "metadata": {
    "slideshow": {
     "slide_type": "slide"
    }
   },
   "source": [
    "## Softwares for coding\n",
    "\n",
    "### Spyder, the Matlab clone\n",
    "\n",
    "Designed to be a copy of Matlab graphic interface. Good for interfacing hardware, debugging, simulations...  \n",
    "Possilibity to connect to a remote server."
   ]
  },
  {
   "cell_type": "markdown",
   "metadata": {
    "slideshow": {
     "slide_type": "slide"
    }
   },
   "source": [
    "![title](img/spyder.png)"
   ]
  },
  {
   "cell_type": "markdown",
   "metadata": {
    "slideshow": {
     "slide_type": "slide"
    }
   },
   "source": [
    "### Jupyter notebook, Mathematica styles pages\n",
    "\n",
    "Ideal for displaying results, data vizualation.\n",
    "Keeps in memory previous outputs (results, images, graphs). Allows to display equations, webpage style layouts (using markdown) and this presentation!\n",
    "\n",
    "Run with `jupyter notebook` in your working directory. \n",
    "\n",
    "\n",
    "###### Few tips\n",
    "\n",
    "* Look for magic commands to make your notebook look nicer (see [here](https://ipython.readthedocs.io/en/stable/interactive/magics.html)).\n",
    "* Use `SHIFT`+`TAB` for contextual help\n",
    "* Many extensions available, see [here](https://github.com/ipython-contrib/jupyter_contrib_nbextensions)\n",
    "* Possilibity to connect to a remote server\n",
    "* Can render markdown, html, latex\n",
    "* Convert to `.py` fileusing `!jupyter nbconvert --to python notebook.ipynb file.py`"
   ]
  },
  {
   "cell_type": "markdown",
   "metadata": {
    "slideshow": {
     "slide_type": "slide"
    }
   },
   "source": [
    "### VSCode\n",
    "VSCode is a multilanguage and very popular IDE.\n",
    "\n",
    "* Extensions for Python and Jupyter\n",
    "* Very good for *production codes*"
   ]
  },
  {
   "cell_type": "markdown",
   "metadata": {
    "slideshow": {
     "slide_type": "slide"
    }
   },
   "source": [
    "## Basics of Python\n",
    "### Variables in Python\n",
    "\n",
    "\n",
    "**Everything is an object** in Python, even variables are not just variables\n",
    "\n",
    "#### Integers, floats and complex values\n",
    "\n",
    "Just like Matlab, but with objects"
   ]
  },
  {
   "cell_type": "code",
   "execution_count": 1,
   "metadata": {
    "slideshow": {
     "slide_type": "fragment"
    }
   },
   "outputs": [
    {
     "name": "stdout",
     "output_type": "stream",
     "text": [
      "20\n"
     ]
    }
   ],
   "source": [
    "a = 10\n",
    "a+=10 \n",
    "print(a)"
   ]
  },
  {
   "cell_type": "code",
   "execution_count": 3,
   "metadata": {
    "slideshow": {
     "slide_type": "fragment"
    }
   },
   "outputs": [
    {
     "name": "stdout",
     "output_type": "stream",
     "text": [
      "5\n"
     ]
    }
   ],
   "source": [
    "print(a.bit_length())"
   ]
  },
  {
   "cell_type": "code",
   "execution_count": 1,
   "metadata": {
    "slideshow": {
     "slide_type": "slide"
    }
   },
   "outputs": [
    {
     "name": "stdout",
     "output_type": "stream",
     "text": [
      "0.75\n"
     ]
    }
   ],
   "source": [
    "b = 1.5\n",
    "print(b/2)"
   ]
  },
  {
   "cell_type": "code",
   "execution_count": 2,
   "metadata": {
    "slideshow": {
     "slide_type": "fragment"
    }
   },
   "outputs": [
    {
     "name": "stdout",
     "output_type": "stream",
     "text": [
      "0.0\n"
     ]
    }
   ],
   "source": [
    "print(b//2)"
   ]
  },
  {
   "cell_type": "code",
   "execution_count": 3,
   "metadata": {
    "slideshow": {
     "slide_type": "fragment"
    }
   },
   "outputs": [
    {
     "name": "stdout",
     "output_type": "stream",
     "text": [
      "a = 1 is an integer\n",
      "b = 1.0 is a float\n",
      "<class 'float'>\n"
     ]
    }
   ],
   "source": [
    "a = 1\n",
    "print(f\"a = {a} is an integer\")\n",
    "b = 1.\n",
    "print(f\"b = {b} is a float\")\n",
    "\n",
    "print(type(b))"
   ]
  },
  {
   "cell_type": "markdown",
   "metadata": {
    "slideshow": {
     "slide_type": "subslide"
    }
   },
   "source": [
    "**Complex values**"
   ]
  },
  {
   "cell_type": "code",
   "execution_count": 6,
   "metadata": {
    "slideshow": {
     "slide_type": "fragment"
    }
   },
   "outputs": [
    {
     "name": "stdout",
     "output_type": "stream",
     "text": [
      "Real part of a = 1.0, imaginary part of a = 2.0\n",
      "Amplitude of a = 2.23606797749979\n"
     ]
    }
   ],
   "source": [
    "a = 1.+2j\n",
    "print(f\"Real part of a = {a.real}, imaginary part of a = {a.imag}\")\n",
    "print(f\"Amplitude of a = {abs(a)}\")"
   ]
  },
  {
   "cell_type": "code",
   "execution_count": 7,
   "metadata": {
    "slideshow": {
     "slide_type": "fragment"
    }
   },
   "outputs": [
    {
     "name": "stdout",
     "output_type": "stream",
     "text": [
      "True\n"
     ]
    }
   ],
   "source": [
    "b = complex(1,2)\n",
    "print(a == b)"
   ]
  },
  {
   "cell_type": "code",
   "execution_count": 9,
   "metadata": {
    "slideshow": {
     "slide_type": "fragment"
    }
   },
   "outputs": [
    {
     "name": "stdout",
     "output_type": "stream",
     "text": [
      "(1-2j)\n"
     ]
    }
   ],
   "source": [
    "print(a.conjugate())"
   ]
  },
  {
   "cell_type": "markdown",
   "metadata": {
    "slideshow": {
     "slide_type": "subslide"
    }
   },
   "source": [
    "**Casting (data type conversion)**"
   ]
  },
  {
   "cell_type": "code",
   "execution_count": 10,
   "metadata": {
    "slideshow": {
     "slide_type": "fragment"
    }
   },
   "outputs": [
    {
     "name": "stdout",
     "output_type": "stream",
     "text": [
      "a = 1.3 is an float, b = 1 is an integer\n"
     ]
    }
   ],
   "source": [
    "a = 1.3\n",
    "b = int(a)\n",
    "print(f\"a = {a} is an float, b = {b} is an integer\")"
   ]
  },
  {
   "cell_type": "code",
   "execution_count": 11,
   "metadata": {
    "slideshow": {
     "slide_type": "fragment"
    }
   },
   "outputs": [
    {
     "name": "stdout",
     "output_type": "stream",
     "text": [
      "c = 1.0 is a float again\n"
     ]
    }
   ],
   "source": [
    "c = float(b)\n",
    "print(f\"c = {c} is a float again\")"
   ]
  },
  {
   "cell_type": "code",
   "execution_count": 12,
   "metadata": {
    "slideshow": {
     "slide_type": "fragment"
    }
   },
   "outputs": [
    {
     "name": "stdout",
     "output_type": "stream",
     "text": [
      "and d = (1+0j) is a complex\n"
     ]
    }
   ],
   "source": [
    "d = complex(c)\n",
    "print(f\"and d = {d} is a complex\")"
   ]
  },
  {
   "cell_type": "markdown",
   "metadata": {
    "slideshow": {
     "slide_type": "slide"
    }
   },
   "source": [
    "#### Lists and tuples\n",
    "\n",
    "In Python, lists or tuples (~1D arrays) are heterogeneous collections of python objects. \n",
    "\n",
    "They can store anything!\n",
    "\n",
    "Tuples are immutable, while lists can be changed, modified, or manipulated. Tuples access is isgnificantly faster, but lists are more usefull for scientific (matlab like) use.\n",
    "\n",
    "##### Creation\n"
   ]
  },
  {
   "cell_type": "code",
   "execution_count": 13,
   "metadata": {
    "slideshow": {
     "slide_type": "fragment"
    }
   },
   "outputs": [
    {
     "name": "stdout",
     "output_type": "stream",
     "text": [
      "4\n"
     ]
    }
   ],
   "source": [
    "mylist = [1,'coucou', True, [1,2,3]]\n",
    "print(len(mylist))"
   ]
  },
  {
   "cell_type": "code",
   "execution_count": 14,
   "metadata": {
    "slideshow": {
     "slide_type": "fragment"
    }
   },
   "outputs": [
    {
     "name": "stdout",
     "output_type": "stream",
     "text": [
      "[1, 'coucou', True, [1, 2, 3], 'truc']\n"
     ]
    }
   ],
   "source": [
    "mylist.append('truc')\n",
    "print(mylist)"
   ]
  },
  {
   "cell_type": "code",
   "execution_count": 15,
   "metadata": {
    "slideshow": {
     "slide_type": "fragment"
    }
   },
   "outputs": [
    {
     "name": "stdout",
     "output_type": "stream",
     "text": [
      "(1, 2, 'a')\n"
     ]
    }
   ],
   "source": [
    "mytuple = (1,2,'a')\n",
    "print(mytuple)"
   ]
  },
  {
   "cell_type": "markdown",
   "metadata": {
    "slideshow": {
     "slide_type": "subslide"
    }
   },
   "source": [
    "Again, everything is an object!"
   ]
  },
  {
   "cell_type": "code",
   "execution_count": 9,
   "metadata": {
    "slideshow": {
     "slide_type": "fragment"
    }
   },
   "outputs": [
    {
     "name": "stdout",
     "output_type": "stream",
     "text": [
      "[0.223, 1, 3, 4, 5, 1000.0]\n"
     ]
    }
   ],
   "source": [
    "numlist = [3,4,5,1,0.223,1e3]\n",
    "numlist.sort()\n",
    "print(numlist)"
   ]
  },
  {
   "cell_type": "code",
   "execution_count": 11,
   "metadata": {
    "slideshow": {
     "slide_type": "fragment"
    }
   },
   "outputs": [
    {
     "name": "stdout",
     "output_type": "stream",
     "text": [
      "True\n"
     ]
    }
   ],
   "source": [
    "print(4 in numlist)"
   ]
  },
  {
   "cell_type": "code",
   "execution_count": 12,
   "metadata": {
    "slideshow": {
     "slide_type": "fragment"
    }
   },
   "outputs": [
    {
     "name": "stdout",
     "output_type": "stream",
     "text": [
      "[1, 2, 4, 1, 2, 4, 1, 2, 4, 1, 2, 4]\n"
     ]
    }
   ],
   "source": [
    "repetitive_list = [1,2,4]*4\n",
    "print(repetitive_list)"
   ]
  },
  {
   "cell_type": "markdown",
   "metadata": {
    "slideshow": {
     "slide_type": "subslide"
    }
   },
   "source": [
    "##### Indexing"
   ]
  },
  {
   "cell_type": "code",
   "execution_count": 18,
   "metadata": {
    "slideshow": {
     "slide_type": "fragment"
    }
   },
   "outputs": [
    {
     "name": "stdout",
     "output_type": "stream",
     "text": [
      "a\n"
     ]
    }
   ],
   "source": [
    "letters = ['a','b','c','d','e']\n",
    "# Starts with 0!\n",
    "print(letters[0])  "
   ]
  },
  {
   "cell_type": "code",
   "execution_count": 19,
   "metadata": {
    "slideshow": {
     "slide_type": "fragment"
    }
   },
   "outputs": [
    {
     "name": "stdout",
     "output_type": "stream",
     "text": [
      "e\n"
     ]
    }
   ],
   "source": [
    "# Last one\n",
    "print(letters[-1])"
   ]
  },
  {
   "cell_type": "code",
   "execution_count": 20,
   "metadata": {
    "slideshow": {
     "slide_type": "fragment"
    }
   },
   "outputs": [
    {
     "name": "stdout",
     "output_type": "stream",
     "text": [
      "b\n"
     ]
    }
   ],
   "source": [
    "# Numbering starting from the last one\n",
    "print(letters[-4])"
   ]
  },
  {
   "cell_type": "markdown",
   "metadata": {
    "slideshow": {
     "slide_type": "subslide"
    }
   },
   "source": [
    "##### Slicing\n",
    "\n",
    "Synthax: `list[start:end:stride]`\n",
    "\n",
    " </style><div class=warn>\n",
    "**Warning:**  Please note, start with `start` but stops BEFORE `end`!\n",
    "<div/>"
   ]
  },
  {
   "cell_type": "code",
   "execution_count": 21,
   "metadata": {
    "slideshow": {
     "slide_type": "fragment"
    }
   },
   "outputs": [
    {
     "name": "stdout",
     "output_type": "stream",
     "text": [
      "['b', 'c']\n"
     ]
    }
   ],
   "source": [
    "print(letters[1:3])"
   ]
  },
  {
   "cell_type": "code",
   "execution_count": 22,
   "metadata": {
    "slideshow": {
     "slide_type": "fragment"
    }
   },
   "outputs": [
    {
     "name": "stdout",
     "output_type": "stream",
     "text": [
      "['a', 'b', 'c', 'd']\n"
     ]
    }
   ],
   "source": [
    "print(letters[:-1])"
   ]
  },
  {
   "cell_type": "code",
   "execution_count": 23,
   "metadata": {
    "slideshow": {
     "slide_type": "fragment"
    }
   },
   "outputs": [
    {
     "name": "stdout",
     "output_type": "stream",
     "text": [
      "['d', 'e']\n"
     ]
    }
   ],
   "source": [
    "print(letters[3:])"
   ]
  },
  {
   "cell_type": "code",
   "execution_count": 24,
   "metadata": {
    "slideshow": {
     "slide_type": "fragment"
    }
   },
   "outputs": [
    {
     "name": "stdout",
     "output_type": "stream",
     "text": [
      "['a', 'c', 'e']\n"
     ]
    }
   ],
   "source": [
    "print(letters[::2])"
   ]
  },
  {
   "cell_type": "code",
   "execution_count": 25,
   "metadata": {
    "slideshow": {
     "slide_type": "subslide"
    }
   },
   "outputs": [
    {
     "name": "stdout",
     "output_type": "stream",
     "text": [
      "['e', 'd', 'c', 'b', 'a']\n"
     ]
    }
   ],
   "source": [
    "print(letters[::-1])"
   ]
  },
  {
   "cell_type": "code",
   "execution_count": 26,
   "metadata": {
    "slideshow": {
     "slide_type": "fragment"
    }
   },
   "outputs": [
    {
     "name": "stdout",
     "output_type": "stream",
     "text": [
      "['e', 'd']\n"
     ]
    }
   ],
   "source": [
    "print(letters[4:2:-1])"
   ]
  },
  {
   "cell_type": "markdown",
   "metadata": {
    "slideshow": {
     "slide_type": "slide"
    }
   },
   "source": [
    "#### Dictionnaries\n",
    "\n",
    "Looks like a list, but can be indexed by anything"
   ]
  },
  {
   "cell_type": "code",
   "execution_count": 4,
   "metadata": {
    "slideshow": {
     "slide_type": "fragment"
    }
   },
   "outputs": [
    {
     "name": "stdout",
     "output_type": "stream",
     "text": [
      "{'Sebastien': 3946, 'Romain': 3070}\n"
     ]
    }
   ],
   "source": [
    "dic = {'Sebastien':3946,'Romain':3070}\n",
    "print(dic)"
   ]
  },
  {
   "cell_type": "code",
   "execution_count": 8,
   "metadata": {
    "slideshow": {
     "slide_type": "subslide"
    }
   },
   "outputs": [
    {
     "data": {
      "text/plain": [
       "3946"
      ]
     },
     "execution_count": 8,
     "metadata": {},
     "output_type": "execute_result"
    }
   ],
   "source": [
    "dic['Sebastien']"
   ]
  },
  {
   "cell_type": "code",
   "execution_count": 9,
   "metadata": {
    "slideshow": {
     "slide_type": "fragment"
    }
   },
   "outputs": [
    {
     "ename": "KeyError",
     "evalue": "'Claude'",
     "output_type": "error",
     "traceback": [
      "\u001b[0;31m---------------------------------------------------------------------------\u001b[0m",
      "\u001b[0;31mKeyError\u001b[0m                                  Traceback (most recent call last)",
      "\u001b[0;32m<ipython-input-9-b50ab32fe853>\u001b[0m in \u001b[0;36m<module>\u001b[0;34m\u001b[0m\n\u001b[0;32m----> 1\u001b[0;31m \u001b[0mdic\u001b[0m\u001b[0;34m[\u001b[0m\u001b[0;34m'Claude'\u001b[0m\u001b[0;34m]\u001b[0m\u001b[0;34m\u001b[0m\u001b[0;34m\u001b[0m\u001b[0m\n\u001b[0m",
      "\u001b[0;31mKeyError\u001b[0m: 'Claude'"
     ]
    }
   ],
   "source": [
    "dic['Claude']"
   ]
  },
  {
   "cell_type": "code",
   "execution_count": 16,
   "metadata": {
    "slideshow": {
     "slide_type": "fragment"
    }
   },
   "outputs": [
    {
     "name": "stdout",
     "output_type": "stream",
     "text": [
      "None\n"
     ]
    }
   ],
   "source": [
    "# default to None if not found\n",
    "personne = dic.get('Claude')\n",
    "print(personne)"
   ]
  },
  {
   "cell_type": "code",
   "execution_count": 17,
   "metadata": {
    "slideshow": {
     "slide_type": "fragment"
    }
   },
   "outputs": [
    {
     "data": {
      "text/plain": [
       "'Personne'"
      ]
     },
     "execution_count": 17,
     "metadata": {},
     "output_type": "execute_result"
    }
   ],
   "source": [
    "# default value if not found\n",
    "dic.get('Claude','Personne')"
   ]
  },
  {
   "cell_type": "code",
   "execution_count": 5,
   "metadata": {
    "slideshow": {
     "slide_type": "subslide"
    }
   },
   "outputs": [
    {
     "name": "stdout",
     "output_type": "stream",
     "text": [
      "dict_keys(['Sebastien', 'Romain'])\n"
     ]
    }
   ],
   "source": [
    "print(dic.keys())"
   ]
  },
  {
   "cell_type": "code",
   "execution_count": 6,
   "metadata": {
    "slideshow": {
     "slide_type": "fragment"
    }
   },
   "outputs": [
    {
     "name": "stdout",
     "output_type": "stream",
     "text": [
      "dict_values([3946, 3070])\n"
     ]
    }
   ],
   "source": [
    "print(dic.values())"
   ]
  },
  {
   "cell_type": "code",
   "execution_count": 7,
   "metadata": {
    "slideshow": {
     "slide_type": "fragment"
    }
   },
   "outputs": [
    {
     "data": {
      "text/plain": [
       "True"
      ]
     },
     "execution_count": 7,
     "metadata": {},
     "output_type": "execute_result"
    }
   ],
   "source": [
    "'Sebastien' in dic"
   ]
  },
  {
   "cell_type": "markdown",
   "metadata": {
    "slideshow": {
     "slide_type": "slide"
    }
   },
   "source": [
    "#### Strings"
   ]
  },
  {
   "cell_type": "code",
   "execution_count": 22,
   "metadata": {
    "slideshow": {
     "slide_type": "fragment"
    }
   },
   "outputs": [
    {
     "name": "stdout",
     "output_type": "stream",
     "text": [
      "this is\"' a string\n"
     ]
    }
   ],
   "source": [
    "s = 'this is a string'\n",
    "print(s)"
   ]
  },
  {
   "cell_type": "code",
   "execution_count": 23,
   "metadata": {
    "slideshow": {
     "slide_type": "fragment"
    }
   },
   "outputs": [
    {
     "name": "stdout",
     "output_type": "stream",
     "text": [
      "True\n"
     ]
    }
   ],
   "source": [
    "print(s.startswith('this'))"
   ]
  },
  {
   "cell_type": "code",
   "execution_count": 27,
   "metadata": {
    "slideshow": {
     "slide_type": "fragment"
    }
   },
   "outputs": [
    {
     "name": "stdout",
     "output_type": "stream",
     "text": [
      "12\n"
     ]
    }
   ],
   "source": [
    "print(s.find('string'))"
   ]
  },
  {
   "cell_type": "code",
   "execution_count": 25,
   "metadata": {
    "slideshow": {
     "slide_type": "fragment"
    }
   },
   "outputs": [
    {
     "name": "stdout",
     "output_type": "stream",
     "text": [
      "blablablablablablablablablablablablablablablablablablablabla\n"
     ]
    }
   ],
   "source": [
    "print('bla'*20)"
   ]
  },
  {
   "cell_type": "markdown",
   "metadata": {
    "slideshow": {
     "slide_type": "subslide"
    }
   },
   "source": [
    "**Many ways of formatting strings**"
   ]
  },
  {
   "cell_type": "code",
   "execution_count": 29,
   "metadata": {
    "slideshow": {
     "slide_type": "fragment"
    }
   },
   "outputs": [
    {
     "name": "stdout",
     "output_type": "stream",
     "text": [
      "a = 4\n"
     ]
    }
   ],
   "source": [
    "# C style\n",
    "a = 4\n",
    "print(\"%s %g\" %  ('a =', a))"
   ]
  },
  {
   "cell_type": "code",
   "execution_count": 30,
   "metadata": {
    "slideshow": {
     "slide_type": "fragment"
    }
   },
   "outputs": [
    {
     "name": "stdout",
     "output_type": "stream",
     "text": [
      "a = 4\n"
     ]
    }
   ],
   "source": [
    "# Matlab style\n",
    "print(\"a = \" + str(a ))  "
   ]
  },
  {
   "cell_type": "code",
   "execution_count": 32,
   "metadata": {
    "slideshow": {
     "slide_type": "fragment"
    }
   },
   "outputs": [
    {
     "name": "stdout",
     "output_type": "stream",
     "text": [
      "a = 4.0000\n"
     ]
    }
   ],
   "source": [
    "# Python 3 formatting\n",
    "print(\"a = {:.4f}\".format(a))"
   ]
  },
  {
   "cell_type": "code",
   "execution_count": 34,
   "metadata": {
    "slideshow": {
     "slide_type": "fragment"
    }
   },
   "outputs": [
    {
     "name": "stdout",
     "output_type": "stream",
     "text": [
      "a = 4, 2a = 8\n"
     ]
    }
   ],
   "source": [
    "# All mighty f-string\n",
    "print(f\"a = {a}, 2a = {abs(2*a)}\")"
   ]
  },
  {
   "cell_type": "markdown",
   "metadata": {
    "slideshow": {
     "slide_type": "subslide"
    }
   },
   "source": [
    "#### Boolean\n",
    "\n",
    "**Operations** are `not`, `and` and `or`"
   ]
  },
  {
   "cell_type": "code",
   "execution_count": 1,
   "metadata": {
    "slideshow": {
     "slide_type": "fragment"
    }
   },
   "outputs": [
    {
     "name": "stdout",
     "output_type": "stream",
     "text": [
      "True\n"
     ]
    }
   ],
   "source": [
    "a = 0\n",
    "print(a == 0)"
   ]
  },
  {
   "cell_type": "code",
   "execution_count": 35,
   "metadata": {
    "slideshow": {
     "slide_type": "fragment"
    }
   },
   "outputs": [
    {
     "data": {
      "text/plain": [
       "False"
      ]
     },
     "execution_count": 35,
     "metadata": {},
     "output_type": "execute_result"
    }
   ],
   "source": [
    "not (a != 0)  "
   ]
  },
  {
   "cell_type": "code",
   "execution_count": 40,
   "metadata": {
    "slideshow": {
     "slide_type": "fragment"
    }
   },
   "outputs": [
    {
     "name": "stdout",
     "output_type": "stream",
     "text": [
      "True\n"
     ]
    }
   ],
   "source": [
    "c = not a\n",
    "print(c)"
   ]
  },
  {
   "cell_type": "markdown",
   "metadata": {
    "slideshow": {
     "slide_type": "slide"
    }
   },
   "source": [
    "### if statements and loops\n",
    "\n",
    "**Blocks are delimited by indentation.**\n",
    "\n",
    "There is no other character/statement to end blocks (if/loops)\n",
    "\n",
    "Note the syntax, the statement ends by a colon, the block is characterized by the **indentation**."
   ]
  },
  {
   "cell_type": "markdown",
   "metadata": {
    "slideshow": {
     "slide_type": "subslide"
    }
   },
   "source": [
    "#### if/elif/else"
   ]
  },
  {
   "cell_type": "code",
   "execution_count": 37,
   "metadata": {
    "slideshow": {
     "slide_type": "fragment"
    }
   },
   "outputs": [
    {
     "name": "stdout",
     "output_type": "stream",
     "text": [
      "OK\n",
      "oookk\n",
      "still ok\n"
     ]
    }
   ],
   "source": [
    "a = 0\n",
    "if a == 0:\n",
    "    print('OK')\n",
    "    print('oookk')\n",
    "if a == 0:\n",
    "  print('still ok')"
   ]
  },
  {
   "cell_type": "markdown",
   "metadata": {
    "slideshow": {
     "slide_type": "subslide"
    }
   },
   "source": [
    "Any indentation (one or more tabs or space) works as long as it is the same in the same block."
   ]
  },
  {
   "cell_type": "code",
   "execution_count": 19,
   "metadata": {
    "slideshow": {
     "slide_type": "fragment"
    }
   },
   "outputs": [
    {
     "ename": "IndentationError",
     "evalue": "unexpected indent (<ipython-input-19-99029e8a398a>, line 3)",
     "output_type": "error",
     "traceback": [
      "\u001b[0;36m  File \u001b[0;32m\"<ipython-input-19-99029e8a398a>\"\u001b[0;36m, line \u001b[0;32m3\u001b[0m\n\u001b[0;31m    print('oups')\u001b[0m\n\u001b[0m    ^\u001b[0m\n\u001b[0;31mIndentationError\u001b[0m\u001b[0;31m:\u001b[0m unexpected indent\n"
     ]
    }
   ],
   "source": [
    "if a == 0:\n",
    "    print('OK')\n",
    "     print('oups')"
   ]
  },
  {
   "cell_type": "markdown",
   "metadata": {
    "slideshow": {
     "slide_type": "fragment"
    }
   },
   "source": [
    "But, the standard is 4 spaces"
   ]
  },
  {
   "cell_type": "code",
   "execution_count": 38,
   "metadata": {
    "slideshow": {
     "slide_type": "subslide"
    }
   },
   "outputs": [
    {
     "name": "stdout",
     "output_type": "stream",
     "text": [
      "still OK\n"
     ]
    }
   ],
   "source": [
    "b = 1\n",
    "if b:\n",
    "    print('still OK')\n",
    "# Check if b is not 0/empty list/None"
   ]
  },
  {
   "cell_type": "code",
   "execution_count": 43,
   "metadata": {
    "slideshow": {
     "slide_type": "fragment"
    }
   },
   "outputs": [
    {
     "name": "stdout",
     "output_type": "stream",
     "text": [
      "more\n"
     ]
    }
   ],
   "source": [
    "a = 8\n",
    "if a == 1:\n",
    "    print(1)\n",
    "elif a == 2:\n",
    "    print(2)\n",
    "else:\n",
    "    print('more')"
   ]
  },
  {
   "cell_type": "markdown",
   "metadata": {
    "slideshow": {
     "slide_type": "subslide"
    }
   },
   "source": [
    "**Bonus** inline if!"
   ]
  },
  {
   "cell_type": "code",
   "execution_count": null,
   "metadata": {
    "slideshow": {
     "slide_type": "fragment"
    }
   },
   "outputs": [],
   "source": [
    "b = 'big' if a>5 else 'small'\n",
    "print(b)"
   ]
  },
  {
   "cell_type": "markdown",
   "metadata": {
    "slideshow": {
     "slide_type": "subslide"
    }
   },
   "source": [
    "#### Loops\n"
   ]
  },
  {
   "cell_type": "markdown",
   "metadata": {
    "slideshow": {
     "slide_type": "subslide"
    }
   },
   "source": [
    "##### While: Similar to Matlab\n",
    "\n",
    "**keywords:**\n",
    "* `break`: leaves the loop\n",
    "* `continue`: go to the next iteration, without executing the rest for the current iteration"
   ]
  },
  {
   "cell_type": "code",
   "execution_count": 44,
   "metadata": {
    "slideshow": {
     "slide_type": "fragment"
    }
   },
   "outputs": [
    {
     "name": "stdout",
     "output_type": "stream",
     "text": [
      "[0, 1, 2, 3, 4]\n"
     ]
    }
   ],
   "source": [
    "count = 0\n",
    "mylist = []\n",
    "while count < 5:\n",
    "    mylist.append(count)\n",
    "    count += 1  # Same as count = count + 1\n",
    "print(mylist)"
   ]
  },
  {
   "cell_type": "code",
   "execution_count": 6,
   "metadata": {
    "slideshow": {
     "slide_type": "fragment"
    }
   },
   "outputs": [
    {
     "name": "stdout",
     "output_type": "stream",
     "text": [
      "[1, 2, 3, 4, 6]\n"
     ]
    }
   ],
   "source": [
    "count = 0\n",
    "mylist = []\n",
    "while True:\n",
    "    count += 1\n",
    "    if count % 5 == 0:\n",
    "        continue\n",
    "    mylist.append(count)\n",
    "    if count >= 5:\n",
    "        break\n",
    "print(mylist)"
   ]
  },
  {
   "cell_type": "markdown",
   "metadata": {
    "slideshow": {
     "slide_type": "subslide"
    }
   },
   "source": [
    "##### For loops\n",
    "\n",
    "They look similar to Matlab.\n",
    "\n",
    "You can do a for loop with any *iterator* (i.e. an instance of a class, an object, that has a `__next__()` function, we will come back to this later)."
   ]
  },
  {
   "cell_type": "markdown",
   "metadata": {
    "slideshow": {
     "slide_type": "subslide"
    }
   },
   "source": [
    "**An simple example**\n",
    "\n",
    "**The wrong way**"
   ]
  },
  {
   "cell_type": "code",
   "execution_count": 39,
   "metadata": {
    "slideshow": {
     "slide_type": "-"
    }
   },
   "outputs": [
    {
     "name": "stdout",
     "output_type": "stream",
     "text": [
      "[0, 1, 4, 9, 16, 25]\n"
     ]
    }
   ],
   "source": [
    "mylist = []\n",
    "for i in [0,1,2,3,4,5]:\n",
    "    mylist.append(i**2)\n",
    "print(mylist)"
   ]
  },
  {
   "cell_type": "markdown",
   "metadata": {
    "slideshow": {
     "slide_type": "fragment"
    }
   },
   "source": [
    "Not good because we need to store the whole list, not good for large lists.\n",
    "\n",
    "* **The better way: iterators**\n",
    "\n",
    "With iterators, the new value is generated, not stored.\n"
   ]
  },
  {
   "cell_type": "code",
   "execution_count": 47,
   "metadata": {},
   "outputs": [
    {
     "name": "stdout",
     "output_type": "stream",
     "text": [
      "[0, 1, 4, 9, 16, 25]\n"
     ]
    }
   ],
   "source": [
    "mylist = []\n",
    "\n",
    "for i in range(6):\n",
    "    mylist.append(i**2)\n",
    "print(mylist)"
   ]
  },
  {
   "cell_type": "markdown",
   "metadata": {
    "slideshow": {
     "slide_type": "-"
    }
   },
   "source": [
    "Note that the loops stop **before** the 6.\n",
    "\n",
    "Look at the help of `range()`"
   ]
  },
  {
   "cell_type": "code",
   "execution_count": 28,
   "metadata": {},
   "outputs": [
    {
     "data": {
      "text/plain": [
       "[0, 1, 2, 3, 4, 5]"
      ]
     },
     "execution_count": 28,
     "metadata": {},
     "output_type": "execute_result"
    }
   ],
   "source": [
    "# to get the list from the iterator\n",
    "list(range(6))"
   ]
  },
  {
   "cell_type": "markdown",
   "metadata": {
    "slideshow": {
     "slide_type": "subslide"
    }
   },
   "source": [
    "* **Even better: Comprehension lists**\n",
    "    \n",
    "Good for small loops to generate lists/tuples/dictionnaries \n",
    "\n",
    "(~ inline loops)"
   ]
  },
  {
   "cell_type": "code",
   "execution_count": 7,
   "metadata": {
    "slideshow": {
     "slide_type": "-"
    }
   },
   "outputs": [
    {
     "name": "stdout",
     "output_type": "stream",
     "text": [
      "[1, 4, 9, 16, 25]\n"
     ]
    }
   ],
   "source": [
    "mylist = [i**2 for i in range(1,6)]\n",
    "print(mylist)"
   ]
  },
  {
   "cell_type": "markdown",
   "metadata": {
    "slideshow": {
     "slide_type": "fragment"
    }
   },
   "source": [
    "Can add conditions"
   ]
  },
  {
   "cell_type": "code",
   "execution_count": 49,
   "metadata": {},
   "outputs": [
    {
     "name": "stdout",
     "output_type": "stream",
     "text": [
      "[0, 4, 16]\n"
     ]
    }
   ],
   "source": [
    "mylist = [i**2 for i in range(6) if i%2 == 0] # only pair elements\n",
    "print(mylist)"
   ]
  },
  {
   "cell_type": "markdown",
   "metadata": {
    "slideshow": {
     "slide_type": "subslide"
    }
   },
   "source": [
    "**Interate over lists**\n",
    "\n",
    "The Matlab/C way is the bad way"
   ]
  },
  {
   "cell_type": "code",
   "execution_count": 24,
   "metadata": {
    "slideshow": {
     "slide_type": "-"
    }
   },
   "outputs": [
    {
     "name": "stdout",
     "output_type": "stream",
     "text": [
      "a is a letter\n",
      "b is a letter\n",
      "c is a letter\n",
      "d is a letter\n",
      "e is a letter\n"
     ]
    }
   ],
   "source": [
    "letters = ['a', 'b', 'c', 'd', 'e']\n",
    "for i in range(len(letters)):\n",
    "    print(letters[i], 'is a letter')"
   ]
  },
  {
   "cell_type": "markdown",
   "metadata": {
    "slideshow": {
     "slide_type": "fragment"
    }
   },
   "source": [
    "A list is an iterable, use it."
   ]
  },
  {
   "cell_type": "code",
   "execution_count": 22,
   "metadata": {
    "slideshow": {
     "slide_type": "-"
    }
   },
   "outputs": [
    {
     "name": "stdout",
     "output_type": "stream",
     "text": [
      "a is a letter\n",
      "b is a letter\n",
      "c is a letter\n",
      "d is a letter\n",
      "e is a letter\n"
     ]
    }
   ],
   "source": [
    "letters = ['a', 'b', 'c', 'd', 'e']\n",
    "for l in letters:\n",
    "    print(l, 'is a letter')"
   ]
  },
  {
   "cell_type": "markdown",
   "metadata": {
    "slideshow": {
     "slide_type": "subslide"
    }
   },
   "source": [
    "**What if I need the indices?**"
   ]
  },
  {
   "cell_type": "code",
   "execution_count": 27,
   "metadata": {},
   "outputs": [
    {
     "name": "stdout",
     "output_type": "stream",
     "text": [
      "a is the letter number 0\n",
      "b is the letter number 1\n",
      "c is the letter number 2\n",
      "d is the letter number 3\n",
      "e is the letter number 4\n"
     ]
    }
   ],
   "source": [
    "for ind, l in enumerate(letters):\n",
    "    print(f'{l} is the letter number {ind}')"
   ]
  },
  {
   "cell_type": "markdown",
   "metadata": {
    "slideshow": {
     "slide_type": "slide"
    }
   },
   "source": [
    "##### Exercises\n",
    "\n",
    "* Find the max value in a list"
   ]
  },
  {
   "cell_type": "code",
   "execution_count": 35,
   "metadata": {
    "slideshow": {
     "slide_type": "-"
    }
   },
   "outputs": [],
   "source": [
    "mylist = [10, 8, 1, 60, 1, 4, 13]\n",
    "..."
   ]
  },
  {
   "cell_type": "markdown",
   "metadata": {
    "slideshow": {
     "slide_type": "subslide"
    }
   },
   "source": [
    "* Create a list of the lengths of the words of a sentence\n",
    "\n",
    "*Do it with a loop and with a comprehension list*"
   ]
  },
  {
   "cell_type": "code",
   "execution_count": 36,
   "metadata": {
    "slideshow": {
     "slide_type": "-"
    }
   },
   "outputs": [
    {
     "name": "stdout",
     "output_type": "stream",
     "text": [
      "['This', 'a', 'correct', 'sentence,', 'but', 'this', 'is', 'not', 'an', 'interesting', 'sentence.']\n"
     ]
    },
    {
     "data": {
      "text/plain": [
       "Ellipsis"
      ]
     },
     "execution_count": 36,
     "metadata": {},
     "output_type": "execute_result"
    }
   ],
   "source": [
    "sentence = 'This a correct sentence, but this is not an interesting sentence.'\n",
    "\n",
    "words = sentence.split(' ')\n",
    "print(words)\n",
    "..."
   ]
  },
  {
   "cell_type": "markdown",
   "metadata": {
    "slideshow": {
     "slide_type": "subslide"
    }
   },
   "source": [
    "* From a sentence, create a dictionnary for which each label is each unique word of the sentence, and the value is the number of occurence of this word."
   ]
  },
  {
   "cell_type": "code",
   "execution_count": 37,
   "metadata": {},
   "outputs": [
    {
     "name": "stdout",
     "output_type": "stream",
     "text": [
      "['This', 'a', 'correct', 'sentence,', 'but', 'this', 'is', 'not', 'an', 'interesting', 'sentence.']\n"
     ]
    },
    {
     "data": {
      "text/plain": [
       "Ellipsis"
      ]
     },
     "execution_count": 37,
     "metadata": {},
     "output_type": "execute_result"
    }
   ],
   "source": [
    "sentence = 'This a correct sentence, but this is not an interesting sentence.'\n",
    "\n",
    "words = sentence.split(' ')\n",
    "print(words)\n",
    "..."
   ]
  },
  {
   "cell_type": "markdown",
   "metadata": {
    "slideshow": {
     "slide_type": "slide"
    }
   },
   "source": [
    "### Functions\n",
    "#### Definition and return values"
   ]
  },
  {
   "cell_type": "code",
   "execution_count": 40,
   "metadata": {
    "slideshow": {
     "slide_type": "fragment"
    }
   },
   "outputs": [
    {
     "name": "stdout",
     "output_type": "stream",
     "text": [
      "coucou\n"
     ]
    }
   ],
   "source": [
    "def my_function():\n",
    "    print('coucou')\n",
    "    \n",
    "my_function()"
   ]
  },
  {
   "cell_type": "code",
   "execution_count": 49,
   "metadata": {
    "slideshow": {
     "slide_type": "fragment"
    }
   },
   "outputs": [
    {
     "name": "stdout",
     "output_type": "stream",
     "text": [
      "(7, 4)\n"
     ]
    }
   ],
   "source": [
    "def addition(a,b):\n",
    "    return a+b,b\n",
    "    \n",
    "print(addition(3,4))"
   ]
  },
  {
   "cell_type": "code",
   "execution_count": 52,
   "metadata": {
    "slideshow": {
     "slide_type": "fragment"
    }
   },
   "outputs": [
    {
     "name": "stdout",
     "output_type": "stream",
     "text": [
      "10\n"
     ]
    }
   ],
   "source": [
    "def maximum(a,b):\n",
    "    if (a > b):\n",
    "        return a\n",
    "    else:\n",
    "        return b\n",
    "print(maximum(10,2))"
   ]
  },
  {
   "cell_type": "markdown",
   "metadata": {
    "slideshow": {
     "slide_type": "subslide"
    }
   },
   "source": [
    "#### Default arguments"
   ]
  },
  {
   "cell_type": "code",
   "execution_count": 53,
   "metadata": {
    "slideshow": {
     "slide_type": "fragment"
    }
   },
   "outputs": [
    {
     "name": "stdout",
     "output_type": "stream",
     "text": [
      "10.0\n"
     ]
    }
   ],
   "source": [
    "def linear_function(x,a = 1., b=0.):\n",
    "    return a*x+b\n",
    "\n",
    "print(linear_function(10))"
   ]
  },
  {
   "cell_type": "code",
   "execution_count": 54,
   "metadata": {
    "slideshow": {
     "slide_type": "fragment"
    }
   },
   "outputs": [
    {
     "name": "stdout",
     "output_type": "stream",
     "text": [
      "20.0\n"
     ]
    }
   ],
   "source": [
    "print(linear_function(10,2.))"
   ]
  },
  {
   "cell_type": "markdown",
   "metadata": {
    "slideshow": {
     "slide_type": "fragment"
    }
   },
   "source": [
    " </style><div class=warn>\n",
    "**Warning:** Default arguments at the end only!\n",
    "<div/>"
   ]
  },
  {
   "cell_type": "code",
   "execution_count": 55,
   "metadata": {
    "deletable": false,
    "editable": false,
    "run_control": {
     "frozen": true
    },
    "slideshow": {
     "slide_type": "fragment"
    }
   },
   "outputs": [
    {
     "ename": "SyntaxError",
     "evalue": "non-default argument follows default argument (<ipython-input-55-81412f4fd3c9>, line 1)",
     "output_type": "error",
     "traceback": [
      "\u001b[0;36m  File \u001b[0;32m\"<ipython-input-55-81412f4fd3c9>\"\u001b[0;36m, line \u001b[0;32m1\u001b[0m\n\u001b[0;31m    def linear_function(x,a = 1., b):\u001b[0m\n\u001b[0m                       ^\u001b[0m\n\u001b[0;31mSyntaxError\u001b[0m\u001b[0;31m:\u001b[0m non-default argument follows default argument\n"
     ]
    }
   ],
   "source": [
    "def linear_function(x,a = 1., b):\n",
    "    return a*x+b"
   ]
  },
  {
   "cell_type": "markdown",
   "metadata": {
    "slideshow": {
     "slide_type": "subslide"
    }
   },
   "source": [
    "#### Named arguments\n",
    "\n",
    "**Arguments have names, use them when there are multiple arguments**"
   ]
  },
  {
   "cell_type": "code",
   "execution_count": 56,
   "metadata": {
    "slideshow": {
     "slide_type": "fragment"
    }
   },
   "outputs": [],
   "source": [
    "def calculate_modes_of_fiber(radius = 8., NA = 0.1, n_cladding = 1.45, n_core = 1.451):\n",
    "    ..."
   ]
  },
  {
   "cell_type": "markdown",
   "metadata": {
    "slideshow": {
     "slide_type": "fragment"
    }
   },
   "source": [
    "**Difficult to keep tracks of what argument correspond to what parameter**"
   ]
  },
  {
   "cell_type": "code",
   "execution_count": 57,
   "metadata": {
    "deletable": false,
    "editable": false,
    "run_control": {
     "frozen": true
    }
   },
   "outputs": [],
   "source": [
    "calculate_modes_of_fiber(8., 0.22, 1.45, 1.451)"
   ]
  },
  {
   "cell_type": "markdown",
   "metadata": {
    "slideshow": {
     "slide_type": "fragment"
    }
   },
   "source": [
    "**Better**"
   ]
  },
  {
   "cell_type": "code",
   "execution_count": 58,
   "metadata": {
    "deletable": false,
    "editable": false,
    "run_control": {
     "frozen": true
    }
   },
   "outputs": [],
   "source": [
    "calculate_modes_of_fiber(radius = 8., NA = 0.22, n_cladding = 1.45, n_core = 1.451)"
   ]
  },
  {
   "cell_type": "markdown",
   "metadata": {
    "slideshow": {
     "slide_type": "fragment"
    }
   },
   "source": [
    "**Use multiple lines for numerous arguments**"
   ]
  },
  {
   "cell_type": "code",
   "execution_count": 59,
   "metadata": {
    "deletable": false,
    "editable": false,
    "run_control": {
     "frozen": true
    }
   },
   "outputs": [],
   "source": [
    "calculate_modes_of_fiber(radius = 8., \n",
    "                         NA = 0.22, \n",
    "                         n_cladding = 1.45, \n",
    "                         n_core = 1.451)"
   ]
  },
  {
   "cell_type": "markdown",
   "metadata": {
    "slideshow": {
     "slide_type": "subslide"
    }
   },
   "source": [
    "**Global vairables**\n",
    "\n",
    "If the variable is not found in the function *namespace*, it looks in the global *namespace*.\n",
    "\n",
    "\n",
    "Be careful with that..."
   ]
  },
  {
   "cell_type": "code",
   "execution_count": 56,
   "metadata": {
    "slideshow": {
     "slide_type": "-"
    }
   },
   "outputs": [
    {
     "data": {
      "text/plain": [
       "15"
      ]
     },
     "execution_count": 56,
     "metadata": {},
     "output_type": "execute_result"
    }
   ],
   "source": [
    "a = 10\n",
    "\n",
    "def add_to_a(b):\n",
    "    return a + b\n",
    "\n",
    "add_to_a(5)"
   ]
  },
  {
   "cell_type": "markdown",
   "metadata": {
    "slideshow": {
     "slide_type": "subslide"
    }
   },
   "source": [
    "###### Add hints about types"
   ]
  },
  {
   "cell_type": "code",
   "execution_count": 45,
   "metadata": {
    "slideshow": {
     "slide_type": "-"
    }
   },
   "outputs": [
    {
     "data": {
      "text/plain": [
       "3.2"
      ]
     },
     "execution_count": 45,
     "metadata": {},
     "output_type": "execute_result"
    }
   ],
   "source": [
    "def addition_int(a: int, b: int) -> int:\n",
    "    return a+b\n",
    "\n",
    "addition_int(1,2.2)"
   ]
  },
  {
   "cell_type": "code",
   "execution_count": 46,
   "metadata": {
    "slideshow": {
     "slide_type": "fragment"
    }
   },
   "outputs": [
    {
     "name": "stdout",
     "output_type": "stream",
     "text": [
      "Help on function addition_int in module __main__:\n",
      "\n",
      "addition_int(a: int, b: int) -> int\n",
      "\n"
     ]
    }
   ],
   "source": [
    "help(addition_int)"
   ]
  },
  {
   "cell_type": "markdown",
   "metadata": {
    "slideshow": {
     "slide_type": "subslide"
    }
   },
   "source": [
    "###### Help"
   ]
  },
  {
   "cell_type": "code",
   "execution_count": 47,
   "metadata": {
    "slideshow": {
     "slide_type": "fragment"
    }
   },
   "outputs": [],
   "source": [
    "def dothis():\n",
    "    '''\n",
    "    Need help bro?\n",
    "    This function returns 1., that's all\n",
    "    '''\n",
    "    return 1."
   ]
  },
  {
   "cell_type": "code",
   "execution_count": 48,
   "metadata": {
    "slideshow": {
     "slide_type": "fragment"
    }
   },
   "outputs": [
    {
     "name": "stdout",
     "output_type": "stream",
     "text": [
      "Help on function dothis in module __main__:\n",
      "\n",
      "dothis()\n",
      "    Need help bro?\n",
      "    This function returns 1., that's all\n",
      "\n"
     ]
    }
   ],
   "source": [
    "help(dothis)"
   ]
  },
  {
   "cell_type": "code",
   "execution_count": 54,
   "metadata": {
    "slideshow": {
     "slide_type": "fragment"
    }
   },
   "outputs": [
    {
     "name": "stdout",
     "output_type": "stream",
     "text": [
      "Help on built-in function max in module builtins:\n",
      "\n",
      "max(...)\n",
      "    max(iterable, *[, default=obj, key=func]) -> value\n",
      "    max(arg1, arg2, *args, *[, key=func]) -> value\n",
      "    \n",
      "    With a single iterable argument, return its biggest item. The\n",
      "    default keyword-only argument specifies an object to return if\n",
      "    the provided iterable is empty.\n",
      "    With two or more arguments, return the largest argument.\n",
      "\n"
     ]
    }
   ],
   "source": [
    "help(max)"
   ]
  },
  {
   "cell_type": "markdown",
   "metadata": {
    "slideshow": {
     "slide_type": "fragment"
    }
   },
   "source": [
    "**Spyder**: `CTRL`+`i` to see help  \n",
    "**Jupyter**: `SHIFT`+`TAB` to see help"
   ]
  },
  {
   "cell_type": "markdown",
   "metadata": {
    "slideshow": {
     "slide_type": "subslide"
    }
   },
   "source": [
    "#### Inline functions"
   ]
  },
  {
   "cell_type": "code",
   "execution_count": 7,
   "metadata": {
    "slideshow": {
     "slide_type": "fragment"
    }
   },
   "outputs": [
    {
     "data": {
      "text/plain": [
       "5"
      ]
     },
     "execution_count": 7,
     "metadata": {},
     "output_type": "execute_result"
    }
   ],
   "source": [
    "f = lambda a,b: a+b\n",
    "f(2,3)"
   ]
  },
  {
   "cell_type": "markdown",
   "metadata": {
    "slideshow": {
     "slide_type": "fragment"
    }
   },
   "source": [
    "Usefull to fix some arguments"
   ]
  },
  {
   "cell_type": "code",
   "execution_count": 10,
   "metadata": {
    "slideshow": {
     "slide_type": "-"
    }
   },
   "outputs": [
    {
     "data": {
      "text/plain": [
       "4.0"
      ]
     },
     "execution_count": 10,
     "metadata": {},
     "output_type": "execute_result"
    }
   ],
   "source": [
    "def my_long_func(a,b,c,d,e,f):\n",
    "    return a*b**c+d/e-f\n",
    "\n",
    "smaller_func = lambda a,b: my_long_func(a,b,c = 2, d =1., e = 2., f = 0.5)\n",
    "    \n",
    "smaller_func(1.,2.)"
   ]
  },
  {
   "cell_type": "markdown",
   "metadata": {
    "slideshow": {
     "slide_type": "slide"
    }
   },
   "source": [
    "**Exercises**"
   ]
  },
  {
   "cell_type": "markdown",
   "metadata": {
    "slideshow": {
     "slide_type": "fragment"
    }
   },
   "source": [
    "* Create a function that takes two lists of integers and two integers and returns the concatenation of the two lists where each elelemt is at the power of the corresponding integer.\n",
    "\n",
    "```\n",
    "list_a = [1,6,8]\n",
    "list_b = [0,3]\n",
    "power_a = 2\n",
    "power_b = 3\n",
    "```\n",
    "\n",
    "I want the function to return \n",
    "`[1**2,6**2,8**2,0**3,3**3]`"
   ]
  },
  {
   "cell_type": "code",
   "execution_count": 59,
   "metadata": {
    "slideshow": {
     "slide_type": "-"
    }
   },
   "outputs": [],
   "source": [
    "def weird_function(la, lb, pa, pb):\n",
    "    ..."
   ]
  },
  {
   "cell_type": "markdown",
   "metadata": {
    "slideshow": {
     "slide_type": "-"
    }
   },
   "source": [
    "* Fix the power values to 2 using `lambda` to create a function that takes only two arguments (the two lists) "
   ]
  },
  {
   "cell_type": "code",
   "execution_count": 58,
   "metadata": {
    "slideshow": {
     "slide_type": "-"
    }
   },
   "outputs": [],
   "source": [
    "smaller_weird_function = ..."
   ]
  },
  {
   "cell_type": "markdown",
   "metadata": {
    "slideshow": {
     "slide_type": "slide"
    }
   },
   "source": [
    "### Classes and objects\n",
    "\n",
    "#### Creation"
   ]
  },
  {
   "cell_type": "code",
   "execution_count": 53,
   "metadata": {
    "slideshow": {
     "slide_type": "fragment"
    }
   },
   "outputs": [],
   "source": [
    "class Person:\n",
    "    def __init__(self,first_name,last_name):\n",
    "        self.last_name = last_name\n",
    "        self.first_name = first_name\n",
    "    def get_last_name(self):\n",
    "        return self.last_name\n",
    "    def get_first_name(self):\n",
    "        return self.first_name\n",
    "    def print_name(self):\n",
    "        print(f\"That person's name is {self.first_name} {self.last_name}\")"
   ]
  },
  {
   "cell_type": "markdown",
   "metadata": {
    "slideshow": {
     "slide_type": "subslide"
    }
   },
   "source": [
    " </style><div class=note>\n",
    "**Note:** \n",
    "   * `__init__()` is called upon creation,\n",
    "   * `self` is send to all class functions to pass parameters of the object to all functions.\n",
    "<div/>"
   ]
  },
  {
   "cell_type": "code",
   "execution_count": 54,
   "metadata": {
    "slideshow": {
     "slide_type": "subslide"
    }
   },
   "outputs": [
    {
     "name": "stdout",
     "output_type": "stream",
     "text": [
      "Némar\n",
      "Jean\n",
      "That person's name is Jean Némar\n"
     ]
    }
   ],
   "source": [
    "dude = Person('Jean','Némar')\n",
    "print(dude.get_last_name())\n",
    "print(dude.get_first_name( ))\n",
    "dude.print_name()"
   ]
  },
  {
   "cell_type": "code",
   "execution_count": 55,
   "metadata": {},
   "outputs": [
    {
     "name": "stdout",
     "output_type": "stream",
     "text": [
      "Némar\n"
     ]
    }
   ],
   "source": [
    "print(dude.last_name)"
   ]
  },
  {
   "cell_type": "markdown",
   "metadata": {
    "slideshow": {
     "slide_type": "slide"
    }
   },
   "source": [
    "#### Inheritance"
   ]
  },
  {
   "cell_type": "code",
   "execution_count": 56,
   "metadata": {},
   "outputs": [
    {
     "name": "stdout",
     "output_type": "stream",
     "text": [
      "YOLO!\n",
      "That person's name is Paul Dupont\n"
     ]
    }
   ],
   "source": [
    "class Student(Person):\n",
    "    def print_yolo(self):\n",
    "        print('YOLO!')\n",
    "\n",
    "other_dude = Student('Paul', 'Dupont')\n",
    "other_dude.print_yolo()\n",
    "other_dude.print_name()\n"
   ]
  },
  {
   "cell_type": "markdown",
   "metadata": {
    "slideshow": {
     "slide_type": "subslide"
    }
   },
   "source": [
    "**Go further**\n",
    "* Add properties without rewritting `__init__()` completely\n",
    "* Overwritte `print_name()`"
   ]
  },
  {
   "cell_type": "code",
   "execution_count": 62,
   "metadata": {
    "slideshow": {
     "slide_type": "fragment"
    }
   },
   "outputs": [],
   "source": [
    "class Student(Person):\n",
    "    def __init__(self,first_name,last_name, student_id):\n",
    "        Person.__init__(self, first_name, last_name)\n",
    "        self.student_id = student_id\n",
    "    def print_name(self):\n",
    "        print(f\"That person's name is {self.first_name} {self.last_name}\")\n",
    "        print(f\"His/her student id is {self.student_id}\")"
   ]
  },
  {
   "cell_type": "markdown",
   "metadata": {
    "slideshow": {
     "slide_type": "fragment"
    }
   },
   "source": [
    " </style><div class=note>\n",
    "**Note:**   `Person.__init__(self, first_name, last_name)` calls the `__init__()` of the parent class.\n",
    "<div/>"
   ]
  },
  {
   "cell_type": "markdown",
   "metadata": {
    "slideshow": {
     "slide_type": "subslide"
    }
   },
   "source": [
    "#### Everythig is an object\n",
    "\n",
    "Specific behaviours in Python are triggered by the presence of some functions with specific names:   double underscore functions, like `__init__()`."
   ]
  },
  {
   "cell_type": "markdown",
   "metadata": {
    "slideshow": {
     "slide_type": "subslide"
    }
   },
   "source": [
    "**Example:** Iterators\n",
    "\n",
    "Iterators are simply instances of class that possess a `__iter__()` and `__next__()` functions, one can easily create an iterator."
   ]
  },
  {
   "cell_type": "markdown",
   "metadata": {
    "slideshow": {
     "slide_type": "fragment"
    }
   },
   "source": [
    "**Goal:** Create an iterator that iteratively return the $i$-th first character of a given string."
   ]
  },
  {
   "cell_type": "code",
   "execution_count": 61,
   "metadata": {
    "slideshow": {
     "slide_type": "fragment"
    }
   },
   "outputs": [],
   "source": [
    "class String_iterator:\n",
    "    def __init__(self,string):\n",
    "        self.string = string\n",
    "        self.counter = 0\n",
    "    def __iter__(self):\n",
    "        return self\n",
    "    def __next__(self):\n",
    "        if self.counter > len(self.string)-1:\n",
    "            raise StopIteration\n",
    "        else:\n",
    "            self.counter +=1\n",
    "            return self.string[:self.counter]\n",
    "            \n",
    "        "
   ]
  },
  {
   "cell_type": "code",
   "execution_count": 37,
   "metadata": {
    "slideshow": {
     "slide_type": "subslide"
    }
   },
   "outputs": [
    {
     "name": "stdout",
     "output_type": "stream",
     "text": [
      "V\n",
      "Ve\n",
      "Ver\n",
      "Very\n",
      "Very \n",
      "Very c\n",
      "Very co\n",
      "Very coo\n",
      "Very cool\n",
      "Very cool!\n"
     ]
    }
   ],
   "source": [
    "for s in String_iterator('Very cool!'):\n",
    "    print(s)"
   ]
  },
  {
   "cell_type": "markdown",
   "metadata": {
    "slideshow": {
     "slide_type": "slide"
    }
   },
   "source": [
    "**Exercise**\n",
    "\n",
    "*Create an iterator that returns the square root of successive integers until a given value is reach\n",
    "\n",
    "```\n",
    "for value in Square_root_iterator(3):\n",
    "    print(value)\n",
    "    \n",
    "0.0\n",
    "1.0\n",
    "1.4142135623730951\n",
    "1.7320508075688772\n",
    "2.0\n",
    "2.23606797749979\n",
    "2.449489742783178\n",
    "2.6457513110645907\n",
    "2.8284271247461903\n",
    "```\n",
    "\n"
   ]
  },
  {
   "cell_type": "code",
   "execution_count": 61,
   "metadata": {},
   "outputs": [],
   "source": [
    "from numpy import sqrt\n",
    "\n",
    "class Square_root_iterator:\n",
    "    ..."
   ]
  },
  {
   "cell_type": "markdown",
   "metadata": {
    "slideshow": {
     "slide_type": "slide"
    }
   },
   "source": [
    "## The Python way of coding\n",
    "\n",
    "**Advices for more efficient coding in Python**\n",
    "\n",
    "### Be clear and simple\n"
   ]
  },
  {
   "cell_type": "markdown",
   "metadata": {
    "slideshow": {
     "slide_type": "fragment"
    }
   },
   "source": [
    "#### One line should be one sentence when you explain it  \n",
    "\n",
    "* If one sentence take multiple line, you either missed a more Python way to do it, or need to create a function  \n",
    "* If one line does multiple tasks, split it  "
   ]
  },
  {
   "cell_type": "markdown",
   "metadata": {
    "slideshow": {
     "slide_type": "subslide"
    }
   },
   "source": [
    "**Example: variable swap**\n",
    "\n",
    "The Matlab way:"
   ]
  },
  {
   "cell_type": "code",
   "execution_count": 69,
   "metadata": {
    "slideshow": {
     "slide_type": "-"
    }
   },
   "outputs": [
    {
     "name": "stdout",
     "output_type": "stream",
     "text": [
      "a = 0, b = 10\n"
     ]
    }
   ],
   "source": [
    "a = 10; b = 0\n",
    "temp = b\n",
    "b = a\n",
    "a = temp\n",
    "print(f\"a = {a}, b = {b}\")"
   ]
  },
  {
   "cell_type": "markdown",
   "metadata": {
    "slideshow": {
     "slide_type": "fragment"
    }
   },
   "source": [
    "The Python way:"
   ]
  },
  {
   "cell_type": "code",
   "execution_count": 70,
   "metadata": {
    "slideshow": {
     "slide_type": "-"
    }
   },
   "outputs": [
    {
     "name": "stdout",
     "output_type": "stream",
     "text": [
      "a = 0, b = 10\n"
     ]
    }
   ],
   "source": [
    "a = 10; b = 0\n",
    "a, b = b, a\n",
    "print(f\"a = {a}, b = {b}\")"
   ]
  },
  {
   "cell_type": "markdown",
   "metadata": {
    "slideshow": {
     "slide_type": "fragment"
    }
   },
   "source": [
    " </style><div class=rmk>\n",
    "**Remark:** There is usually a way to write thinks simply if the idea is simple, search for it!\n",
    "<div/>"
   ]
  },
  {
   "cell_type": "markdown",
   "metadata": {
    "slideshow": {
     "slide_type": "subslide"
    }
   },
   "source": [
    "### Avoid loops over indexes: Iterators"
   ]
  },
  {
   "cell_type": "markdown",
   "metadata": {
    "slideshow": {
     "slide_type": "fragment"
    }
   },
   "source": [
    "**Reverse foor loops**"
   ]
  },
  {
   "cell_type": "code",
   "execution_count": 62,
   "metadata": {
    "slideshow": {
     "slide_type": "fragment"
    }
   },
   "outputs": [
    {
     "name": "stdout",
     "output_type": "stream",
     "text": [
      "green\n",
      "yellow\n",
      "blue\n",
      "red\n"
     ]
    }
   ],
   "source": [
    "colors = ['red','blue','yellow', 'green']\n",
    "for i in range(len(colors)-1,-1,-1): # start at the last element (-1) and by step -1\n",
    "    print(colors[i])"
   ]
  },
  {
   "cell_type": "code",
   "execution_count": 63,
   "metadata": {
    "slideshow": {
     "slide_type": "fragment"
    }
   },
   "outputs": [
    {
     "name": "stdout",
     "output_type": "stream",
     "text": [
      "green\n",
      "yellow\n",
      "blue\n",
      "red\n"
     ]
    }
   ],
   "source": [
    "for c in reversed(colors):\n",
    "    print(c)"
   ]
  },
  {
   "cell_type": "markdown",
   "metadata": {
    "slideshow": {
     "slide_type": "-"
    }
   },
   "source": [
    "The point is not to learn everything, but to understand that there is probably a simple way.\n",
    "\n",
    "Simply search for it on the web."
   ]
  },
  {
   "cell_type": "markdown",
   "metadata": {
    "slideshow": {
     "slide_type": "subslide"
    }
   },
   "source": [
    "**Iterate over two lists**"
   ]
  },
  {
   "cell_type": "code",
   "execution_count": 24,
   "metadata": {
    "slideshow": {
     "slide_type": "fragment"
    }
   },
   "outputs": [
    {
     "name": "stdout",
     "output_type": "stream",
     "text": [
      "Louis : 11\n",
      "Lucie : 15.5\n",
      "Anarchibald : 8\n"
     ]
    }
   ],
   "source": [
    "names = ['Louis','Lucie','Anarchibald','Marie']\n",
    "grades = [11,15.5,8]\n",
    "\n",
    "for i in range(min(len(names),len(grades))):\n",
    "    print(f\"{names[i]} : {grades[i]}\")"
   ]
  },
  {
   "cell_type": "code",
   "execution_count": 76,
   "metadata": {
    "slideshow": {
     "slide_type": "fragment"
    }
   },
   "outputs": [
    {
     "name": "stdout",
     "output_type": "stream",
     "text": [
      "Louis : 11\n",
      "Lucie : 15.5\n",
      "Anarchibald : 8\n"
     ]
    }
   ],
   "source": [
    "for name,grade in zip(names,grades):\n",
    "    print(f\"{name} : {grade}\")"
   ]
  },
  {
   "cell_type": "markdown",
   "metadata": {
    "slideshow": {
     "slide_type": "subslide"
    }
   },
   "source": [
    "**Still want the index value?**"
   ]
  },
  {
   "cell_type": "code",
   "execution_count": 39,
   "metadata": {
    "slideshow": {
     "slide_type": "fragment"
    }
   },
   "outputs": [
    {
     "name": "stdout",
     "output_type": "stream",
     "text": [
      "0 -> red\n",
      "1 -> blue\n",
      "2 -> yellow\n",
      "3 -> british racing green\n"
     ]
    }
   ],
   "source": [
    "for ind, color in enumerate(colors):\n",
    "    print(f\"{ind} -> {color}\")"
   ]
  },
  {
   "cell_type": "markdown",
   "metadata": {
    "slideshow": {
     "slide_type": "subslide"
    }
   },
   "source": [
    "**Iterate on sorted list without modifying it**"
   ]
  },
  {
   "cell_type": "code",
   "execution_count": 42,
   "metadata": {
    "slideshow": {
     "slide_type": "fragment"
    }
   },
   "outputs": [
    {
     "name": "stdout",
     "output_type": "stream",
     "text": [
      "blue\n",
      "british racing green\n",
      "red\n",
      "yellow\n"
     ]
    }
   ],
   "source": [
    "for color in sorted(colors):\n",
    "    print(color)"
   ]
  },
  {
   "cell_type": "code",
   "execution_count": 44,
   "metadata": {
    "slideshow": {
     "slide_type": "fragment"
    }
   },
   "outputs": [
    {
     "name": "stdout",
     "output_type": "stream",
     "text": [
      "yellow\n",
      "red\n",
      "british racing green\n",
      "blue\n"
     ]
    }
   ],
   "source": [
    "for color in sorted(colors,reverse=True):\n",
    "    print(color)"
   ]
  },
  {
   "cell_type": "code",
   "execution_count": 45,
   "metadata": {
    "slideshow": {
     "slide_type": "fragment"
    }
   },
   "outputs": [
    {
     "name": "stdout",
     "output_type": "stream",
     "text": [
      "red\n",
      "blue\n",
      "yellow\n",
      "british racing green\n"
     ]
    }
   ],
   "source": [
    "for color in sorted(colors,key=len):\n",
    "    print(color)"
   ]
  },
  {
   "cell_type": "markdown",
   "metadata": {
    "slideshow": {
     "slide_type": "fragment"
    }
   },
   "source": [
    "**Few of many examples**\n",
    "\n",
    "You may not know all the iterator functions useful, but if you need to use indexes, you probably missed a useful one. **Just use your favorite search engine!**"
   ]
  },
  {
   "cell_type": "markdown",
   "metadata": {
    "slideshow": {
     "slide_type": "subslide"
    }
   },
   "source": [
    "### Avoid flags when possible: Else statement for loops\n",
    "\n",
    "`else` in `for` loops allow a piece of code to be executed only if the loop reaches the end.\n",
    "\n",
    "**Example:** search an element through a list and print if the element is found. We want to stop the loop as soon as we find the element. "
   ]
  },
  {
   "cell_type": "code",
   "execution_count": 77,
   "metadata": {
    "slideshow": {
     "slide_type": "fragment"
    }
   },
   "outputs": [
    {
     "name": "stdout",
     "output_type": "stream",
     "text": [
      "red not found\n"
     ]
    }
   ],
   "source": [
    "target = 'red'\n",
    "colors = [...]\n",
    "found = False\n",
    "for color in colors:\n",
    "    if color == target:\n",
    "        found = True\n",
    "        print(f\"{target} found!\")\n",
    "        break\n",
    "if not found:\n",
    "    print(f\"{target} not found\")"
   ]
  },
  {
   "cell_type": "code",
   "execution_count": 78,
   "metadata": {
    "slideshow": {
     "slide_type": "fragment"
    }
   },
   "outputs": [
    {
     "name": "stdout",
     "output_type": "stream",
     "text": [
      "red not found\n"
     ]
    }
   ],
   "source": [
    "for color in colors:\n",
    "    if color == target:\n",
    "        print(f\"{target} found!\")\n",
    "        break \n",
    "else:\n",
    "    print(f\"{target} not found\")"
   ]
  },
  {
   "cell_type": "markdown",
   "metadata": {
    "slideshow": {
     "slide_type": "slide"
    }
   },
   "source": [
    "## Replacing Matlab\n",
    "\n",
    "Python is not devoted to scientific computation, we need to import modules that do that.\n",
    "\n",
    "**Numpy** and **Scipy** for linear algebra and **Matplotlib** for plotting data are the core compenents you need to do what Matlab does."
   ]
  },
  {
   "cell_type": "markdown",
   "metadata": {
    "slideshow": {
     "slide_type": "fragment"
    }
   },
   "source": [
    "**Few differences between Matlab and Python:**\n",
    "* Indexes start at 0 in Python (just like in C)\n",
    "* Need to import modules to use functions/classes"
   ]
  },
  {
   "cell_type": "markdown",
   "metadata": {
    "slideshow": {
     "slide_type": "subslide"
    }
   },
   "source": [
    "### Importing modules and functions"
   ]
  },
  {
   "cell_type": "code",
   "execution_count": 63,
   "metadata": {
    "slideshow": {
     "slide_type": "fragment"
    }
   },
   "outputs": [
    {
     "name": "stdout",
     "output_type": "stream",
     "text": [
      "3.141592653589793\n"
     ]
    }
   ],
   "source": [
    "import numpy\n",
    "a = numpy.pi\n",
    "print(a)"
   ]
  },
  {
   "cell_type": "code",
   "execution_count": 64,
   "metadata": {
    "slideshow": {
     "slide_type": "fragment"
    }
   },
   "outputs": [
    {
     "name": "stdout",
     "output_type": "stream",
     "text": [
      "3.141592653589793\n"
     ]
    }
   ],
   "source": [
    "import numpy as np \n",
    "a = np.pi\n",
    "print(a)"
   ]
  },
  {
   "cell_type": "code",
   "execution_count": 81,
   "metadata": {
    "slideshow": {
     "slide_type": "fragment"
    }
   },
   "outputs": [
    {
     "name": "stdout",
     "output_type": "stream",
     "text": [
      "3.141592653589793\n"
     ]
    }
   ],
   "source": [
    "# Try to avoid this\n",
    "from numpy import *\n",
    "print(pi)"
   ]
  },
  {
   "cell_type": "code",
   "execution_count": 26,
   "metadata": {
    "slideshow": {
     "slide_type": "fragment"
    }
   },
   "outputs": [
    {
     "name": "stdout",
     "output_type": "stream",
     "text": [
      "0.09950083263923602\n"
     ]
    }
   ],
   "source": [
    "from scipy.special import jv\n",
    "print(jv(1,0.2))"
   ]
  },
  {
   "cell_type": "code",
   "execution_count": 83,
   "metadata": {
    "slideshow": {
     "slide_type": "fragment"
    }
   },
   "outputs": [
    {
     "name": "stdout",
     "output_type": "stream",
     "text": [
      "3.141592653589793\n"
     ]
    }
   ],
   "source": [
    "from numpy import pi as pie\n",
    "print(pie)"
   ]
  },
  {
   "cell_type": "markdown",
   "metadata": {},
   "source": [
    "### Numpy and Scipy\n",
    "\n",
    "**Matlab-ish functions for Python**\n",
    "\n",
    "#### Linear algebra\n",
    "\n",
    "**scipy.linalg vs numpy.linalg**\n",
    "\n",
    "* `scipy.linalg` contains all the functions in `numpy.linalg` plus some other more advanced ones not contained in numpy.linalg.\n",
    "* `scipy.linalg` generally more optimized (always compiled with BLAS/LAPACK support)"
   ]
  },
  {
   "cell_type": "markdown",
   "metadata": {
    "slideshow": {
     "slide_type": "subslide"
    }
   },
   "source": [
    "##### Basic functions\n",
    "\n",
    "Similar to Matlab"
   ]
  },
  {
   "cell_type": "code",
   "execution_count": 84,
   "metadata": {
    "slideshow": {
     "slide_type": "fragment"
    }
   },
   "outputs": [
    {
     "name": "stdout",
     "output_type": "stream",
     "text": [
      "1.1071487177940904\n"
     ]
    }
   ],
   "source": [
    "import numpy as np\n",
    "a = 1+2j\n",
    "print(np.angle(a))"
   ]
  },
  {
   "cell_type": "code",
   "execution_count": 85,
   "metadata": {
    "slideshow": {
     "slide_type": "fragment"
    }
   },
   "outputs": [
    {
     "name": "stdout",
     "output_type": "stream",
     "text": [
      "1.0\n"
     ]
    }
   ],
   "source": [
    "b = np.sin(np.pi/2.)\n",
    "print(b)"
   ]
  },
  {
   "cell_type": "code",
   "execution_count": 86,
   "metadata": {
    "slideshow": {
     "slide_type": "subslide"
    }
   },
   "outputs": [
    {
     "data": {
      "text/plain": [
       "2.0"
      ]
     },
     "execution_count": 86,
     "metadata": {},
     "output_type": "execute_result"
    }
   ],
   "source": [
    "np.ceil(1.67)"
   ]
  },
  {
   "cell_type": "markdown",
   "metadata": {
    "slideshow": {
     "slide_type": "subslide"
    }
   },
   "source": [
    "##### Creating tensors "
   ]
  },
  {
   "cell_type": "code",
   "execution_count": 67,
   "metadata": {
    "slideshow": {
     "slide_type": "fragment"
    }
   },
   "outputs": [
    {
     "name": "stdout",
     "output_type": "stream",
     "text": [
      "[[1 2 3]\n",
      " [4 5 6]\n",
      " [7 8 9]]\n"
     ]
    }
   ],
   "source": [
    "import numpy as np\n",
    "A = np.array([[1,2,3],[4,5,6],[7,8,9]])\n",
    "print(A)"
   ]
  },
  {
   "cell_type": "markdown",
   "metadata": {
    "slideshow": {
     "slide_type": "fragment"
    }
   },
   "source": [
    " </style><div class=warn>\n",
    "**Warning:** Remember that indices start at 0 in Python  \n",
    "<div/>"
   ]
  },
  {
   "cell_type": "markdown",
   "metadata": {
    "slideshow": {
     "slide_type": "fragment"
    }
   },
   "source": [
    "\n",
    "**Matlab**\n",
    "$\n",
    "\\begin{bmatrix}\n",
    "(1,1) & \\cdots & (0,m) \\\\\n",
    "\\vdots & \\ddots & \\vdots \\\\\n",
    "(n,0) & \\cdots & (n,m)\n",
    "\\end{bmatrix}\n",
    "$\n",
    "\n",
    "**Python**\n",
    "$\n",
    "\\begin{bmatrix}\n",
    "(0,0) & \\cdots & (0,m-1) \\\\\n",
    "\\vdots & \\ddots & \\vdots \\\\\n",
    "(n-1,0) & \\cdots & (n-1,m-1)\n",
    "\\end{bmatrix}\n",
    "$"
   ]
  },
  {
   "cell_type": "code",
   "execution_count": 88,
   "metadata": {
    "slideshow": {
     "slide_type": "subslide"
    }
   },
   "outputs": [
    {
     "name": "stdout",
     "output_type": "stream",
     "text": [
      "[[5 6]\n",
      " [8 9]]\n"
     ]
    }
   ],
   "source": [
    "print(A[1:3,1:3])"
   ]
  },
  {
   "cell_type": "code",
   "execution_count": null,
   "metadata": {
    "deletable": false,
    "editable": false,
    "run_control": {
     "frozen": true
    },
    "scrolled": true,
    "slideshow": {
     "slide_type": "fragment"
    }
   },
   "outputs": [],
   "source": [
    "print(A[3,3])"
   ]
  },
  {
   "cell_type": "markdown",
   "metadata": {
    "slideshow": {
     "slide_type": "subslide"
    }
   },
   "source": [
    "###### Matlab to Python"
   ]
  },
  {
   "cell_type": "markdown",
   "metadata": {},
   "source": [
    "|        Task                     |         Matlab         |               Python                 |\n",
    "|:-------------------------------:|:----------------------:|:------------------------------------:|\n",
    "| Integers from $j$ to $n$ by step $k$| `A = j:k:n`        | `A = np.arange(j, n+1, k)`           | \n",
    "| Linearly spaced vector          |`A = linspace(1, 5, 10)`| `A = np.linspace(1, 5, 10)`           |\n",
    "| Create a Matrix                 | `A = [1 2; 3 4]`       |  `A = np.array([[1, 2], [3, 4]])`    | \n",
    "| Zero matrix                     | `A = zeros(10,10)`     | `A = np.zeros((10, 10))`             |\n",
    "| One matrix                      | `A = ones(10,10)`      | `A = np.ones((10,10)) `              |\n",
    "| Empty matrix                    | `int16.empty(10,10)` <br> `double.empty(10,10)` <br> etc.    | `A = np.empty((10,10), dtype = np.float16)`<br>`np.empty((10,10), dtype = np.float32)`<br>etc.         |\n",
    "| Identity matrix                 | `A = eye(10,10)`       |  `A = np.eye(10)`                    |\n",
    "| Diagonal matrix                 | `A = diag([1 2 3])`    | `A = np.diag([1 2 3])`               |\n",
    "| Uniform random numbers          | `A = rand(2, 2)`       |  `A = np.random.rand(2, 2)`          |\n",
    "| Gaussian random numbers         | `A = randn(2, 2)`      |  `A = np.random.randn(2, 2)`         |\n",
    "| Generate 2D mesh                | `x = 1:3;y = 1:5;`<br>`[X,Y] = meshgrid(x,y)` | `x = np.arange(1,4);x = np.arange(1,6)`<br>`X,Y = np.meshgrid(x,x)`|"
   ]
  },
  {
   "cell_type": "markdown",
   "metadata": {
    "slideshow": {
     "slide_type": "subslide"
    }
   },
   "source": [
    " </style><div class=rmk>\n",
    "**Remark:** The synthax can be simplified by importing the functions beforehand.\n",
    "<div/>"
   ]
  },
  {
   "cell_type": "code",
   "execution_count": 90,
   "metadata": {
    "slideshow": {
     "slide_type": "fragment"
    }
   },
   "outputs": [],
   "source": [
    "from numpy.random import rand, randn\n",
    "from numpy import eye\n",
    "\n",
    "A = eye(5)\n",
    "B = randn(5,5)\n",
    "C = rand(5,5)"
   ]
  },
  {
   "cell_type": "code",
   "execution_count": 91,
   "metadata": {
    "slideshow": {
     "slide_type": "fragment"
    }
   },
   "outputs": [],
   "source": [
    "from numpy.random import *\n",
    "A = randn(5,5)\n"
   ]
  },
  {
   "cell_type": "markdown",
   "metadata": {
    "slideshow": {
     "slide_type": "fragment"
    }
   },
   "source": [
    " </style><div class=warn>\n",
    "**Warning:** Using `*` is dangerous because it can override other functions without you noticing.\n",
    "    For instance `max()` is a standard function of `Python`, but there is also `np.max()`.\n",
    "    Thus, by doing `from numpy import *`, you replace `max()` by `np.max()`. \n",
    "<div/>"
   ]
  },
  {
   "cell_type": "markdown",
   "metadata": {
    "slideshow": {
     "slide_type": "subslide"
    }
   },
   "source": [
    "###### Data types\n",
    "\n",
    "Especially important to state data type upon creation of array when it is iniatlized before being filled."
   ]
  },
  {
   "cell_type": "code",
   "execution_count": 92,
   "metadata": {
    "slideshow": {
     "slide_type": "fragment"
    }
   },
   "outputs": [
    {
     "name": "stdout",
     "output_type": "stream",
     "text": [
      "[ 0.+1.j  1.+1.j  4.+1.j  9.+1.j 16.+1.j 25.+1.j 36.+1.j 49.+1.j 64.+1.j\n",
      " 81.+1.j]\n"
     ]
    }
   ],
   "source": [
    "A = np.empty(10,dtype=np.complex)\n",
    "# Allocate memory but do not fill the matrix, unlike zeros, saves time for large matrices.\n",
    "for i in range(10):\n",
    "    A[i] = i**2 + complex(0,1)*1.\n",
    "print(A)"
   ]
  },
  {
   "cell_type": "code",
   "execution_count": 93,
   "metadata": {
    "slideshow": {
     "slide_type": "fragment"
    }
   },
   "outputs": [
    {
     "name": "stdout",
     "output_type": "stream",
     "text": [
      "complex128\n"
     ]
    }
   ],
   "source": [
    "print(A.dtype)  "
   ]
  },
  {
   "cell_type": "markdown",
   "metadata": {
    "slideshow": {
     "slide_type": "fragment"
    }
   },
   "source": [
    "More information about data types [here](https://docs.scipy.org/doc/numpy-1.13.0/reference/arrays.dtypes.html)"
   ]
  },
  {
   "cell_type": "markdown",
   "metadata": {
    "slideshow": {
     "slide_type": "subslide"
    }
   },
   "source": [
    "###### Casting types"
   ]
  },
  {
   "cell_type": "code",
   "execution_count": 94,
   "metadata": {
    "slideshow": {
     "slide_type": "fragment"
    }
   },
   "outputs": [
    {
     "name": "stdout",
     "output_type": "stream",
     "text": [
      "[7.91635993 4.26973254 4.97313223]\n",
      "float64\n"
     ]
    }
   ],
   "source": [
    "A = 10*np.random.rand(3)\n",
    "print(A)\n",
    "print(A.dtype)\n"
   ]
  },
  {
   "cell_type": "code",
   "execution_count": 95,
   "metadata": {
    "slideshow": {
     "slide_type": "fragment"
    }
   },
   "outputs": [
    {
     "name": "stdout",
     "output_type": "stream",
     "text": [
      "[7 4 4]\n",
      "int64\n"
     ]
    }
   ],
   "source": [
    "B = A.astype(int)\n",
    "print(B)\n",
    "print(B.dtype)"
   ]
  },
  {
   "cell_type": "markdown",
   "metadata": {
    "slideshow": {
     "slide_type": "subslide"
    }
   },
   "source": [
    "##### Basic array manipulations"
   ]
  },
  {
   "cell_type": "markdown",
   "metadata": {
    "slideshow": {
     "slide_type": "-"
    }
   },
   "source": [
    "|        Task                     |         Matlab         |               Python                        |\n",
    "|:-------------------------------:|:----------------------:|:-------------------------------------------:|\n",
    "| Transpose                       | `A.'`                  |  `A.T`   or `A.transpose()`                 |\n",
    "| Transpose conjugate             | `A'`                   |  `A.T.conj()` or `A.transpose().conj()`     |\n",
    "| Reshape                         | `A = 1:10`<br>`B = reshape(A, 5, 2)`| `A = np.arange(10)`<br>`B = A.reshape(5,2)`|\n",
    "| Flip left/right                 | `fliplr(A)`            | `np.fliplr(A)` or `np.flip(A,axis = 1)`     |\n",
    "| Flip up/down                    | `fliplr(A)`            | `np.flipud(A)` or `np.flip(A,axis = 0)`     |\n",
    "| Convert matrix to vector        | `A(:)`                 | `np.flatten(A)`                             |\n",
    "| Repeat matrix                   | `repmat(A, 3, 4)`      | `np.tile(A, (4, 3))`                        |"
   ]
  },
  {
   "cell_type": "markdown",
   "metadata": {
    "slideshow": {
     "slide_type": "subslide"
    }
   },
   "source": [
    "##### Array dimension manipulations and indexing"
   ]
  },
  {
   "cell_type": "markdown",
   "metadata": {
    "slideshow": {
     "slide_type": "subslide"
    }
   },
   "source": [
    "###### Indexing\n",
    "\n",
    "Same indexing method as for lists, but arbitrary dimensions"
   ]
  },
  {
   "cell_type": "code",
   "execution_count": 96,
   "metadata": {
    "slideshow": {
     "slide_type": "fragment"
    }
   },
   "outputs": [
    {
     "name": "stdout",
     "output_type": "stream",
     "text": [
      "[9 7 5 3 1]\n"
     ]
    }
   ],
   "source": [
    "A = np.arange(10)\n",
    "print(A[::-2])"
   ]
  },
  {
   "cell_type": "code",
   "execution_count": 97,
   "metadata": {
    "slideshow": {
     "slide_type": "fragment"
    }
   },
   "outputs": [
    {
     "name": "stdout",
     "output_type": "stream",
     "text": [
      "[[0 1 2]\n",
      " [3 4 5]\n",
      " [6 7 8]]\n",
      "\n",
      "[[0 2]\n",
      " [6 8]]\n"
     ]
    }
   ],
   "source": [
    "A = np.arange(9).reshape(3,3)\n",
    "print(A)\n",
    "print('')\n",
    "print(A[::2,::2])"
   ]
  },
  {
   "cell_type": "code",
   "execution_count": 98,
   "metadata": {
    "slideshow": {
     "slide_type": "fragment"
    }
   },
   "outputs": [
    {
     "name": "stdout",
     "output_type": "stream",
     "text": [
      "(2, 3, 1)\n"
     ]
    }
   ],
   "source": [
    "A = np.array(([[[1],[2],[3]], [[4],[5],[6]]]))\n",
    "print(A.shape)"
   ]
  },
  {
   "cell_type": "code",
   "execution_count": 99,
   "metadata": {
    "slideshow": {
     "slide_type": "subslide"
    }
   },
   "outputs": [
    {
     "name": "stdout",
     "output_type": "stream",
     "text": [
      "[[1]\n",
      " [2]\n",
      " [3]]\n",
      "\n",
      "(3, 1)\n"
     ]
    }
   ],
   "source": [
    "# taking the first element of the first dimension\n",
    "B = A[0,:,:]\n",
    "print(B)\n",
    "print('')\n",
    "print(B.shape)"
   ]
  },
  {
   "cell_type": "code",
   "execution_count": 100,
   "metadata": {
    "slideshow": {
     "slide_type": "fragment"
    }
   },
   "outputs": [
    {
     "name": "stdout",
     "output_type": "stream",
     "text": [
      "[[1]\n",
      " [2]\n",
      " [3]]\n"
     ]
    }
   ],
   "source": [
    "#similarly, three dots keeps the rest unchanged\n",
    "B = A[0,...]\n",
    "print(B)"
   ]
  },
  {
   "cell_type": "markdown",
   "metadata": {
    "slideshow": {
     "slide_type": "subslide"
    }
   },
   "source": [
    "Can also index by boolean array of the same size"
   ]
  },
  {
   "cell_type": "code",
   "execution_count": 65,
   "metadata": {
    "slideshow": {
     "slide_type": "fragment"
    }
   },
   "outputs": [
    {
     "name": "stdout",
     "output_type": "stream",
     "text": [
      "[[0 1 2]\n",
      " [3 4 5]\n",
      " [6 7 8]]\n",
      "[[False False False]\n",
      " [ True  True  True]\n",
      " [ True  True  True]]\n"
     ]
    }
   ],
   "source": [
    "A = np.arange(9).reshape(3,3)\n",
    "print(A)\n",
    "Mask = A > 2 #IMPORTANT\n",
    "print(Mask)"
   ]
  },
  {
   "cell_type": "code",
   "execution_count": 102,
   "metadata": {
    "slideshow": {
     "slide_type": "fragment"
    }
   },
   "outputs": [
    {
     "name": "stdout",
     "output_type": "stream",
     "text": [
      "[[0. 0. 0.]\n",
      " [1. 1. 1.]\n",
      " [1. 1. 1.]]\n"
     ]
    }
   ],
   "source": [
    "B = np.zeros(A.shape)\n",
    "B[Mask] = 1.\n",
    "print(B)"
   ]
  },
  {
   "cell_type": "markdown",
   "metadata": {
    "slideshow": {
     "slide_type": "subslide"
    }
   },
   "source": [
    "###### Increasing dimensions"
   ]
  },
  {
   "cell_type": "code",
   "execution_count": 66,
   "metadata": {
    "slideshow": {
     "slide_type": "fragment"
    }
   },
   "outputs": [
    {
     "name": "stdout",
     "output_type": "stream",
     "text": [
      "Shape of A = (2, 3)\n",
      "Shape of B = (2, 3, 1)\n",
      "Shape of C = (2, 1, 3)\n"
     ]
    }
   ],
   "source": [
    "A = np.arange(6).reshape(2,3)\n",
    "print(f\"Shape of A = {A.shape}\")\n",
    "# let's add a singleton dimension in the last position\n",
    "B = A[...,None]\n",
    "print(f\"Shape of B = {B.shape}\")\n",
    "# or in the middle position\n",
    "C = A[:,None,:]\n",
    "print(f\"Shape of C = {C.shape}\")"
   ]
  },
  {
   "cell_type": "markdown",
   "metadata": {
    "slideshow": {
     "slide_type": "fragment"
    }
   },
   "source": [
    "###### Reducing dimension"
   ]
  },
  {
   "cell_type": "code",
   "execution_count": 104,
   "metadata": {
    "slideshow": {
     "slide_type": "fragment"
    }
   },
   "outputs": [
    {
     "name": "stdout",
     "output_type": "stream",
     "text": [
      "Shape of A = (2, 3, 1)\n",
      "Shape of B = (2, 3)\n"
     ]
    }
   ],
   "source": [
    "A = np.array(([[[1],[2],[3]], [[4],[5],[6]]]))\n",
    "print(f\"Shape of A = {A.shape}\")\n",
    "# removing the last singleton dimension\n",
    "B = A.squeeze(axis=-1)\n",
    "print(f\"Shape of B = {B.shape}\")"
   ]
  },
  {
   "cell_type": "markdown",
   "metadata": {
    "slideshow": {
     "slide_type": "subslide"
    }
   },
   "source": [
    "###### Merging and concatenation"
   ]
  },
  {
   "cell_type": "code",
   "execution_count": 68,
   "metadata": {
    "slideshow": {
     "slide_type": "fragment"
    }
   },
   "outputs": [
    {
     "name": "stdout",
     "output_type": "stream",
     "text": [
      "Shape of A = (2, 3)\n",
      "Shape of B = (2, 3, 2)\n",
      "Shape of C = (2, 2, 3)\n"
     ]
    }
   ],
   "source": [
    "A = np.arange(6).reshape(2,3)\n",
    "print(f\"Shape of A = {A.shape}\")\n",
    "# Concatenate two tensors along the last dimension\n",
    "B = np.stack((A,A), axis = -1)\n",
    "print(f\"Shape of B = {B.shape}\")\n",
    "# Concatenate two tensors along the first dimension\n",
    "C = np.stack((A,A), axis = 1)\n",
    "print(f\"Shape of C = {C.shape}\")"
   ]
  },
  {
   "cell_type": "code",
   "execution_count": 69,
   "metadata": {
    "slideshow": {
     "slide_type": "subslide"
    }
   },
   "outputs": [
    {
     "name": "stdout",
     "output_type": "stream",
     "text": [
      "Shape of D = (4, 3)\n"
     ]
    }
   ],
   "source": [
    "# Vertical stacking\n",
    "D = np.vstack((A,A))\n",
    "print(f\"Shape of D = {D.shape}\")"
   ]
  },
  {
   "cell_type": "code",
   "execution_count": 70,
   "metadata": {
    "slideshow": {
     "slide_type": "fragment"
    }
   },
   "outputs": [
    {
     "name": "stdout",
     "output_type": "stream",
     "text": [
      "Shape of E = (2, 6)\n"
     ]
    }
   ],
   "source": [
    "# Horizontal stacking\n",
    "E = np.hstack((A,A))\n",
    "print(f\"Shape of E = {E.shape}\")"
   ]
  },
  {
   "cell_type": "code",
   "execution_count": 74,
   "metadata": {
    "slideshow": {
     "slide_type": "fragment"
    }
   },
   "outputs": [
    {
     "name": "stdout",
     "output_type": "stream",
     "text": [
      "Shape of F = (2, 6)\n"
     ]
    }
   ],
   "source": [
    "# Horizontal stacking\n",
    "F = np.concatenate((A,A), axis = -1)\n",
    "print(f\"Shape of F = {F.shape}\")"
   ]
  },
  {
   "cell_type": "markdown",
   "metadata": {
    "slideshow": {
     "slide_type": "subslide"
    }
   },
   "source": [
    "##### Array operations"
   ]
  },
  {
   "cell_type": "markdown",
   "metadata": {
    "slideshow": {
     "slide_type": "-"
    }
   },
   "source": [
    "|        Task                     |         Matlab         |               Python                        |\n",
    "|:-------------------------------:|:----------------------:|:-------------------------------------------:|\n",
    "| Matrix multiplication           | `A*B`                  |  `np.dot(A,B)` or `A.dot(B)` or **`A @ B`**     |\n",
    "| Element-wise multiplication     | `A.*B`                 |  `A * B`                                    |\n",
    "| Matrix power                    | `A^2`                  |  `linalg.matrix_power(A,2)`                 |\n",
    "| Element-wise power              | `A.^2`                 |  `np.power(A,2)` or `A**2`                 |\n",
    "| Matrix inversion                | `inv(A)` or `A^(-1)`   |  `np.linalg.inv(A)` or `scipy.linalg.inv(A)` |\n",
    "| Determinant                     | `det(A)`               |  `np.linalg.det(A)` or `scipy.linalg.det(A)` |\n",
    "| Eigenvalue decomposition        | `[vec,val] = eig(A)`       |  `val,vec = np.linalg.eig(A)`[<sup>*</sup>](#rmk_eig) <br>or `val,vec = scipy.linalg.eig(A)`|\n",
    "| Singular value decomposition    | `[U,S,V] = svd(A)`     | `U, S, Vh = np.linalg.svd(A)` </br> or `U, S, Vh = np.scipy.svd(A)` | \n",
    "| Euclidean norm                  | `nomr(A)`              | `np.linalg.norm(A)` or `scipy.linalg.norm` |\n",
    "| Solve linear system $Ax=b$ <br>(A square) | `A\\b`            | `np.linalg.solve(A, b)` or `scipy.linalg.solve(A,b)` |\n",
    "| Solve linear system $Ax=b$ <br>(A not square) | `A\\b`            | `np.linalg.lstsq(A,b)` or `scipy.linalg.lstsq(A, b)` |\n",
    "\n",
    "\n",
    "<span id=\"rmk_eig\"><sup>*</sup> There exist other functions more efficient for Hermitian matrices, sparse matrices etc...</span>"
   ]
  },
  {
   "cell_type": "markdown",
   "metadata": {
    "slideshow": {
     "slide_type": "fragment"
    }
   },
   "source": [
    " </style><div class=warn>\n",
    "**Warning:** To use the `linalg` sub-module of `scipy` you have to import it with `from scipy import linalg`. \n",
    "     `scipy.linalg` won't work.\n",
    "<div/>"
   ]
  },
  {
   "cell_type": "code",
   "execution_count": 108,
   "metadata": {},
   "outputs": [
    {
     "data": {
      "text/plain": [
       "array([[0, 3, 6],\n",
       "       [1, 4, 7],\n",
       "       [2, 5, 8]])"
      ]
     },
     "execution_count": 108,
     "metadata": {},
     "output_type": "execute_result"
    }
   ],
   "source": [
    "import numpy as np\n",
    "import scipy\n",
    "A = np.arange(9).reshape(3,3)\n",
    "from scipy import linalg\n",
    "linalg.norm(A)\n",
    "A.T.conj()"
   ]
  },
  {
   "cell_type": "markdown",
   "metadata": {
    "slideshow": {
     "slide_type": "subslide"
    }
   },
   "source": [
    "#### Useful functions"
   ]
  },
  {
   "cell_type": "markdown",
   "metadata": {
    "slideshow": {
     "slide_type": "fragment"
    }
   },
   "source": [
    "Basic functions have same (or almost) names in Numpy/Scipy and similar usage compared to Matlab, **but** you have to import them from the corresponding submodule. \n",
    "\n",
    "* `numpy.fft` or `scipy.fftpack` Packages\n",
    "\n",
    "Discrete Fourier transform functions.  \n",
    "Same function names as in Matlab"
   ]
  },
  {
   "cell_type": "code",
   "execution_count": 109,
   "metadata": {},
   "outputs": [],
   "source": [
    "from numpy.fft import fft,fftshift, ifft"
   ]
  },
  {
   "cell_type": "markdown",
   "metadata": {
    "slideshow": {
     "slide_type": "subslide"
    }
   },
   "source": [
    "#### Saving data"
   ]
  },
  {
   "cell_type": "code",
   "execution_count": 110,
   "metadata": {
    "slideshow": {
     "slide_type": "fragment"
    }
   },
   "outputs": [],
   "source": [
    "A = np.arange(3,10,2)\n",
    "B = np.linspace(0,1,5)\n",
    "file_name = 'saved_data.npz'\n",
    "np.savez(file_name,\n",
    "         saved_name_A=A,\n",
    "         saved_name_B=B)"
   ]
  },
  {
   "cell_type": "markdown",
   "metadata": {
    "slideshow": {
     "slide_type": "-"
    }
   },
   "source": [
    "Data saved as a dictionnary, the keys are the name put on the left side of the `=` signs, i.e. `saved_names_A` and `saved_names_B`"
   ]
  },
  {
   "cell_type": "code",
   "execution_count": 111,
   "metadata": {
    "slideshow": {
     "slide_type": "fragment"
    }
   },
   "outputs": [
    {
     "name": "stdout",
     "output_type": "stream",
     "text": [
      "A = [3 5 7 9]\n",
      "B = [0.   0.25 0.5  0.75 1.  ]\n"
     ]
    }
   ],
   "source": [
    "data = np.load(file_name)\n",
    "A = data['saved_name_A']\n",
    "B = data['saved_name_B']\n",
    "print(f\"A = {A}\\nB = {B}\")"
   ]
  },
  {
   "cell_type": "markdown",
   "metadata": {
    "slideshow": {
     "slide_type": "slide"
    }
   },
   "source": [
    "### Matplotlib"
   ]
  },
  {
   "cell_type": "markdown",
   "metadata": {
    "slideshow": {
     "slide_type": "-"
    }
   },
   "source": [
    "#### Import and setup"
   ]
  },
  {
   "cell_type": "code",
   "execution_count": 70,
   "metadata": {
    "slideshow": {
     "slide_type": "fragment"
    }
   },
   "outputs": [],
   "source": [
    "from matplotlib import pyplot as plt"
   ]
  },
  {
   "cell_type": "markdown",
   "metadata": {
    "slideshow": {
     "slide_type": "fragment"
    }
   },
   "source": [
    "###### Spyder\n",
    "\n",
    "For popup figure (like Matlab) go into\n",
    "`Tools > Preferences > IPython Console > Graphics > Graphics Backend` and select `Automatic`"
   ]
  },
  {
   "cell_type": "markdown",
   "metadata": {
    "slideshow": {
     "slide_type": "fragment"
    }
   },
   "source": [
    "###### Jupyter\n",
    "\n",
    "Use this magic command at the beginnning of the notebook to have interactive figures"
   ]
  },
  {
   "cell_type": "code",
   "execution_count": 72,
   "metadata": {
    "slideshow": {
     "slide_type": "-"
    }
   },
   "outputs": [],
   "source": [
    "%matplotlib notebook"
   ]
  },
  {
   "cell_type": "markdown",
   "metadata": {
    "slideshow": {
     "slide_type": "subslide"
    }
   },
   "source": [
    "#### Some examples"
   ]
  },
  {
   "cell_type": "markdown",
   "metadata": {
    "slideshow": {
     "slide_type": "subslide"
    }
   },
   "source": [
    "##### Plot"
   ]
  },
  {
   "cell_type": "code",
   "execution_count": 73,
   "metadata": {
    "slideshow": {
     "slide_type": "fragment"
    }
   },
   "outputs": [
    {
     "data": {
      "application/javascript": [
       "/* Put everything inside the global mpl namespace */\n",
       "window.mpl = {};\n",
       "\n",
       "\n",
       "mpl.get_websocket_type = function() {\n",
       "    if (typeof(WebSocket) !== 'undefined') {\n",
       "        return WebSocket;\n",
       "    } else if (typeof(MozWebSocket) !== 'undefined') {\n",
       "        return MozWebSocket;\n",
       "    } else {\n",
       "        alert('Your browser does not have WebSocket support.' +\n",
       "              'Please try Chrome, Safari or Firefox ≥ 6. ' +\n",
       "              'Firefox 4 and 5 are also supported but you ' +\n",
       "              'have to enable WebSockets in about:config.');\n",
       "    };\n",
       "}\n",
       "\n",
       "mpl.figure = function(figure_id, websocket, ondownload, parent_element) {\n",
       "    this.id = figure_id;\n",
       "\n",
       "    this.ws = websocket;\n",
       "\n",
       "    this.supports_binary = (this.ws.binaryType != undefined);\n",
       "\n",
       "    if (!this.supports_binary) {\n",
       "        var warnings = document.getElementById(\"mpl-warnings\");\n",
       "        if (warnings) {\n",
       "            warnings.style.display = 'block';\n",
       "            warnings.textContent = (\n",
       "                \"This browser does not support binary websocket messages. \" +\n",
       "                    \"Performance may be slow.\");\n",
       "        }\n",
       "    }\n",
       "\n",
       "    this.imageObj = new Image();\n",
       "\n",
       "    this.context = undefined;\n",
       "    this.message = undefined;\n",
       "    this.canvas = undefined;\n",
       "    this.rubberband_canvas = undefined;\n",
       "    this.rubberband_context = undefined;\n",
       "    this.format_dropdown = undefined;\n",
       "\n",
       "    this.image_mode = 'full';\n",
       "\n",
       "    this.root = $('<div/>');\n",
       "    this._root_extra_style(this.root)\n",
       "    this.root.attr('style', 'display: inline-block');\n",
       "\n",
       "    $(parent_element).append(this.root);\n",
       "\n",
       "    this._init_header(this);\n",
       "    this._init_canvas(this);\n",
       "    this._init_toolbar(this);\n",
       "\n",
       "    var fig = this;\n",
       "\n",
       "    this.waiting = false;\n",
       "\n",
       "    this.ws.onopen =  function () {\n",
       "            fig.send_message(\"supports_binary\", {value: fig.supports_binary});\n",
       "            fig.send_message(\"send_image_mode\", {});\n",
       "            if (mpl.ratio != 1) {\n",
       "                fig.send_message(\"set_dpi_ratio\", {'dpi_ratio': mpl.ratio});\n",
       "            }\n",
       "            fig.send_message(\"refresh\", {});\n",
       "        }\n",
       "\n",
       "    this.imageObj.onload = function() {\n",
       "            if (fig.image_mode == 'full') {\n",
       "                // Full images could contain transparency (where diff images\n",
       "                // almost always do), so we need to clear the canvas so that\n",
       "                // there is no ghosting.\n",
       "                fig.context.clearRect(0, 0, fig.canvas.width, fig.canvas.height);\n",
       "            }\n",
       "            fig.context.drawImage(fig.imageObj, 0, 0);\n",
       "        };\n",
       "\n",
       "    this.imageObj.onunload = function() {\n",
       "        fig.ws.close();\n",
       "    }\n",
       "\n",
       "    this.ws.onmessage = this._make_on_message_function(this);\n",
       "\n",
       "    this.ondownload = ondownload;\n",
       "}\n",
       "\n",
       "mpl.figure.prototype._init_header = function() {\n",
       "    var titlebar = $(\n",
       "        '<div class=\"ui-dialog-titlebar ui-widget-header ui-corner-all ' +\n",
       "        'ui-helper-clearfix\"/>');\n",
       "    var titletext = $(\n",
       "        '<div class=\"ui-dialog-title\" style=\"width: 100%; ' +\n",
       "        'text-align: center; padding: 3px;\"/>');\n",
       "    titlebar.append(titletext)\n",
       "    this.root.append(titlebar);\n",
       "    this.header = titletext[0];\n",
       "}\n",
       "\n",
       "\n",
       "\n",
       "mpl.figure.prototype._canvas_extra_style = function(canvas_div) {\n",
       "\n",
       "}\n",
       "\n",
       "\n",
       "mpl.figure.prototype._root_extra_style = function(canvas_div) {\n",
       "\n",
       "}\n",
       "\n",
       "mpl.figure.prototype._init_canvas = function() {\n",
       "    var fig = this;\n",
       "\n",
       "    var canvas_div = $('<div/>');\n",
       "\n",
       "    canvas_div.attr('style', 'position: relative; clear: both; outline: 0');\n",
       "\n",
       "    function canvas_keyboard_event(event) {\n",
       "        return fig.key_event(event, event['data']);\n",
       "    }\n",
       "\n",
       "    canvas_div.keydown('key_press', canvas_keyboard_event);\n",
       "    canvas_div.keyup('key_release', canvas_keyboard_event);\n",
       "    this.canvas_div = canvas_div\n",
       "    this._canvas_extra_style(canvas_div)\n",
       "    this.root.append(canvas_div);\n",
       "\n",
       "    var canvas = $('<canvas/>');\n",
       "    canvas.addClass('mpl-canvas');\n",
       "    canvas.attr('style', \"left: 0; top: 0; z-index: 0; outline: 0\")\n",
       "\n",
       "    this.canvas = canvas[0];\n",
       "    this.context = canvas[0].getContext(\"2d\");\n",
       "\n",
       "    var backingStore = this.context.backingStorePixelRatio ||\n",
       "\tthis.context.webkitBackingStorePixelRatio ||\n",
       "\tthis.context.mozBackingStorePixelRatio ||\n",
       "\tthis.context.msBackingStorePixelRatio ||\n",
       "\tthis.context.oBackingStorePixelRatio ||\n",
       "\tthis.context.backingStorePixelRatio || 1;\n",
       "\n",
       "    mpl.ratio = (window.devicePixelRatio || 1) / backingStore;\n",
       "\n",
       "    var rubberband = $('<canvas/>');\n",
       "    rubberband.attr('style', \"position: absolute; left: 0; top: 0; z-index: 1;\")\n",
       "\n",
       "    var pass_mouse_events = true;\n",
       "\n",
       "    canvas_div.resizable({\n",
       "        start: function(event, ui) {\n",
       "            pass_mouse_events = false;\n",
       "        },\n",
       "        resize: function(event, ui) {\n",
       "            fig.request_resize(ui.size.width, ui.size.height);\n",
       "        },\n",
       "        stop: function(event, ui) {\n",
       "            pass_mouse_events = true;\n",
       "            fig.request_resize(ui.size.width, ui.size.height);\n",
       "        },\n",
       "    });\n",
       "\n",
       "    function mouse_event_fn(event) {\n",
       "        if (pass_mouse_events)\n",
       "            return fig.mouse_event(event, event['data']);\n",
       "    }\n",
       "\n",
       "    rubberband.mousedown('button_press', mouse_event_fn);\n",
       "    rubberband.mouseup('button_release', mouse_event_fn);\n",
       "    // Throttle sequential mouse events to 1 every 20ms.\n",
       "    rubberband.mousemove('motion_notify', mouse_event_fn);\n",
       "\n",
       "    rubberband.mouseenter('figure_enter', mouse_event_fn);\n",
       "    rubberband.mouseleave('figure_leave', mouse_event_fn);\n",
       "\n",
       "    canvas_div.on(\"wheel\", function (event) {\n",
       "        event = event.originalEvent;\n",
       "        event['data'] = 'scroll'\n",
       "        if (event.deltaY < 0) {\n",
       "            event.step = 1;\n",
       "        } else {\n",
       "            event.step = -1;\n",
       "        }\n",
       "        mouse_event_fn(event);\n",
       "    });\n",
       "\n",
       "    canvas_div.append(canvas);\n",
       "    canvas_div.append(rubberband);\n",
       "\n",
       "    this.rubberband = rubberband;\n",
       "    this.rubberband_canvas = rubberband[0];\n",
       "    this.rubberband_context = rubberband[0].getContext(\"2d\");\n",
       "    this.rubberband_context.strokeStyle = \"#000000\";\n",
       "\n",
       "    this._resize_canvas = function(width, height) {\n",
       "        // Keep the size of the canvas, canvas container, and rubber band\n",
       "        // canvas in synch.\n",
       "        canvas_div.css('width', width)\n",
       "        canvas_div.css('height', height)\n",
       "\n",
       "        canvas.attr('width', width * mpl.ratio);\n",
       "        canvas.attr('height', height * mpl.ratio);\n",
       "        canvas.attr('style', 'width: ' + width + 'px; height: ' + height + 'px;');\n",
       "\n",
       "        rubberband.attr('width', width);\n",
       "        rubberband.attr('height', height);\n",
       "    }\n",
       "\n",
       "    // Set the figure to an initial 600x600px, this will subsequently be updated\n",
       "    // upon first draw.\n",
       "    this._resize_canvas(600, 600);\n",
       "\n",
       "    // Disable right mouse context menu.\n",
       "    $(this.rubberband_canvas).bind(\"contextmenu\",function(e){\n",
       "        return false;\n",
       "    });\n",
       "\n",
       "    function set_focus () {\n",
       "        canvas.focus();\n",
       "        canvas_div.focus();\n",
       "    }\n",
       "\n",
       "    window.setTimeout(set_focus, 100);\n",
       "}\n",
       "\n",
       "mpl.figure.prototype._init_toolbar = function() {\n",
       "    var fig = this;\n",
       "\n",
       "    var nav_element = $('<div/>')\n",
       "    nav_element.attr('style', 'width: 100%');\n",
       "    this.root.append(nav_element);\n",
       "\n",
       "    // Define a callback function for later on.\n",
       "    function toolbar_event(event) {\n",
       "        return fig.toolbar_button_onclick(event['data']);\n",
       "    }\n",
       "    function toolbar_mouse_event(event) {\n",
       "        return fig.toolbar_button_onmouseover(event['data']);\n",
       "    }\n",
       "\n",
       "    for(var toolbar_ind in mpl.toolbar_items) {\n",
       "        var name = mpl.toolbar_items[toolbar_ind][0];\n",
       "        var tooltip = mpl.toolbar_items[toolbar_ind][1];\n",
       "        var image = mpl.toolbar_items[toolbar_ind][2];\n",
       "        var method_name = mpl.toolbar_items[toolbar_ind][3];\n",
       "\n",
       "        if (!name) {\n",
       "            // put a spacer in here.\n",
       "            continue;\n",
       "        }\n",
       "        var button = $('<button/>');\n",
       "        button.addClass('ui-button ui-widget ui-state-default ui-corner-all ' +\n",
       "                        'ui-button-icon-only');\n",
       "        button.attr('role', 'button');\n",
       "        button.attr('aria-disabled', 'false');\n",
       "        button.click(method_name, toolbar_event);\n",
       "        button.mouseover(tooltip, toolbar_mouse_event);\n",
       "\n",
       "        var icon_img = $('<span/>');\n",
       "        icon_img.addClass('ui-button-icon-primary ui-icon');\n",
       "        icon_img.addClass(image);\n",
       "        icon_img.addClass('ui-corner-all');\n",
       "\n",
       "        var tooltip_span = $('<span/>');\n",
       "        tooltip_span.addClass('ui-button-text');\n",
       "        tooltip_span.html(tooltip);\n",
       "\n",
       "        button.append(icon_img);\n",
       "        button.append(tooltip_span);\n",
       "\n",
       "        nav_element.append(button);\n",
       "    }\n",
       "\n",
       "    var fmt_picker_span = $('<span/>');\n",
       "\n",
       "    var fmt_picker = $('<select/>');\n",
       "    fmt_picker.addClass('mpl-toolbar-option ui-widget ui-widget-content');\n",
       "    fmt_picker_span.append(fmt_picker);\n",
       "    nav_element.append(fmt_picker_span);\n",
       "    this.format_dropdown = fmt_picker[0];\n",
       "\n",
       "    for (var ind in mpl.extensions) {\n",
       "        var fmt = mpl.extensions[ind];\n",
       "        var option = $(\n",
       "            '<option/>', {selected: fmt === mpl.default_extension}).html(fmt);\n",
       "        fmt_picker.append(option)\n",
       "    }\n",
       "\n",
       "    // Add hover states to the ui-buttons\n",
       "    $( \".ui-button\" ).hover(\n",
       "        function() { $(this).addClass(\"ui-state-hover\");},\n",
       "        function() { $(this).removeClass(\"ui-state-hover\");}\n",
       "    );\n",
       "\n",
       "    var status_bar = $('<span class=\"mpl-message\"/>');\n",
       "    nav_element.append(status_bar);\n",
       "    this.message = status_bar[0];\n",
       "}\n",
       "\n",
       "mpl.figure.prototype.request_resize = function(x_pixels, y_pixels) {\n",
       "    // Request matplotlib to resize the figure. Matplotlib will then trigger a resize in the client,\n",
       "    // which will in turn request a refresh of the image.\n",
       "    this.send_message('resize', {'width': x_pixels, 'height': y_pixels});\n",
       "}\n",
       "\n",
       "mpl.figure.prototype.send_message = function(type, properties) {\n",
       "    properties['type'] = type;\n",
       "    properties['figure_id'] = this.id;\n",
       "    this.ws.send(JSON.stringify(properties));\n",
       "}\n",
       "\n",
       "mpl.figure.prototype.send_draw_message = function() {\n",
       "    if (!this.waiting) {\n",
       "        this.waiting = true;\n",
       "        this.ws.send(JSON.stringify({type: \"draw\", figure_id: this.id}));\n",
       "    }\n",
       "}\n",
       "\n",
       "\n",
       "mpl.figure.prototype.handle_save = function(fig, msg) {\n",
       "    var format_dropdown = fig.format_dropdown;\n",
       "    var format = format_dropdown.options[format_dropdown.selectedIndex].value;\n",
       "    fig.ondownload(fig, format);\n",
       "}\n",
       "\n",
       "\n",
       "mpl.figure.prototype.handle_resize = function(fig, msg) {\n",
       "    var size = msg['size'];\n",
       "    if (size[0] != fig.canvas.width || size[1] != fig.canvas.height) {\n",
       "        fig._resize_canvas(size[0], size[1]);\n",
       "        fig.send_message(\"refresh\", {});\n",
       "    };\n",
       "}\n",
       "\n",
       "mpl.figure.prototype.handle_rubberband = function(fig, msg) {\n",
       "    var x0 = msg['x0'] / mpl.ratio;\n",
       "    var y0 = (fig.canvas.height - msg['y0']) / mpl.ratio;\n",
       "    var x1 = msg['x1'] / mpl.ratio;\n",
       "    var y1 = (fig.canvas.height - msg['y1']) / mpl.ratio;\n",
       "    x0 = Math.floor(x0) + 0.5;\n",
       "    y0 = Math.floor(y0) + 0.5;\n",
       "    x1 = Math.floor(x1) + 0.5;\n",
       "    y1 = Math.floor(y1) + 0.5;\n",
       "    var min_x = Math.min(x0, x1);\n",
       "    var min_y = Math.min(y0, y1);\n",
       "    var width = Math.abs(x1 - x0);\n",
       "    var height = Math.abs(y1 - y0);\n",
       "\n",
       "    fig.rubberband_context.clearRect(\n",
       "        0, 0, fig.canvas.width, fig.canvas.height);\n",
       "\n",
       "    fig.rubberband_context.strokeRect(min_x, min_y, width, height);\n",
       "}\n",
       "\n",
       "mpl.figure.prototype.handle_figure_label = function(fig, msg) {\n",
       "    // Updates the figure title.\n",
       "    fig.header.textContent = msg['label'];\n",
       "}\n",
       "\n",
       "mpl.figure.prototype.handle_cursor = function(fig, msg) {\n",
       "    var cursor = msg['cursor'];\n",
       "    switch(cursor)\n",
       "    {\n",
       "    case 0:\n",
       "        cursor = 'pointer';\n",
       "        break;\n",
       "    case 1:\n",
       "        cursor = 'default';\n",
       "        break;\n",
       "    case 2:\n",
       "        cursor = 'crosshair';\n",
       "        break;\n",
       "    case 3:\n",
       "        cursor = 'move';\n",
       "        break;\n",
       "    }\n",
       "    fig.rubberband_canvas.style.cursor = cursor;\n",
       "}\n",
       "\n",
       "mpl.figure.prototype.handle_message = function(fig, msg) {\n",
       "    fig.message.textContent = msg['message'];\n",
       "}\n",
       "\n",
       "mpl.figure.prototype.handle_draw = function(fig, msg) {\n",
       "    // Request the server to send over a new figure.\n",
       "    fig.send_draw_message();\n",
       "}\n",
       "\n",
       "mpl.figure.prototype.handle_image_mode = function(fig, msg) {\n",
       "    fig.image_mode = msg['mode'];\n",
       "}\n",
       "\n",
       "mpl.figure.prototype.updated_canvas_event = function() {\n",
       "    // Called whenever the canvas gets updated.\n",
       "    this.send_message(\"ack\", {});\n",
       "}\n",
       "\n",
       "// A function to construct a web socket function for onmessage handling.\n",
       "// Called in the figure constructor.\n",
       "mpl.figure.prototype._make_on_message_function = function(fig) {\n",
       "    return function socket_on_message(evt) {\n",
       "        if (evt.data instanceof Blob) {\n",
       "            /* FIXME: We get \"Resource interpreted as Image but\n",
       "             * transferred with MIME type text/plain:\" errors on\n",
       "             * Chrome.  But how to set the MIME type?  It doesn't seem\n",
       "             * to be part of the websocket stream */\n",
       "            evt.data.type = \"image/png\";\n",
       "\n",
       "            /* Free the memory for the previous frames */\n",
       "            if (fig.imageObj.src) {\n",
       "                (window.URL || window.webkitURL).revokeObjectURL(\n",
       "                    fig.imageObj.src);\n",
       "            }\n",
       "\n",
       "            fig.imageObj.src = (window.URL || window.webkitURL).createObjectURL(\n",
       "                evt.data);\n",
       "            fig.updated_canvas_event();\n",
       "            fig.waiting = false;\n",
       "            return;\n",
       "        }\n",
       "        else if (typeof evt.data === 'string' && evt.data.slice(0, 21) == \"data:image/png;base64\") {\n",
       "            fig.imageObj.src = evt.data;\n",
       "            fig.updated_canvas_event();\n",
       "            fig.waiting = false;\n",
       "            return;\n",
       "        }\n",
       "\n",
       "        var msg = JSON.parse(evt.data);\n",
       "        var msg_type = msg['type'];\n",
       "\n",
       "        // Call the  \"handle_{type}\" callback, which takes\n",
       "        // the figure and JSON message as its only arguments.\n",
       "        try {\n",
       "            var callback = fig[\"handle_\" + msg_type];\n",
       "        } catch (e) {\n",
       "            console.log(\"No handler for the '\" + msg_type + \"' message type: \", msg);\n",
       "            return;\n",
       "        }\n",
       "\n",
       "        if (callback) {\n",
       "            try {\n",
       "                // console.log(\"Handling '\" + msg_type + \"' message: \", msg);\n",
       "                callback(fig, msg);\n",
       "            } catch (e) {\n",
       "                console.log(\"Exception inside the 'handler_\" + msg_type + \"' callback:\", e, e.stack, msg);\n",
       "            }\n",
       "        }\n",
       "    };\n",
       "}\n",
       "\n",
       "// from http://stackoverflow.com/questions/1114465/getting-mouse-location-in-canvas\n",
       "mpl.findpos = function(e) {\n",
       "    //this section is from http://www.quirksmode.org/js/events_properties.html\n",
       "    var targ;\n",
       "    if (!e)\n",
       "        e = window.event;\n",
       "    if (e.target)\n",
       "        targ = e.target;\n",
       "    else if (e.srcElement)\n",
       "        targ = e.srcElement;\n",
       "    if (targ.nodeType == 3) // defeat Safari bug\n",
       "        targ = targ.parentNode;\n",
       "\n",
       "    // jQuery normalizes the pageX and pageY\n",
       "    // pageX,Y are the mouse positions relative to the document\n",
       "    // offset() returns the position of the element relative to the document\n",
       "    var x = e.pageX - $(targ).offset().left;\n",
       "    var y = e.pageY - $(targ).offset().top;\n",
       "\n",
       "    return {\"x\": x, \"y\": y};\n",
       "};\n",
       "\n",
       "/*\n",
       " * return a copy of an object with only non-object keys\n",
       " * we need this to avoid circular references\n",
       " * http://stackoverflow.com/a/24161582/3208463\n",
       " */\n",
       "function simpleKeys (original) {\n",
       "  return Object.keys(original).reduce(function (obj, key) {\n",
       "    if (typeof original[key] !== 'object')\n",
       "        obj[key] = original[key]\n",
       "    return obj;\n",
       "  }, {});\n",
       "}\n",
       "\n",
       "mpl.figure.prototype.mouse_event = function(event, name) {\n",
       "    var canvas_pos = mpl.findpos(event)\n",
       "\n",
       "    if (name === 'button_press')\n",
       "    {\n",
       "        this.canvas.focus();\n",
       "        this.canvas_div.focus();\n",
       "    }\n",
       "\n",
       "    var x = canvas_pos.x * mpl.ratio;\n",
       "    var y = canvas_pos.y * mpl.ratio;\n",
       "\n",
       "    this.send_message(name, {x: x, y: y, button: event.button,\n",
       "                             step: event.step,\n",
       "                             guiEvent: simpleKeys(event)});\n",
       "\n",
       "    /* This prevents the web browser from automatically changing to\n",
       "     * the text insertion cursor when the button is pressed.  We want\n",
       "     * to control all of the cursor setting manually through the\n",
       "     * 'cursor' event from matplotlib */\n",
       "    event.preventDefault();\n",
       "    return false;\n",
       "}\n",
       "\n",
       "mpl.figure.prototype._key_event_extra = function(event, name) {\n",
       "    // Handle any extra behaviour associated with a key event\n",
       "}\n",
       "\n",
       "mpl.figure.prototype.key_event = function(event, name) {\n",
       "\n",
       "    // Prevent repeat events\n",
       "    if (name == 'key_press')\n",
       "    {\n",
       "        if (event.which === this._key)\n",
       "            return;\n",
       "        else\n",
       "            this._key = event.which;\n",
       "    }\n",
       "    if (name == 'key_release')\n",
       "        this._key = null;\n",
       "\n",
       "    var value = '';\n",
       "    if (event.ctrlKey && event.which != 17)\n",
       "        value += \"ctrl+\";\n",
       "    if (event.altKey && event.which != 18)\n",
       "        value += \"alt+\";\n",
       "    if (event.shiftKey && event.which != 16)\n",
       "        value += \"shift+\";\n",
       "\n",
       "    value += 'k';\n",
       "    value += event.which.toString();\n",
       "\n",
       "    this._key_event_extra(event, name);\n",
       "\n",
       "    this.send_message(name, {key: value,\n",
       "                             guiEvent: simpleKeys(event)});\n",
       "    return false;\n",
       "}\n",
       "\n",
       "mpl.figure.prototype.toolbar_button_onclick = function(name) {\n",
       "    if (name == 'download') {\n",
       "        this.handle_save(this, null);\n",
       "    } else {\n",
       "        this.send_message(\"toolbar_button\", {name: name});\n",
       "    }\n",
       "};\n",
       "\n",
       "mpl.figure.prototype.toolbar_button_onmouseover = function(tooltip) {\n",
       "    this.message.textContent = tooltip;\n",
       "};\n",
       "mpl.toolbar_items = [[\"Home\", \"Reset original view\", \"fa fa-home icon-home\", \"home\"], [\"Back\", \"Back to previous view\", \"fa fa-arrow-left icon-arrow-left\", \"back\"], [\"Forward\", \"Forward to next view\", \"fa fa-arrow-right icon-arrow-right\", \"forward\"], [\"\", \"\", \"\", \"\"], [\"Pan\", \"Pan axes with left mouse, zoom with right\", \"fa fa-arrows icon-move\", \"pan\"], [\"Zoom\", \"Zoom to rectangle\", \"fa fa-square-o icon-check-empty\", \"zoom\"], [\"\", \"\", \"\", \"\"], [\"Download\", \"Download plot\", \"fa fa-floppy-o icon-save\", \"download\"]];\n",
       "\n",
       "mpl.extensions = [\"eps\", \"jpeg\", \"pdf\", \"png\", \"ps\", \"raw\", \"svg\", \"tif\"];\n",
       "\n",
       "mpl.default_extension = \"png\";var comm_websocket_adapter = function(comm) {\n",
       "    // Create a \"websocket\"-like object which calls the given IPython comm\n",
       "    // object with the appropriate methods. Currently this is a non binary\n",
       "    // socket, so there is still some room for performance tuning.\n",
       "    var ws = {};\n",
       "\n",
       "    ws.close = function() {\n",
       "        comm.close()\n",
       "    };\n",
       "    ws.send = function(m) {\n",
       "        //console.log('sending', m);\n",
       "        comm.send(m);\n",
       "    };\n",
       "    // Register the callback with on_msg.\n",
       "    comm.on_msg(function(msg) {\n",
       "        //console.log('receiving', msg['content']['data'], msg);\n",
       "        // Pass the mpl event to the overridden (by mpl) onmessage function.\n",
       "        ws.onmessage(msg['content']['data'])\n",
       "    });\n",
       "    return ws;\n",
       "}\n",
       "\n",
       "mpl.mpl_figure_comm = function(comm, msg) {\n",
       "    // This is the function which gets called when the mpl process\n",
       "    // starts-up an IPython Comm through the \"matplotlib\" channel.\n",
       "\n",
       "    var id = msg.content.data.id;\n",
       "    // Get hold of the div created by the display call when the Comm\n",
       "    // socket was opened in Python.\n",
       "    var element = $(\"#\" + id);\n",
       "    var ws_proxy = comm_websocket_adapter(comm)\n",
       "\n",
       "    function ondownload(figure, format) {\n",
       "        window.open(figure.imageObj.src);\n",
       "    }\n",
       "\n",
       "    var fig = new mpl.figure(id, ws_proxy,\n",
       "                           ondownload,\n",
       "                           element.get(0));\n",
       "\n",
       "    // Call onopen now - mpl needs it, as it is assuming we've passed it a real\n",
       "    // web socket which is closed, not our websocket->open comm proxy.\n",
       "    ws_proxy.onopen();\n",
       "\n",
       "    fig.parent_element = element.get(0);\n",
       "    fig.cell_info = mpl.find_output_cell(\"<div id='\" + id + \"'></div>\");\n",
       "    if (!fig.cell_info) {\n",
       "        console.error(\"Failed to find cell for figure\", id, fig);\n",
       "        return;\n",
       "    }\n",
       "\n",
       "    var output_index = fig.cell_info[2]\n",
       "    var cell = fig.cell_info[0];\n",
       "\n",
       "};\n",
       "\n",
       "mpl.figure.prototype.handle_close = function(fig, msg) {\n",
       "    var width = fig.canvas.width/mpl.ratio\n",
       "    fig.root.unbind('remove')\n",
       "\n",
       "    // Update the output cell to use the data from the current canvas.\n",
       "    fig.push_to_output();\n",
       "    var dataURL = fig.canvas.toDataURL();\n",
       "    // Re-enable the keyboard manager in IPython - without this line, in FF,\n",
       "    // the notebook keyboard shortcuts fail.\n",
       "    IPython.keyboard_manager.enable()\n",
       "    $(fig.parent_element).html('<img src=\"' + dataURL + '\" width=\"' + width + '\">');\n",
       "    fig.close_ws(fig, msg);\n",
       "}\n",
       "\n",
       "mpl.figure.prototype.close_ws = function(fig, msg){\n",
       "    fig.send_message('closing', msg);\n",
       "    // fig.ws.close()\n",
       "}\n",
       "\n",
       "mpl.figure.prototype.push_to_output = function(remove_interactive) {\n",
       "    // Turn the data on the canvas into data in the output cell.\n",
       "    var width = this.canvas.width/mpl.ratio\n",
       "    var dataURL = this.canvas.toDataURL();\n",
       "    this.cell_info[1]['text/html'] = '<img src=\"' + dataURL + '\" width=\"' + width + '\">';\n",
       "}\n",
       "\n",
       "mpl.figure.prototype.updated_canvas_event = function() {\n",
       "    // Tell IPython that the notebook contents must change.\n",
       "    IPython.notebook.set_dirty(true);\n",
       "    this.send_message(\"ack\", {});\n",
       "    var fig = this;\n",
       "    // Wait a second, then push the new image to the DOM so\n",
       "    // that it is saved nicely (might be nice to debounce this).\n",
       "    setTimeout(function () { fig.push_to_output() }, 1000);\n",
       "}\n",
       "\n",
       "mpl.figure.prototype._init_toolbar = function() {\n",
       "    var fig = this;\n",
       "\n",
       "    var nav_element = $('<div/>')\n",
       "    nav_element.attr('style', 'width: 100%');\n",
       "    this.root.append(nav_element);\n",
       "\n",
       "    // Define a callback function for later on.\n",
       "    function toolbar_event(event) {\n",
       "        return fig.toolbar_button_onclick(event['data']);\n",
       "    }\n",
       "    function toolbar_mouse_event(event) {\n",
       "        return fig.toolbar_button_onmouseover(event['data']);\n",
       "    }\n",
       "\n",
       "    for(var toolbar_ind in mpl.toolbar_items){\n",
       "        var name = mpl.toolbar_items[toolbar_ind][0];\n",
       "        var tooltip = mpl.toolbar_items[toolbar_ind][1];\n",
       "        var image = mpl.toolbar_items[toolbar_ind][2];\n",
       "        var method_name = mpl.toolbar_items[toolbar_ind][3];\n",
       "\n",
       "        if (!name) { continue; };\n",
       "\n",
       "        var button = $('<button class=\"btn btn-default\" href=\"#\" title=\"' + name + '\"><i class=\"fa ' + image + ' fa-lg\"></i></button>');\n",
       "        button.click(method_name, toolbar_event);\n",
       "        button.mouseover(tooltip, toolbar_mouse_event);\n",
       "        nav_element.append(button);\n",
       "    }\n",
       "\n",
       "    // Add the status bar.\n",
       "    var status_bar = $('<span class=\"mpl-message\" style=\"text-align:right; float: right;\"/>');\n",
       "    nav_element.append(status_bar);\n",
       "    this.message = status_bar[0];\n",
       "\n",
       "    // Add the close button to the window.\n",
       "    var buttongrp = $('<div class=\"btn-group inline pull-right\"></div>');\n",
       "    var button = $('<button class=\"btn btn-mini btn-primary\" href=\"#\" title=\"Stop Interaction\"><i class=\"fa fa-power-off icon-remove icon-large\"></i></button>');\n",
       "    button.click(function (evt) { fig.handle_close(fig, {}); } );\n",
       "    button.mouseover('Stop Interaction', toolbar_mouse_event);\n",
       "    buttongrp.append(button);\n",
       "    var titlebar = this.root.find($('.ui-dialog-titlebar'));\n",
       "    titlebar.prepend(buttongrp);\n",
       "}\n",
       "\n",
       "mpl.figure.prototype._root_extra_style = function(el){\n",
       "    var fig = this\n",
       "    el.on(\"remove\", function(){\n",
       "\tfig.close_ws(fig, {});\n",
       "    });\n",
       "}\n",
       "\n",
       "mpl.figure.prototype._canvas_extra_style = function(el){\n",
       "    // this is important to make the div 'focusable\n",
       "    el.attr('tabindex', 0)\n",
       "    // reach out to IPython and tell the keyboard manager to turn it's self\n",
       "    // off when our div gets focus\n",
       "\n",
       "    // location in version 3\n",
       "    if (IPython.notebook.keyboard_manager) {\n",
       "        IPython.notebook.keyboard_manager.register_events(el);\n",
       "    }\n",
       "    else {\n",
       "        // location in version 2\n",
       "        IPython.keyboard_manager.register_events(el);\n",
       "    }\n",
       "\n",
       "}\n",
       "\n",
       "mpl.figure.prototype._key_event_extra = function(event, name) {\n",
       "    var manager = IPython.notebook.keyboard_manager;\n",
       "    if (!manager)\n",
       "        manager = IPython.keyboard_manager;\n",
       "\n",
       "    // Check for shift+enter\n",
       "    if (event.shiftKey && event.which == 13) {\n",
       "        this.canvas_div.blur();\n",
       "        event.shiftKey = false;\n",
       "        // Send a \"J\" for go to next cell\n",
       "        event.which = 74;\n",
       "        event.keyCode = 74;\n",
       "        manager.command_mode();\n",
       "        manager.handle_keydown(event);\n",
       "    }\n",
       "}\n",
       "\n",
       "mpl.figure.prototype.handle_save = function(fig, msg) {\n",
       "    fig.ondownload(fig, null);\n",
       "}\n",
       "\n",
       "\n",
       "mpl.find_output_cell = function(html_output) {\n",
       "    // Return the cell and output element which can be found *uniquely* in the notebook.\n",
       "    // Note - this is a bit hacky, but it is done because the \"notebook_saving.Notebook\"\n",
       "    // IPython event is triggered only after the cells have been serialised, which for\n",
       "    // our purposes (turning an active figure into a static one), is too late.\n",
       "    var cells = IPython.notebook.get_cells();\n",
       "    var ncells = cells.length;\n",
       "    for (var i=0; i<ncells; i++) {\n",
       "        var cell = cells[i];\n",
       "        if (cell.cell_type === 'code'){\n",
       "            for (var j=0; j<cell.output_area.outputs.length; j++) {\n",
       "                var data = cell.output_area.outputs[j];\n",
       "                if (data.data) {\n",
       "                    // IPython >= 3 moved mimebundle to data attribute of output\n",
       "                    data = data.data;\n",
       "                }\n",
       "                if (data['text/html'] == html_output) {\n",
       "                    return [cell, data, j];\n",
       "                }\n",
       "            }\n",
       "        }\n",
       "    }\n",
       "}\n",
       "\n",
       "// Register the function which deals with the matplotlib target/channel.\n",
       "// The kernel may be null if the page has been refreshed.\n",
       "if (IPython.notebook.kernel != null) {\n",
       "    IPython.notebook.kernel.comm_manager.register_target('matplotlib', mpl.mpl_figure_comm);\n",
       "}\n"
      ],
      "text/plain": [
       "<IPython.core.display.Javascript object>"
      ]
     },
     "metadata": {},
     "output_type": "display_data"
    },
    {
     "data": {
      "text/html": [
       "<img src=\"data:image/png;base64,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\" width=\"639.8333333333334\">"
      ],
      "text/plain": [
       "<IPython.core.display.HTML object>"
      ]
     },
     "metadata": {},
     "output_type": "display_data"
    }
   ],
   "source": [
    "x = np.linspace(0,10,100);y = np.sin(x)\n",
    "plt.figure()\n",
    "plt.plot(x,y)\n",
    "plt.show()"
   ]
  },
  {
   "cell_type": "code",
   "execution_count": 115,
   "metadata": {
    "slideshow": {
     "slide_type": "subslide"
    }
   },
   "outputs": [
    {
     "data": {
      "application/javascript": [
       "/* Put everything inside the global mpl namespace */\n",
       "window.mpl = {};\n",
       "\n",
       "\n",
       "mpl.get_websocket_type = function() {\n",
       "    if (typeof(WebSocket) !== 'undefined') {\n",
       "        return WebSocket;\n",
       "    } else if (typeof(MozWebSocket) !== 'undefined') {\n",
       "        return MozWebSocket;\n",
       "    } else {\n",
       "        alert('Your browser does not have WebSocket support.' +\n",
       "              'Please try Chrome, Safari or Firefox ≥ 6. ' +\n",
       "              'Firefox 4 and 5 are also supported but you ' +\n",
       "              'have to enable WebSockets in about:config.');\n",
       "    };\n",
       "}\n",
       "\n",
       "mpl.figure = function(figure_id, websocket, ondownload, parent_element) {\n",
       "    this.id = figure_id;\n",
       "\n",
       "    this.ws = websocket;\n",
       "\n",
       "    this.supports_binary = (this.ws.binaryType != undefined);\n",
       "\n",
       "    if (!this.supports_binary) {\n",
       "        var warnings = document.getElementById(\"mpl-warnings\");\n",
       "        if (warnings) {\n",
       "            warnings.style.display = 'block';\n",
       "            warnings.textContent = (\n",
       "                \"This browser does not support binary websocket messages. \" +\n",
       "                    \"Performance may be slow.\");\n",
       "        }\n",
       "    }\n",
       "\n",
       "    this.imageObj = new Image();\n",
       "\n",
       "    this.context = undefined;\n",
       "    this.message = undefined;\n",
       "    this.canvas = undefined;\n",
       "    this.rubberband_canvas = undefined;\n",
       "    this.rubberband_context = undefined;\n",
       "    this.format_dropdown = undefined;\n",
       "\n",
       "    this.image_mode = 'full';\n",
       "\n",
       "    this.root = $('<div/>');\n",
       "    this._root_extra_style(this.root)\n",
       "    this.root.attr('style', 'display: inline-block');\n",
       "\n",
       "    $(parent_element).append(this.root);\n",
       "\n",
       "    this._init_header(this);\n",
       "    this._init_canvas(this);\n",
       "    this._init_toolbar(this);\n",
       "\n",
       "    var fig = this;\n",
       "\n",
       "    this.waiting = false;\n",
       "\n",
       "    this.ws.onopen =  function () {\n",
       "            fig.send_message(\"supports_binary\", {value: fig.supports_binary});\n",
       "            fig.send_message(\"send_image_mode\", {});\n",
       "            if (mpl.ratio != 1) {\n",
       "                fig.send_message(\"set_dpi_ratio\", {'dpi_ratio': mpl.ratio});\n",
       "            }\n",
       "            fig.send_message(\"refresh\", {});\n",
       "        }\n",
       "\n",
       "    this.imageObj.onload = function() {\n",
       "            if (fig.image_mode == 'full') {\n",
       "                // Full images could contain transparency (where diff images\n",
       "                // almost always do), so we need to clear the canvas so that\n",
       "                // there is no ghosting.\n",
       "                fig.context.clearRect(0, 0, fig.canvas.width, fig.canvas.height);\n",
       "            }\n",
       "            fig.context.drawImage(fig.imageObj, 0, 0);\n",
       "        };\n",
       "\n",
       "    this.imageObj.onunload = function() {\n",
       "        fig.ws.close();\n",
       "    }\n",
       "\n",
       "    this.ws.onmessage = this._make_on_message_function(this);\n",
       "\n",
       "    this.ondownload = ondownload;\n",
       "}\n",
       "\n",
       "mpl.figure.prototype._init_header = function() {\n",
       "    var titlebar = $(\n",
       "        '<div class=\"ui-dialog-titlebar ui-widget-header ui-corner-all ' +\n",
       "        'ui-helper-clearfix\"/>');\n",
       "    var titletext = $(\n",
       "        '<div class=\"ui-dialog-title\" style=\"width: 100%; ' +\n",
       "        'text-align: center; padding: 3px;\"/>');\n",
       "    titlebar.append(titletext)\n",
       "    this.root.append(titlebar);\n",
       "    this.header = titletext[0];\n",
       "}\n",
       "\n",
       "\n",
       "\n",
       "mpl.figure.prototype._canvas_extra_style = function(canvas_div) {\n",
       "\n",
       "}\n",
       "\n",
       "\n",
       "mpl.figure.prototype._root_extra_style = function(canvas_div) {\n",
       "\n",
       "}\n",
       "\n",
       "mpl.figure.prototype._init_canvas = function() {\n",
       "    var fig = this;\n",
       "\n",
       "    var canvas_div = $('<div/>');\n",
       "\n",
       "    canvas_div.attr('style', 'position: relative; clear: both; outline: 0');\n",
       "\n",
       "    function canvas_keyboard_event(event) {\n",
       "        return fig.key_event(event, event['data']);\n",
       "    }\n",
       "\n",
       "    canvas_div.keydown('key_press', canvas_keyboard_event);\n",
       "    canvas_div.keyup('key_release', canvas_keyboard_event);\n",
       "    this.canvas_div = canvas_div\n",
       "    this._canvas_extra_style(canvas_div)\n",
       "    this.root.append(canvas_div);\n",
       "\n",
       "    var canvas = $('<canvas/>');\n",
       "    canvas.addClass('mpl-canvas');\n",
       "    canvas.attr('style', \"left: 0; top: 0; z-index: 0; outline: 0\")\n",
       "\n",
       "    this.canvas = canvas[0];\n",
       "    this.context = canvas[0].getContext(\"2d\");\n",
       "\n",
       "    var backingStore = this.context.backingStorePixelRatio ||\n",
       "\tthis.context.webkitBackingStorePixelRatio ||\n",
       "\tthis.context.mozBackingStorePixelRatio ||\n",
       "\tthis.context.msBackingStorePixelRatio ||\n",
       "\tthis.context.oBackingStorePixelRatio ||\n",
       "\tthis.context.backingStorePixelRatio || 1;\n",
       "\n",
       "    mpl.ratio = (window.devicePixelRatio || 1) / backingStore;\n",
       "\n",
       "    var rubberband = $('<canvas/>');\n",
       "    rubberband.attr('style', \"position: absolute; left: 0; top: 0; z-index: 1;\")\n",
       "\n",
       "    var pass_mouse_events = true;\n",
       "\n",
       "    canvas_div.resizable({\n",
       "        start: function(event, ui) {\n",
       "            pass_mouse_events = false;\n",
       "        },\n",
       "        resize: function(event, ui) {\n",
       "            fig.request_resize(ui.size.width, ui.size.height);\n",
       "        },\n",
       "        stop: function(event, ui) {\n",
       "            pass_mouse_events = true;\n",
       "            fig.request_resize(ui.size.width, ui.size.height);\n",
       "        },\n",
       "    });\n",
       "\n",
       "    function mouse_event_fn(event) {\n",
       "        if (pass_mouse_events)\n",
       "            return fig.mouse_event(event, event['data']);\n",
       "    }\n",
       "\n",
       "    rubberband.mousedown('button_press', mouse_event_fn);\n",
       "    rubberband.mouseup('button_release', mouse_event_fn);\n",
       "    // Throttle sequential mouse events to 1 every 20ms.\n",
       "    rubberband.mousemove('motion_notify', mouse_event_fn);\n",
       "\n",
       "    rubberband.mouseenter('figure_enter', mouse_event_fn);\n",
       "    rubberband.mouseleave('figure_leave', mouse_event_fn);\n",
       "\n",
       "    canvas_div.on(\"wheel\", function (event) {\n",
       "        event = event.originalEvent;\n",
       "        event['data'] = 'scroll'\n",
       "        if (event.deltaY < 0) {\n",
       "            event.step = 1;\n",
       "        } else {\n",
       "            event.step = -1;\n",
       "        }\n",
       "        mouse_event_fn(event);\n",
       "    });\n",
       "\n",
       "    canvas_div.append(canvas);\n",
       "    canvas_div.append(rubberband);\n",
       "\n",
       "    this.rubberband = rubberband;\n",
       "    this.rubberband_canvas = rubberband[0];\n",
       "    this.rubberband_context = rubberband[0].getContext(\"2d\");\n",
       "    this.rubberband_context.strokeStyle = \"#000000\";\n",
       "\n",
       "    this._resize_canvas = function(width, height) {\n",
       "        // Keep the size of the canvas, canvas container, and rubber band\n",
       "        // canvas in synch.\n",
       "        canvas_div.css('width', width)\n",
       "        canvas_div.css('height', height)\n",
       "\n",
       "        canvas.attr('width', width * mpl.ratio);\n",
       "        canvas.attr('height', height * mpl.ratio);\n",
       "        canvas.attr('style', 'width: ' + width + 'px; height: ' + height + 'px;');\n",
       "\n",
       "        rubberband.attr('width', width);\n",
       "        rubberband.attr('height', height);\n",
       "    }\n",
       "\n",
       "    // Set the figure to an initial 600x600px, this will subsequently be updated\n",
       "    // upon first draw.\n",
       "    this._resize_canvas(600, 600);\n",
       "\n",
       "    // Disable right mouse context menu.\n",
       "    $(this.rubberband_canvas).bind(\"contextmenu\",function(e){\n",
       "        return false;\n",
       "    });\n",
       "\n",
       "    function set_focus () {\n",
       "        canvas.focus();\n",
       "        canvas_div.focus();\n",
       "    }\n",
       "\n",
       "    window.setTimeout(set_focus, 100);\n",
       "}\n",
       "\n",
       "mpl.figure.prototype._init_toolbar = function() {\n",
       "    var fig = this;\n",
       "\n",
       "    var nav_element = $('<div/>')\n",
       "    nav_element.attr('style', 'width: 100%');\n",
       "    this.root.append(nav_element);\n",
       "\n",
       "    // Define a callback function for later on.\n",
       "    function toolbar_event(event) {\n",
       "        return fig.toolbar_button_onclick(event['data']);\n",
       "    }\n",
       "    function toolbar_mouse_event(event) {\n",
       "        return fig.toolbar_button_onmouseover(event['data']);\n",
       "    }\n",
       "\n",
       "    for(var toolbar_ind in mpl.toolbar_items) {\n",
       "        var name = mpl.toolbar_items[toolbar_ind][0];\n",
       "        var tooltip = mpl.toolbar_items[toolbar_ind][1];\n",
       "        var image = mpl.toolbar_items[toolbar_ind][2];\n",
       "        var method_name = mpl.toolbar_items[toolbar_ind][3];\n",
       "\n",
       "        if (!name) {\n",
       "            // put a spacer in here.\n",
       "            continue;\n",
       "        }\n",
       "        var button = $('<button/>');\n",
       "        button.addClass('ui-button ui-widget ui-state-default ui-corner-all ' +\n",
       "                        'ui-button-icon-only');\n",
       "        button.attr('role', 'button');\n",
       "        button.attr('aria-disabled', 'false');\n",
       "        button.click(method_name, toolbar_event);\n",
       "        button.mouseover(tooltip, toolbar_mouse_event);\n",
       "\n",
       "        var icon_img = $('<span/>');\n",
       "        icon_img.addClass('ui-button-icon-primary ui-icon');\n",
       "        icon_img.addClass(image);\n",
       "        icon_img.addClass('ui-corner-all');\n",
       "\n",
       "        var tooltip_span = $('<span/>');\n",
       "        tooltip_span.addClass('ui-button-text');\n",
       "        tooltip_span.html(tooltip);\n",
       "\n",
       "        button.append(icon_img);\n",
       "        button.append(tooltip_span);\n",
       "\n",
       "        nav_element.append(button);\n",
       "    }\n",
       "\n",
       "    var fmt_picker_span = $('<span/>');\n",
       "\n",
       "    var fmt_picker = $('<select/>');\n",
       "    fmt_picker.addClass('mpl-toolbar-option ui-widget ui-widget-content');\n",
       "    fmt_picker_span.append(fmt_picker);\n",
       "    nav_element.append(fmt_picker_span);\n",
       "    this.format_dropdown = fmt_picker[0];\n",
       "\n",
       "    for (var ind in mpl.extensions) {\n",
       "        var fmt = mpl.extensions[ind];\n",
       "        var option = $(\n",
       "            '<option/>', {selected: fmt === mpl.default_extension}).html(fmt);\n",
       "        fmt_picker.append(option)\n",
       "    }\n",
       "\n",
       "    // Add hover states to the ui-buttons\n",
       "    $( \".ui-button\" ).hover(\n",
       "        function() { $(this).addClass(\"ui-state-hover\");},\n",
       "        function() { $(this).removeClass(\"ui-state-hover\");}\n",
       "    );\n",
       "\n",
       "    var status_bar = $('<span class=\"mpl-message\"/>');\n",
       "    nav_element.append(status_bar);\n",
       "    this.message = status_bar[0];\n",
       "}\n",
       "\n",
       "mpl.figure.prototype.request_resize = function(x_pixels, y_pixels) {\n",
       "    // Request matplotlib to resize the figure. Matplotlib will then trigger a resize in the client,\n",
       "    // which will in turn request a refresh of the image.\n",
       "    this.send_message('resize', {'width': x_pixels, 'height': y_pixels});\n",
       "}\n",
       "\n",
       "mpl.figure.prototype.send_message = function(type, properties) {\n",
       "    properties['type'] = type;\n",
       "    properties['figure_id'] = this.id;\n",
       "    this.ws.send(JSON.stringify(properties));\n",
       "}\n",
       "\n",
       "mpl.figure.prototype.send_draw_message = function() {\n",
       "    if (!this.waiting) {\n",
       "        this.waiting = true;\n",
       "        this.ws.send(JSON.stringify({type: \"draw\", figure_id: this.id}));\n",
       "    }\n",
       "}\n",
       "\n",
       "\n",
       "mpl.figure.prototype.handle_save = function(fig, msg) {\n",
       "    var format_dropdown = fig.format_dropdown;\n",
       "    var format = format_dropdown.options[format_dropdown.selectedIndex].value;\n",
       "    fig.ondownload(fig, format);\n",
       "}\n",
       "\n",
       "\n",
       "mpl.figure.prototype.handle_resize = function(fig, msg) {\n",
       "    var size = msg['size'];\n",
       "    if (size[0] != fig.canvas.width || size[1] != fig.canvas.height) {\n",
       "        fig._resize_canvas(size[0], size[1]);\n",
       "        fig.send_message(\"refresh\", {});\n",
       "    };\n",
       "}\n",
       "\n",
       "mpl.figure.prototype.handle_rubberband = function(fig, msg) {\n",
       "    var x0 = msg['x0'] / mpl.ratio;\n",
       "    var y0 = (fig.canvas.height - msg['y0']) / mpl.ratio;\n",
       "    var x1 = msg['x1'] / mpl.ratio;\n",
       "    var y1 = (fig.canvas.height - msg['y1']) / mpl.ratio;\n",
       "    x0 = Math.floor(x0) + 0.5;\n",
       "    y0 = Math.floor(y0) + 0.5;\n",
       "    x1 = Math.floor(x1) + 0.5;\n",
       "    y1 = Math.floor(y1) + 0.5;\n",
       "    var min_x = Math.min(x0, x1);\n",
       "    var min_y = Math.min(y0, y1);\n",
       "    var width = Math.abs(x1 - x0);\n",
       "    var height = Math.abs(y1 - y0);\n",
       "\n",
       "    fig.rubberband_context.clearRect(\n",
       "        0, 0, fig.canvas.width, fig.canvas.height);\n",
       "\n",
       "    fig.rubberband_context.strokeRect(min_x, min_y, width, height);\n",
       "}\n",
       "\n",
       "mpl.figure.prototype.handle_figure_label = function(fig, msg) {\n",
       "    // Updates the figure title.\n",
       "    fig.header.textContent = msg['label'];\n",
       "}\n",
       "\n",
       "mpl.figure.prototype.handle_cursor = function(fig, msg) {\n",
       "    var cursor = msg['cursor'];\n",
       "    switch(cursor)\n",
       "    {\n",
       "    case 0:\n",
       "        cursor = 'pointer';\n",
       "        break;\n",
       "    case 1:\n",
       "        cursor = 'default';\n",
       "        break;\n",
       "    case 2:\n",
       "        cursor = 'crosshair';\n",
       "        break;\n",
       "    case 3:\n",
       "        cursor = 'move';\n",
       "        break;\n",
       "    }\n",
       "    fig.rubberband_canvas.style.cursor = cursor;\n",
       "}\n",
       "\n",
       "mpl.figure.prototype.handle_message = function(fig, msg) {\n",
       "    fig.message.textContent = msg['message'];\n",
       "}\n",
       "\n",
       "mpl.figure.prototype.handle_draw = function(fig, msg) {\n",
       "    // Request the server to send over a new figure.\n",
       "    fig.send_draw_message();\n",
       "}\n",
       "\n",
       "mpl.figure.prototype.handle_image_mode = function(fig, msg) {\n",
       "    fig.image_mode = msg['mode'];\n",
       "}\n",
       "\n",
       "mpl.figure.prototype.updated_canvas_event = function() {\n",
       "    // Called whenever the canvas gets updated.\n",
       "    this.send_message(\"ack\", {});\n",
       "}\n",
       "\n",
       "// A function to construct a web socket function for onmessage handling.\n",
       "// Called in the figure constructor.\n",
       "mpl.figure.prototype._make_on_message_function = function(fig) {\n",
       "    return function socket_on_message(evt) {\n",
       "        if (evt.data instanceof Blob) {\n",
       "            /* FIXME: We get \"Resource interpreted as Image but\n",
       "             * transferred with MIME type text/plain:\" errors on\n",
       "             * Chrome.  But how to set the MIME type?  It doesn't seem\n",
       "             * to be part of the websocket stream */\n",
       "            evt.data.type = \"image/png\";\n",
       "\n",
       "            /* Free the memory for the previous frames */\n",
       "            if (fig.imageObj.src) {\n",
       "                (window.URL || window.webkitURL).revokeObjectURL(\n",
       "                    fig.imageObj.src);\n",
       "            }\n",
       "\n",
       "            fig.imageObj.src = (window.URL || window.webkitURL).createObjectURL(\n",
       "                evt.data);\n",
       "            fig.updated_canvas_event();\n",
       "            fig.waiting = false;\n",
       "            return;\n",
       "        }\n",
       "        else if (typeof evt.data === 'string' && evt.data.slice(0, 21) == \"data:image/png;base64\") {\n",
       "            fig.imageObj.src = evt.data;\n",
       "            fig.updated_canvas_event();\n",
       "            fig.waiting = false;\n",
       "            return;\n",
       "        }\n",
       "\n",
       "        var msg = JSON.parse(evt.data);\n",
       "        var msg_type = msg['type'];\n",
       "\n",
       "        // Call the  \"handle_{type}\" callback, which takes\n",
       "        // the figure and JSON message as its only arguments.\n",
       "        try {\n",
       "            var callback = fig[\"handle_\" + msg_type];\n",
       "        } catch (e) {\n",
       "            console.log(\"No handler for the '\" + msg_type + \"' message type: \", msg);\n",
       "            return;\n",
       "        }\n",
       "\n",
       "        if (callback) {\n",
       "            try {\n",
       "                // console.log(\"Handling '\" + msg_type + \"' message: \", msg);\n",
       "                callback(fig, msg);\n",
       "            } catch (e) {\n",
       "                console.log(\"Exception inside the 'handler_\" + msg_type + \"' callback:\", e, e.stack, msg);\n",
       "            }\n",
       "        }\n",
       "    };\n",
       "}\n",
       "\n",
       "// from http://stackoverflow.com/questions/1114465/getting-mouse-location-in-canvas\n",
       "mpl.findpos = function(e) {\n",
       "    //this section is from http://www.quirksmode.org/js/events_properties.html\n",
       "    var targ;\n",
       "    if (!e)\n",
       "        e = window.event;\n",
       "    if (e.target)\n",
       "        targ = e.target;\n",
       "    else if (e.srcElement)\n",
       "        targ = e.srcElement;\n",
       "    if (targ.nodeType == 3) // defeat Safari bug\n",
       "        targ = targ.parentNode;\n",
       "\n",
       "    // jQuery normalizes the pageX and pageY\n",
       "    // pageX,Y are the mouse positions relative to the document\n",
       "    // offset() returns the position of the element relative to the document\n",
       "    var x = e.pageX - $(targ).offset().left;\n",
       "    var y = e.pageY - $(targ).offset().top;\n",
       "\n",
       "    return {\"x\": x, \"y\": y};\n",
       "};\n",
       "\n",
       "/*\n",
       " * return a copy of an object with only non-object keys\n",
       " * we need this to avoid circular references\n",
       " * http://stackoverflow.com/a/24161582/3208463\n",
       " */\n",
       "function simpleKeys (original) {\n",
       "  return Object.keys(original).reduce(function (obj, key) {\n",
       "    if (typeof original[key] !== 'object')\n",
       "        obj[key] = original[key]\n",
       "    return obj;\n",
       "  }, {});\n",
       "}\n",
       "\n",
       "mpl.figure.prototype.mouse_event = function(event, name) {\n",
       "    var canvas_pos = mpl.findpos(event)\n",
       "\n",
       "    if (name === 'button_press')\n",
       "    {\n",
       "        this.canvas.focus();\n",
       "        this.canvas_div.focus();\n",
       "    }\n",
       "\n",
       "    var x = canvas_pos.x * mpl.ratio;\n",
       "    var y = canvas_pos.y * mpl.ratio;\n",
       "\n",
       "    this.send_message(name, {x: x, y: y, button: event.button,\n",
       "                             step: event.step,\n",
       "                             guiEvent: simpleKeys(event)});\n",
       "\n",
       "    /* This prevents the web browser from automatically changing to\n",
       "     * the text insertion cursor when the button is pressed.  We want\n",
       "     * to control all of the cursor setting manually through the\n",
       "     * 'cursor' event from matplotlib */\n",
       "    event.preventDefault();\n",
       "    return false;\n",
       "}\n",
       "\n",
       "mpl.figure.prototype._key_event_extra = function(event, name) {\n",
       "    // Handle any extra behaviour associated with a key event\n",
       "}\n",
       "\n",
       "mpl.figure.prototype.key_event = function(event, name) {\n",
       "\n",
       "    // Prevent repeat events\n",
       "    if (name == 'key_press')\n",
       "    {\n",
       "        if (event.which === this._key)\n",
       "            return;\n",
       "        else\n",
       "            this._key = event.which;\n",
       "    }\n",
       "    if (name == 'key_release')\n",
       "        this._key = null;\n",
       "\n",
       "    var value = '';\n",
       "    if (event.ctrlKey && event.which != 17)\n",
       "        value += \"ctrl+\";\n",
       "    if (event.altKey && event.which != 18)\n",
       "        value += \"alt+\";\n",
       "    if (event.shiftKey && event.which != 16)\n",
       "        value += \"shift+\";\n",
       "\n",
       "    value += 'k';\n",
       "    value += event.which.toString();\n",
       "\n",
       "    this._key_event_extra(event, name);\n",
       "\n",
       "    this.send_message(name, {key: value,\n",
       "                             guiEvent: simpleKeys(event)});\n",
       "    return false;\n",
       "}\n",
       "\n",
       "mpl.figure.prototype.toolbar_button_onclick = function(name) {\n",
       "    if (name == 'download') {\n",
       "        this.handle_save(this, null);\n",
       "    } else {\n",
       "        this.send_message(\"toolbar_button\", {name: name});\n",
       "    }\n",
       "};\n",
       "\n",
       "mpl.figure.prototype.toolbar_button_onmouseover = function(tooltip) {\n",
       "    this.message.textContent = tooltip;\n",
       "};\n",
       "mpl.toolbar_items = [[\"Home\", \"Reset original view\", \"fa fa-home icon-home\", \"home\"], [\"Back\", \"Back to previous view\", \"fa fa-arrow-left icon-arrow-left\", \"back\"], [\"Forward\", \"Forward to next view\", \"fa fa-arrow-right icon-arrow-right\", \"forward\"], [\"\", \"\", \"\", \"\"], [\"Pan\", \"Pan axes with left mouse, zoom with right\", \"fa fa-arrows icon-move\", \"pan\"], [\"Zoom\", \"Zoom to rectangle\", \"fa fa-square-o icon-check-empty\", \"zoom\"], [\"\", \"\", \"\", \"\"], [\"Download\", \"Download plot\", \"fa fa-floppy-o icon-save\", \"download\"]];\n",
       "\n",
       "mpl.extensions = [\"eps\", \"jpeg\", \"pdf\", \"png\", \"ps\", \"raw\", \"svg\", \"tif\"];\n",
       "\n",
       "mpl.default_extension = \"png\";var comm_websocket_adapter = function(comm) {\n",
       "    // Create a \"websocket\"-like object which calls the given IPython comm\n",
       "    // object with the appropriate methods. Currently this is a non binary\n",
       "    // socket, so there is still some room for performance tuning.\n",
       "    var ws = {};\n",
       "\n",
       "    ws.close = function() {\n",
       "        comm.close()\n",
       "    };\n",
       "    ws.send = function(m) {\n",
       "        //console.log('sending', m);\n",
       "        comm.send(m);\n",
       "    };\n",
       "    // Register the callback with on_msg.\n",
       "    comm.on_msg(function(msg) {\n",
       "        //console.log('receiving', msg['content']['data'], msg);\n",
       "        // Pass the mpl event to the overridden (by mpl) onmessage function.\n",
       "        ws.onmessage(msg['content']['data'])\n",
       "    });\n",
       "    return ws;\n",
       "}\n",
       "\n",
       "mpl.mpl_figure_comm = function(comm, msg) {\n",
       "    // This is the function which gets called when the mpl process\n",
       "    // starts-up an IPython Comm through the \"matplotlib\" channel.\n",
       "\n",
       "    var id = msg.content.data.id;\n",
       "    // Get hold of the div created by the display call when the Comm\n",
       "    // socket was opened in Python.\n",
       "    var element = $(\"#\" + id);\n",
       "    var ws_proxy = comm_websocket_adapter(comm)\n",
       "\n",
       "    function ondownload(figure, format) {\n",
       "        window.open(figure.imageObj.src);\n",
       "    }\n",
       "\n",
       "    var fig = new mpl.figure(id, ws_proxy,\n",
       "                           ondownload,\n",
       "                           element.get(0));\n",
       "\n",
       "    // Call onopen now - mpl needs it, as it is assuming we've passed it a real\n",
       "    // web socket which is closed, not our websocket->open comm proxy.\n",
       "    ws_proxy.onopen();\n",
       "\n",
       "    fig.parent_element = element.get(0);\n",
       "    fig.cell_info = mpl.find_output_cell(\"<div id='\" + id + \"'></div>\");\n",
       "    if (!fig.cell_info) {\n",
       "        console.error(\"Failed to find cell for figure\", id, fig);\n",
       "        return;\n",
       "    }\n",
       "\n",
       "    var output_index = fig.cell_info[2]\n",
       "    var cell = fig.cell_info[0];\n",
       "\n",
       "};\n",
       "\n",
       "mpl.figure.prototype.handle_close = function(fig, msg) {\n",
       "    var width = fig.canvas.width/mpl.ratio\n",
       "    fig.root.unbind('remove')\n",
       "\n",
       "    // Update the output cell to use the data from the current canvas.\n",
       "    fig.push_to_output();\n",
       "    var dataURL = fig.canvas.toDataURL();\n",
       "    // Re-enable the keyboard manager in IPython - without this line, in FF,\n",
       "    // the notebook keyboard shortcuts fail.\n",
       "    IPython.keyboard_manager.enable()\n",
       "    $(fig.parent_element).html('<img src=\"' + dataURL + '\" width=\"' + width + '\">');\n",
       "    fig.close_ws(fig, msg);\n",
       "}\n",
       "\n",
       "mpl.figure.prototype.close_ws = function(fig, msg){\n",
       "    fig.send_message('closing', msg);\n",
       "    // fig.ws.close()\n",
       "}\n",
       "\n",
       "mpl.figure.prototype.push_to_output = function(remove_interactive) {\n",
       "    // Turn the data on the canvas into data in the output cell.\n",
       "    var width = this.canvas.width/mpl.ratio\n",
       "    var dataURL = this.canvas.toDataURL();\n",
       "    this.cell_info[1]['text/html'] = '<img src=\"' + dataURL + '\" width=\"' + width + '\">';\n",
       "}\n",
       "\n",
       "mpl.figure.prototype.updated_canvas_event = function() {\n",
       "    // Tell IPython that the notebook contents must change.\n",
       "    IPython.notebook.set_dirty(true);\n",
       "    this.send_message(\"ack\", {});\n",
       "    var fig = this;\n",
       "    // Wait a second, then push the new image to the DOM so\n",
       "    // that it is saved nicely (might be nice to debounce this).\n",
       "    setTimeout(function () { fig.push_to_output() }, 1000);\n",
       "}\n",
       "\n",
       "mpl.figure.prototype._init_toolbar = function() {\n",
       "    var fig = this;\n",
       "\n",
       "    var nav_element = $('<div/>')\n",
       "    nav_element.attr('style', 'width: 100%');\n",
       "    this.root.append(nav_element);\n",
       "\n",
       "    // Define a callback function for later on.\n",
       "    function toolbar_event(event) {\n",
       "        return fig.toolbar_button_onclick(event['data']);\n",
       "    }\n",
       "    function toolbar_mouse_event(event) {\n",
       "        return fig.toolbar_button_onmouseover(event['data']);\n",
       "    }\n",
       "\n",
       "    for(var toolbar_ind in mpl.toolbar_items){\n",
       "        var name = mpl.toolbar_items[toolbar_ind][0];\n",
       "        var tooltip = mpl.toolbar_items[toolbar_ind][1];\n",
       "        var image = mpl.toolbar_items[toolbar_ind][2];\n",
       "        var method_name = mpl.toolbar_items[toolbar_ind][3];\n",
       "\n",
       "        if (!name) { continue; };\n",
       "\n",
       "        var button = $('<button class=\"btn btn-default\" href=\"#\" title=\"' + name + '\"><i class=\"fa ' + image + ' fa-lg\"></i></button>');\n",
       "        button.click(method_name, toolbar_event);\n",
       "        button.mouseover(tooltip, toolbar_mouse_event);\n",
       "        nav_element.append(button);\n",
       "    }\n",
       "\n",
       "    // Add the status bar.\n",
       "    var status_bar = $('<span class=\"mpl-message\" style=\"text-align:right; float: right;\"/>');\n",
       "    nav_element.append(status_bar);\n",
       "    this.message = status_bar[0];\n",
       "\n",
       "    // Add the close button to the window.\n",
       "    var buttongrp = $('<div class=\"btn-group inline pull-right\"></div>');\n",
       "    var button = $('<button class=\"btn btn-mini btn-primary\" href=\"#\" title=\"Stop Interaction\"><i class=\"fa fa-power-off icon-remove icon-large\"></i></button>');\n",
       "    button.click(function (evt) { fig.handle_close(fig, {}); } );\n",
       "    button.mouseover('Stop Interaction', toolbar_mouse_event);\n",
       "    buttongrp.append(button);\n",
       "    var titlebar = this.root.find($('.ui-dialog-titlebar'));\n",
       "    titlebar.prepend(buttongrp);\n",
       "}\n",
       "\n",
       "mpl.figure.prototype._root_extra_style = function(el){\n",
       "    var fig = this\n",
       "    el.on(\"remove\", function(){\n",
       "\tfig.close_ws(fig, {});\n",
       "    });\n",
       "}\n",
       "\n",
       "mpl.figure.prototype._canvas_extra_style = function(el){\n",
       "    // this is important to make the div 'focusable\n",
       "    el.attr('tabindex', 0)\n",
       "    // reach out to IPython and tell the keyboard manager to turn it's self\n",
       "    // off when our div gets focus\n",
       "\n",
       "    // location in version 3\n",
       "    if (IPython.notebook.keyboard_manager) {\n",
       "        IPython.notebook.keyboard_manager.register_events(el);\n",
       "    }\n",
       "    else {\n",
       "        // location in version 2\n",
       "        IPython.keyboard_manager.register_events(el);\n",
       "    }\n",
       "\n",
       "}\n",
       "\n",
       "mpl.figure.prototype._key_event_extra = function(event, name) {\n",
       "    var manager = IPython.notebook.keyboard_manager;\n",
       "    if (!manager)\n",
       "        manager = IPython.keyboard_manager;\n",
       "\n",
       "    // Check for shift+enter\n",
       "    if (event.shiftKey && event.which == 13) {\n",
       "        this.canvas_div.blur();\n",
       "        event.shiftKey = false;\n",
       "        // Send a \"J\" for go to next cell\n",
       "        event.which = 74;\n",
       "        event.keyCode = 74;\n",
       "        manager.command_mode();\n",
       "        manager.handle_keydown(event);\n",
       "    }\n",
       "}\n",
       "\n",
       "mpl.figure.prototype.handle_save = function(fig, msg) {\n",
       "    fig.ondownload(fig, null);\n",
       "}\n",
       "\n",
       "\n",
       "mpl.find_output_cell = function(html_output) {\n",
       "    // Return the cell and output element which can be found *uniquely* in the notebook.\n",
       "    // Note - this is a bit hacky, but it is done because the \"notebook_saving.Notebook\"\n",
       "    // IPython event is triggered only after the cells have been serialised, which for\n",
       "    // our purposes (turning an active figure into a static one), is too late.\n",
       "    var cells = IPython.notebook.get_cells();\n",
       "    var ncells = cells.length;\n",
       "    for (var i=0; i<ncells; i++) {\n",
       "        var cell = cells[i];\n",
       "        if (cell.cell_type === 'code'){\n",
       "            for (var j=0; j<cell.output_area.outputs.length; j++) {\n",
       "                var data = cell.output_area.outputs[j];\n",
       "                if (data.data) {\n",
       "                    // IPython >= 3 moved mimebundle to data attribute of output\n",
       "                    data = data.data;\n",
       "                }\n",
       "                if (data['text/html'] == html_output) {\n",
       "                    return [cell, data, j];\n",
       "                }\n",
       "            }\n",
       "        }\n",
       "    }\n",
       "}\n",
       "\n",
       "// Register the function which deals with the matplotlib target/channel.\n",
       "// The kernel may be null if the page has been refreshed.\n",
       "if (IPython.notebook.kernel != null) {\n",
       "    IPython.notebook.kernel.comm_manager.register_target('matplotlib', mpl.mpl_figure_comm);\n",
       "}\n"
      ],
      "text/plain": [
       "<IPython.core.display.Javascript object>"
      ]
     },
     "metadata": {},
     "output_type": "display_data"
    },
    {
     "data": {
      "text/html": [
       "<img src=\"data:image/png;base64,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\" width=\"1299.2\">"
      ],
      "text/plain": [
       "<IPython.core.display.HTML object>"
      ]
     },
     "metadata": {},
     "output_type": "display_data"
    }
   ],
   "source": [
    "plt.figure(figsize=(13,5))\n",
    "plt.title('Best plot ever',fontsize = 20)\n",
    "plt.plot(x,y,linewidth = 2, label = '$\\sin(x)$')\n",
    "plt.plot(x,y**2, 'r--', linewidth = 2,label = '$\\sin(x)^2$')\n",
    "plt.xticks(fontsize = 20)\n",
    "plt.yticks(fontsize = 20)\n",
    "plt.ylabel('$y$', fontsize = 25)\n",
    "plt.xlabel('$x$', fontsize = 25)\n",
    "plt.legend(fontsize = 14)\n",
    "plt.show()"
   ]
  },
  {
   "cell_type": "markdown",
   "metadata": {
    "slideshow": {
     "slide_type": "subslide"
    }
   },
   "source": [
    "##### Subplot"
   ]
  },
  {
   "cell_type": "code",
   "execution_count": 114,
   "metadata": {
    "slideshow": {
     "slide_type": "fragment"
    }
   },
   "outputs": [
    {
     "data": {
      "application/javascript": [
       "/* Put everything inside the global mpl namespace */\n",
       "window.mpl = {};\n",
       "\n",
       "\n",
       "mpl.get_websocket_type = function() {\n",
       "    if (typeof(WebSocket) !== 'undefined') {\n",
       "        return WebSocket;\n",
       "    } else if (typeof(MozWebSocket) !== 'undefined') {\n",
       "        return MozWebSocket;\n",
       "    } else {\n",
       "        alert('Your browser does not have WebSocket support.' +\n",
       "              'Please try Chrome, Safari or Firefox ≥ 6. ' +\n",
       "              'Firefox 4 and 5 are also supported but you ' +\n",
       "              'have to enable WebSockets in about:config.');\n",
       "    };\n",
       "}\n",
       "\n",
       "mpl.figure = function(figure_id, websocket, ondownload, parent_element) {\n",
       "    this.id = figure_id;\n",
       "\n",
       "    this.ws = websocket;\n",
       "\n",
       "    this.supports_binary = (this.ws.binaryType != undefined);\n",
       "\n",
       "    if (!this.supports_binary) {\n",
       "        var warnings = document.getElementById(\"mpl-warnings\");\n",
       "        if (warnings) {\n",
       "            warnings.style.display = 'block';\n",
       "            warnings.textContent = (\n",
       "                \"This browser does not support binary websocket messages. \" +\n",
       "                    \"Performance may be slow.\");\n",
       "        }\n",
       "    }\n",
       "\n",
       "    this.imageObj = new Image();\n",
       "\n",
       "    this.context = undefined;\n",
       "    this.message = undefined;\n",
       "    this.canvas = undefined;\n",
       "    this.rubberband_canvas = undefined;\n",
       "    this.rubberband_context = undefined;\n",
       "    this.format_dropdown = undefined;\n",
       "\n",
       "    this.image_mode = 'full';\n",
       "\n",
       "    this.root = $('<div/>');\n",
       "    this._root_extra_style(this.root)\n",
       "    this.root.attr('style', 'display: inline-block');\n",
       "\n",
       "    $(parent_element).append(this.root);\n",
       "\n",
       "    this._init_header(this);\n",
       "    this._init_canvas(this);\n",
       "    this._init_toolbar(this);\n",
       "\n",
       "    var fig = this;\n",
       "\n",
       "    this.waiting = false;\n",
       "\n",
       "    this.ws.onopen =  function () {\n",
       "            fig.send_message(\"supports_binary\", {value: fig.supports_binary});\n",
       "            fig.send_message(\"send_image_mode\", {});\n",
       "            if (mpl.ratio != 1) {\n",
       "                fig.send_message(\"set_dpi_ratio\", {'dpi_ratio': mpl.ratio});\n",
       "            }\n",
       "            fig.send_message(\"refresh\", {});\n",
       "        }\n",
       "\n",
       "    this.imageObj.onload = function() {\n",
       "            if (fig.image_mode == 'full') {\n",
       "                // Full images could contain transparency (where diff images\n",
       "                // almost always do), so we need to clear the canvas so that\n",
       "                // there is no ghosting.\n",
       "                fig.context.clearRect(0, 0, fig.canvas.width, fig.canvas.height);\n",
       "            }\n",
       "            fig.context.drawImage(fig.imageObj, 0, 0);\n",
       "        };\n",
       "\n",
       "    this.imageObj.onunload = function() {\n",
       "        fig.ws.close();\n",
       "    }\n",
       "\n",
       "    this.ws.onmessage = this._make_on_message_function(this);\n",
       "\n",
       "    this.ondownload = ondownload;\n",
       "}\n",
       "\n",
       "mpl.figure.prototype._init_header = function() {\n",
       "    var titlebar = $(\n",
       "        '<div class=\"ui-dialog-titlebar ui-widget-header ui-corner-all ' +\n",
       "        'ui-helper-clearfix\"/>');\n",
       "    var titletext = $(\n",
       "        '<div class=\"ui-dialog-title\" style=\"width: 100%; ' +\n",
       "        'text-align: center; padding: 3px;\"/>');\n",
       "    titlebar.append(titletext)\n",
       "    this.root.append(titlebar);\n",
       "    this.header = titletext[0];\n",
       "}\n",
       "\n",
       "\n",
       "\n",
       "mpl.figure.prototype._canvas_extra_style = function(canvas_div) {\n",
       "\n",
       "}\n",
       "\n",
       "\n",
       "mpl.figure.prototype._root_extra_style = function(canvas_div) {\n",
       "\n",
       "}\n",
       "\n",
       "mpl.figure.prototype._init_canvas = function() {\n",
       "    var fig = this;\n",
       "\n",
       "    var canvas_div = $('<div/>');\n",
       "\n",
       "    canvas_div.attr('style', 'position: relative; clear: both; outline: 0');\n",
       "\n",
       "    function canvas_keyboard_event(event) {\n",
       "        return fig.key_event(event, event['data']);\n",
       "    }\n",
       "\n",
       "    canvas_div.keydown('key_press', canvas_keyboard_event);\n",
       "    canvas_div.keyup('key_release', canvas_keyboard_event);\n",
       "    this.canvas_div = canvas_div\n",
       "    this._canvas_extra_style(canvas_div)\n",
       "    this.root.append(canvas_div);\n",
       "\n",
       "    var canvas = $('<canvas/>');\n",
       "    canvas.addClass('mpl-canvas');\n",
       "    canvas.attr('style', \"left: 0; top: 0; z-index: 0; outline: 0\")\n",
       "\n",
       "    this.canvas = canvas[0];\n",
       "    this.context = canvas[0].getContext(\"2d\");\n",
       "\n",
       "    var backingStore = this.context.backingStorePixelRatio ||\n",
       "\tthis.context.webkitBackingStorePixelRatio ||\n",
       "\tthis.context.mozBackingStorePixelRatio ||\n",
       "\tthis.context.msBackingStorePixelRatio ||\n",
       "\tthis.context.oBackingStorePixelRatio ||\n",
       "\tthis.context.backingStorePixelRatio || 1;\n",
       "\n",
       "    mpl.ratio = (window.devicePixelRatio || 1) / backingStore;\n",
       "\n",
       "    var rubberband = $('<canvas/>');\n",
       "    rubberband.attr('style', \"position: absolute; left: 0; top: 0; z-index: 1;\")\n",
       "\n",
       "    var pass_mouse_events = true;\n",
       "\n",
       "    canvas_div.resizable({\n",
       "        start: function(event, ui) {\n",
       "            pass_mouse_events = false;\n",
       "        },\n",
       "        resize: function(event, ui) {\n",
       "            fig.request_resize(ui.size.width, ui.size.height);\n",
       "        },\n",
       "        stop: function(event, ui) {\n",
       "            pass_mouse_events = true;\n",
       "            fig.request_resize(ui.size.width, ui.size.height);\n",
       "        },\n",
       "    });\n",
       "\n",
       "    function mouse_event_fn(event) {\n",
       "        if (pass_mouse_events)\n",
       "            return fig.mouse_event(event, event['data']);\n",
       "    }\n",
       "\n",
       "    rubberband.mousedown('button_press', mouse_event_fn);\n",
       "    rubberband.mouseup('button_release', mouse_event_fn);\n",
       "    // Throttle sequential mouse events to 1 every 20ms.\n",
       "    rubberband.mousemove('motion_notify', mouse_event_fn);\n",
       "\n",
       "    rubberband.mouseenter('figure_enter', mouse_event_fn);\n",
       "    rubberband.mouseleave('figure_leave', mouse_event_fn);\n",
       "\n",
       "    canvas_div.on(\"wheel\", function (event) {\n",
       "        event = event.originalEvent;\n",
       "        event['data'] = 'scroll'\n",
       "        if (event.deltaY < 0) {\n",
       "            event.step = 1;\n",
       "        } else {\n",
       "            event.step = -1;\n",
       "        }\n",
       "        mouse_event_fn(event);\n",
       "    });\n",
       "\n",
       "    canvas_div.append(canvas);\n",
       "    canvas_div.append(rubberband);\n",
       "\n",
       "    this.rubberband = rubberband;\n",
       "    this.rubberband_canvas = rubberband[0];\n",
       "    this.rubberband_context = rubberband[0].getContext(\"2d\");\n",
       "    this.rubberband_context.strokeStyle = \"#000000\";\n",
       "\n",
       "    this._resize_canvas = function(width, height) {\n",
       "        // Keep the size of the canvas, canvas container, and rubber band\n",
       "        // canvas in synch.\n",
       "        canvas_div.css('width', width)\n",
       "        canvas_div.css('height', height)\n",
       "\n",
       "        canvas.attr('width', width * mpl.ratio);\n",
       "        canvas.attr('height', height * mpl.ratio);\n",
       "        canvas.attr('style', 'width: ' + width + 'px; height: ' + height + 'px;');\n",
       "\n",
       "        rubberband.attr('width', width);\n",
       "        rubberband.attr('height', height);\n",
       "    }\n",
       "\n",
       "    // Set the figure to an initial 600x600px, this will subsequently be updated\n",
       "    // upon first draw.\n",
       "    this._resize_canvas(600, 600);\n",
       "\n",
       "    // Disable right mouse context menu.\n",
       "    $(this.rubberband_canvas).bind(\"contextmenu\",function(e){\n",
       "        return false;\n",
       "    });\n",
       "\n",
       "    function set_focus () {\n",
       "        canvas.focus();\n",
       "        canvas_div.focus();\n",
       "    }\n",
       "\n",
       "    window.setTimeout(set_focus, 100);\n",
       "}\n",
       "\n",
       "mpl.figure.prototype._init_toolbar = function() {\n",
       "    var fig = this;\n",
       "\n",
       "    var nav_element = $('<div/>')\n",
       "    nav_element.attr('style', 'width: 100%');\n",
       "    this.root.append(nav_element);\n",
       "\n",
       "    // Define a callback function for later on.\n",
       "    function toolbar_event(event) {\n",
       "        return fig.toolbar_button_onclick(event['data']);\n",
       "    }\n",
       "    function toolbar_mouse_event(event) {\n",
       "        return fig.toolbar_button_onmouseover(event['data']);\n",
       "    }\n",
       "\n",
       "    for(var toolbar_ind in mpl.toolbar_items) {\n",
       "        var name = mpl.toolbar_items[toolbar_ind][0];\n",
       "        var tooltip = mpl.toolbar_items[toolbar_ind][1];\n",
       "        var image = mpl.toolbar_items[toolbar_ind][2];\n",
       "        var method_name = mpl.toolbar_items[toolbar_ind][3];\n",
       "\n",
       "        if (!name) {\n",
       "            // put a spacer in here.\n",
       "            continue;\n",
       "        }\n",
       "        var button = $('<button/>');\n",
       "        button.addClass('ui-button ui-widget ui-state-default ui-corner-all ' +\n",
       "                        'ui-button-icon-only');\n",
       "        button.attr('role', 'button');\n",
       "        button.attr('aria-disabled', 'false');\n",
       "        button.click(method_name, toolbar_event);\n",
       "        button.mouseover(tooltip, toolbar_mouse_event);\n",
       "\n",
       "        var icon_img = $('<span/>');\n",
       "        icon_img.addClass('ui-button-icon-primary ui-icon');\n",
       "        icon_img.addClass(image);\n",
       "        icon_img.addClass('ui-corner-all');\n",
       "\n",
       "        var tooltip_span = $('<span/>');\n",
       "        tooltip_span.addClass('ui-button-text');\n",
       "        tooltip_span.html(tooltip);\n",
       "\n",
       "        button.append(icon_img);\n",
       "        button.append(tooltip_span);\n",
       "\n",
       "        nav_element.append(button);\n",
       "    }\n",
       "\n",
       "    var fmt_picker_span = $('<span/>');\n",
       "\n",
       "    var fmt_picker = $('<select/>');\n",
       "    fmt_picker.addClass('mpl-toolbar-option ui-widget ui-widget-content');\n",
       "    fmt_picker_span.append(fmt_picker);\n",
       "    nav_element.append(fmt_picker_span);\n",
       "    this.format_dropdown = fmt_picker[0];\n",
       "\n",
       "    for (var ind in mpl.extensions) {\n",
       "        var fmt = mpl.extensions[ind];\n",
       "        var option = $(\n",
       "            '<option/>', {selected: fmt === mpl.default_extension}).html(fmt);\n",
       "        fmt_picker.append(option)\n",
       "    }\n",
       "\n",
       "    // Add hover states to the ui-buttons\n",
       "    $( \".ui-button\" ).hover(\n",
       "        function() { $(this).addClass(\"ui-state-hover\");},\n",
       "        function() { $(this).removeClass(\"ui-state-hover\");}\n",
       "    );\n",
       "\n",
       "    var status_bar = $('<span class=\"mpl-message\"/>');\n",
       "    nav_element.append(status_bar);\n",
       "    this.message = status_bar[0];\n",
       "}\n",
       "\n",
       "mpl.figure.prototype.request_resize = function(x_pixels, y_pixels) {\n",
       "    // Request matplotlib to resize the figure. Matplotlib will then trigger a resize in the client,\n",
       "    // which will in turn request a refresh of the image.\n",
       "    this.send_message('resize', {'width': x_pixels, 'height': y_pixels});\n",
       "}\n",
       "\n",
       "mpl.figure.prototype.send_message = function(type, properties) {\n",
       "    properties['type'] = type;\n",
       "    properties['figure_id'] = this.id;\n",
       "    this.ws.send(JSON.stringify(properties));\n",
       "}\n",
       "\n",
       "mpl.figure.prototype.send_draw_message = function() {\n",
       "    if (!this.waiting) {\n",
       "        this.waiting = true;\n",
       "        this.ws.send(JSON.stringify({type: \"draw\", figure_id: this.id}));\n",
       "    }\n",
       "}\n",
       "\n",
       "\n",
       "mpl.figure.prototype.handle_save = function(fig, msg) {\n",
       "    var format_dropdown = fig.format_dropdown;\n",
       "    var format = format_dropdown.options[format_dropdown.selectedIndex].value;\n",
       "    fig.ondownload(fig, format);\n",
       "}\n",
       "\n",
       "\n",
       "mpl.figure.prototype.handle_resize = function(fig, msg) {\n",
       "    var size = msg['size'];\n",
       "    if (size[0] != fig.canvas.width || size[1] != fig.canvas.height) {\n",
       "        fig._resize_canvas(size[0], size[1]);\n",
       "        fig.send_message(\"refresh\", {});\n",
       "    };\n",
       "}\n",
       "\n",
       "mpl.figure.prototype.handle_rubberband = function(fig, msg) {\n",
       "    var x0 = msg['x0'] / mpl.ratio;\n",
       "    var y0 = (fig.canvas.height - msg['y0']) / mpl.ratio;\n",
       "    var x1 = msg['x1'] / mpl.ratio;\n",
       "    var y1 = (fig.canvas.height - msg['y1']) / mpl.ratio;\n",
       "    x0 = Math.floor(x0) + 0.5;\n",
       "    y0 = Math.floor(y0) + 0.5;\n",
       "    x1 = Math.floor(x1) + 0.5;\n",
       "    y1 = Math.floor(y1) + 0.5;\n",
       "    var min_x = Math.min(x0, x1);\n",
       "    var min_y = Math.min(y0, y1);\n",
       "    var width = Math.abs(x1 - x0);\n",
       "    var height = Math.abs(y1 - y0);\n",
       "\n",
       "    fig.rubberband_context.clearRect(\n",
       "        0, 0, fig.canvas.width, fig.canvas.height);\n",
       "\n",
       "    fig.rubberband_context.strokeRect(min_x, min_y, width, height);\n",
       "}\n",
       "\n",
       "mpl.figure.prototype.handle_figure_label = function(fig, msg) {\n",
       "    // Updates the figure title.\n",
       "    fig.header.textContent = msg['label'];\n",
       "}\n",
       "\n",
       "mpl.figure.prototype.handle_cursor = function(fig, msg) {\n",
       "    var cursor = msg['cursor'];\n",
       "    switch(cursor)\n",
       "    {\n",
       "    case 0:\n",
       "        cursor = 'pointer';\n",
       "        break;\n",
       "    case 1:\n",
       "        cursor = 'default';\n",
       "        break;\n",
       "    case 2:\n",
       "        cursor = 'crosshair';\n",
       "        break;\n",
       "    case 3:\n",
       "        cursor = 'move';\n",
       "        break;\n",
       "    }\n",
       "    fig.rubberband_canvas.style.cursor = cursor;\n",
       "}\n",
       "\n",
       "mpl.figure.prototype.handle_message = function(fig, msg) {\n",
       "    fig.message.textContent = msg['message'];\n",
       "}\n",
       "\n",
       "mpl.figure.prototype.handle_draw = function(fig, msg) {\n",
       "    // Request the server to send over a new figure.\n",
       "    fig.send_draw_message();\n",
       "}\n",
       "\n",
       "mpl.figure.prototype.handle_image_mode = function(fig, msg) {\n",
       "    fig.image_mode = msg['mode'];\n",
       "}\n",
       "\n",
       "mpl.figure.prototype.updated_canvas_event = function() {\n",
       "    // Called whenever the canvas gets updated.\n",
       "    this.send_message(\"ack\", {});\n",
       "}\n",
       "\n",
       "// A function to construct a web socket function for onmessage handling.\n",
       "// Called in the figure constructor.\n",
       "mpl.figure.prototype._make_on_message_function = function(fig) {\n",
       "    return function socket_on_message(evt) {\n",
       "        if (evt.data instanceof Blob) {\n",
       "            /* FIXME: We get \"Resource interpreted as Image but\n",
       "             * transferred with MIME type text/plain:\" errors on\n",
       "             * Chrome.  But how to set the MIME type?  It doesn't seem\n",
       "             * to be part of the websocket stream */\n",
       "            evt.data.type = \"image/png\";\n",
       "\n",
       "            /* Free the memory for the previous frames */\n",
       "            if (fig.imageObj.src) {\n",
       "                (window.URL || window.webkitURL).revokeObjectURL(\n",
       "                    fig.imageObj.src);\n",
       "            }\n",
       "\n",
       "            fig.imageObj.src = (window.URL || window.webkitURL).createObjectURL(\n",
       "                evt.data);\n",
       "            fig.updated_canvas_event();\n",
       "            fig.waiting = false;\n",
       "            return;\n",
       "        }\n",
       "        else if (typeof evt.data === 'string' && evt.data.slice(0, 21) == \"data:image/png;base64\") {\n",
       "            fig.imageObj.src = evt.data;\n",
       "            fig.updated_canvas_event();\n",
       "            fig.waiting = false;\n",
       "            return;\n",
       "        }\n",
       "\n",
       "        var msg = JSON.parse(evt.data);\n",
       "        var msg_type = msg['type'];\n",
       "\n",
       "        // Call the  \"handle_{type}\" callback, which takes\n",
       "        // the figure and JSON message as its only arguments.\n",
       "        try {\n",
       "            var callback = fig[\"handle_\" + msg_type];\n",
       "        } catch (e) {\n",
       "            console.log(\"No handler for the '\" + msg_type + \"' message type: \", msg);\n",
       "            return;\n",
       "        }\n",
       "\n",
       "        if (callback) {\n",
       "            try {\n",
       "                // console.log(\"Handling '\" + msg_type + \"' message: \", msg);\n",
       "                callback(fig, msg);\n",
       "            } catch (e) {\n",
       "                console.log(\"Exception inside the 'handler_\" + msg_type + \"' callback:\", e, e.stack, msg);\n",
       "            }\n",
       "        }\n",
       "    };\n",
       "}\n",
       "\n",
       "// from http://stackoverflow.com/questions/1114465/getting-mouse-location-in-canvas\n",
       "mpl.findpos = function(e) {\n",
       "    //this section is from http://www.quirksmode.org/js/events_properties.html\n",
       "    var targ;\n",
       "    if (!e)\n",
       "        e = window.event;\n",
       "    if (e.target)\n",
       "        targ = e.target;\n",
       "    else if (e.srcElement)\n",
       "        targ = e.srcElement;\n",
       "    if (targ.nodeType == 3) // defeat Safari bug\n",
       "        targ = targ.parentNode;\n",
       "\n",
       "    // jQuery normalizes the pageX and pageY\n",
       "    // pageX,Y are the mouse positions relative to the document\n",
       "    // offset() returns the position of the element relative to the document\n",
       "    var x = e.pageX - $(targ).offset().left;\n",
       "    var y = e.pageY - $(targ).offset().top;\n",
       "\n",
       "    return {\"x\": x, \"y\": y};\n",
       "};\n",
       "\n",
       "/*\n",
       " * return a copy of an object with only non-object keys\n",
       " * we need this to avoid circular references\n",
       " * http://stackoverflow.com/a/24161582/3208463\n",
       " */\n",
       "function simpleKeys (original) {\n",
       "  return Object.keys(original).reduce(function (obj, key) {\n",
       "    if (typeof original[key] !== 'object')\n",
       "        obj[key] = original[key]\n",
       "    return obj;\n",
       "  }, {});\n",
       "}\n",
       "\n",
       "mpl.figure.prototype.mouse_event = function(event, name) {\n",
       "    var canvas_pos = mpl.findpos(event)\n",
       "\n",
       "    if (name === 'button_press')\n",
       "    {\n",
       "        this.canvas.focus();\n",
       "        this.canvas_div.focus();\n",
       "    }\n",
       "\n",
       "    var x = canvas_pos.x * mpl.ratio;\n",
       "    var y = canvas_pos.y * mpl.ratio;\n",
       "\n",
       "    this.send_message(name, {x: x, y: y, button: event.button,\n",
       "                             step: event.step,\n",
       "                             guiEvent: simpleKeys(event)});\n",
       "\n",
       "    /* This prevents the web browser from automatically changing to\n",
       "     * the text insertion cursor when the button is pressed.  We want\n",
       "     * to control all of the cursor setting manually through the\n",
       "     * 'cursor' event from matplotlib */\n",
       "    event.preventDefault();\n",
       "    return false;\n",
       "}\n",
       "\n",
       "mpl.figure.prototype._key_event_extra = function(event, name) {\n",
       "    // Handle any extra behaviour associated with a key event\n",
       "}\n",
       "\n",
       "mpl.figure.prototype.key_event = function(event, name) {\n",
       "\n",
       "    // Prevent repeat events\n",
       "    if (name == 'key_press')\n",
       "    {\n",
       "        if (event.which === this._key)\n",
       "            return;\n",
       "        else\n",
       "            this._key = event.which;\n",
       "    }\n",
       "    if (name == 'key_release')\n",
       "        this._key = null;\n",
       "\n",
       "    var value = '';\n",
       "    if (event.ctrlKey && event.which != 17)\n",
       "        value += \"ctrl+\";\n",
       "    if (event.altKey && event.which != 18)\n",
       "        value += \"alt+\";\n",
       "    if (event.shiftKey && event.which != 16)\n",
       "        value += \"shift+\";\n",
       "\n",
       "    value += 'k';\n",
       "    value += event.which.toString();\n",
       "\n",
       "    this._key_event_extra(event, name);\n",
       "\n",
       "    this.send_message(name, {key: value,\n",
       "                             guiEvent: simpleKeys(event)});\n",
       "    return false;\n",
       "}\n",
       "\n",
       "mpl.figure.prototype.toolbar_button_onclick = function(name) {\n",
       "    if (name == 'download') {\n",
       "        this.handle_save(this, null);\n",
       "    } else {\n",
       "        this.send_message(\"toolbar_button\", {name: name});\n",
       "    }\n",
       "};\n",
       "\n",
       "mpl.figure.prototype.toolbar_button_onmouseover = function(tooltip) {\n",
       "    this.message.textContent = tooltip;\n",
       "};\n",
       "mpl.toolbar_items = [[\"Home\", \"Reset original view\", \"fa fa-home icon-home\", \"home\"], [\"Back\", \"Back to previous view\", \"fa fa-arrow-left icon-arrow-left\", \"back\"], [\"Forward\", \"Forward to next view\", \"fa fa-arrow-right icon-arrow-right\", \"forward\"], [\"\", \"\", \"\", \"\"], [\"Pan\", \"Pan axes with left mouse, zoom with right\", \"fa fa-arrows icon-move\", \"pan\"], [\"Zoom\", \"Zoom to rectangle\", \"fa fa-square-o icon-check-empty\", \"zoom\"], [\"\", \"\", \"\", \"\"], [\"Download\", \"Download plot\", \"fa fa-floppy-o icon-save\", \"download\"]];\n",
       "\n",
       "mpl.extensions = [\"eps\", \"jpeg\", \"pdf\", \"png\", \"ps\", \"raw\", \"svg\", \"tif\"];\n",
       "\n",
       "mpl.default_extension = \"png\";var comm_websocket_adapter = function(comm) {\n",
       "    // Create a \"websocket\"-like object which calls the given IPython comm\n",
       "    // object with the appropriate methods. Currently this is a non binary\n",
       "    // socket, so there is still some room for performance tuning.\n",
       "    var ws = {};\n",
       "\n",
       "    ws.close = function() {\n",
       "        comm.close()\n",
       "    };\n",
       "    ws.send = function(m) {\n",
       "        //console.log('sending', m);\n",
       "        comm.send(m);\n",
       "    };\n",
       "    // Register the callback with on_msg.\n",
       "    comm.on_msg(function(msg) {\n",
       "        //console.log('receiving', msg['content']['data'], msg);\n",
       "        // Pass the mpl event to the overridden (by mpl) onmessage function.\n",
       "        ws.onmessage(msg['content']['data'])\n",
       "    });\n",
       "    return ws;\n",
       "}\n",
       "\n",
       "mpl.mpl_figure_comm = function(comm, msg) {\n",
       "    // This is the function which gets called when the mpl process\n",
       "    // starts-up an IPython Comm through the \"matplotlib\" channel.\n",
       "\n",
       "    var id = msg.content.data.id;\n",
       "    // Get hold of the div created by the display call when the Comm\n",
       "    // socket was opened in Python.\n",
       "    var element = $(\"#\" + id);\n",
       "    var ws_proxy = comm_websocket_adapter(comm)\n",
       "\n",
       "    function ondownload(figure, format) {\n",
       "        window.open(figure.imageObj.src);\n",
       "    }\n",
       "\n",
       "    var fig = new mpl.figure(id, ws_proxy,\n",
       "                           ondownload,\n",
       "                           element.get(0));\n",
       "\n",
       "    // Call onopen now - mpl needs it, as it is assuming we've passed it a real\n",
       "    // web socket which is closed, not our websocket->open comm proxy.\n",
       "    ws_proxy.onopen();\n",
       "\n",
       "    fig.parent_element = element.get(0);\n",
       "    fig.cell_info = mpl.find_output_cell(\"<div id='\" + id + \"'></div>\");\n",
       "    if (!fig.cell_info) {\n",
       "        console.error(\"Failed to find cell for figure\", id, fig);\n",
       "        return;\n",
       "    }\n",
       "\n",
       "    var output_index = fig.cell_info[2]\n",
       "    var cell = fig.cell_info[0];\n",
       "\n",
       "};\n",
       "\n",
       "mpl.figure.prototype.handle_close = function(fig, msg) {\n",
       "    var width = fig.canvas.width/mpl.ratio\n",
       "    fig.root.unbind('remove')\n",
       "\n",
       "    // Update the output cell to use the data from the current canvas.\n",
       "    fig.push_to_output();\n",
       "    var dataURL = fig.canvas.toDataURL();\n",
       "    // Re-enable the keyboard manager in IPython - without this line, in FF,\n",
       "    // the notebook keyboard shortcuts fail.\n",
       "    IPython.keyboard_manager.enable()\n",
       "    $(fig.parent_element).html('<img src=\"' + dataURL + '\" width=\"' + width + '\">');\n",
       "    fig.close_ws(fig, msg);\n",
       "}\n",
       "\n",
       "mpl.figure.prototype.close_ws = function(fig, msg){\n",
       "    fig.send_message('closing', msg);\n",
       "    // fig.ws.close()\n",
       "}\n",
       "\n",
       "mpl.figure.prototype.push_to_output = function(remove_interactive) {\n",
       "    // Turn the data on the canvas into data in the output cell.\n",
       "    var width = this.canvas.width/mpl.ratio\n",
       "    var dataURL = this.canvas.toDataURL();\n",
       "    this.cell_info[1]['text/html'] = '<img src=\"' + dataURL + '\" width=\"' + width + '\">';\n",
       "}\n",
       "\n",
       "mpl.figure.prototype.updated_canvas_event = function() {\n",
       "    // Tell IPython that the notebook contents must change.\n",
       "    IPython.notebook.set_dirty(true);\n",
       "    this.send_message(\"ack\", {});\n",
       "    var fig = this;\n",
       "    // Wait a second, then push the new image to the DOM so\n",
       "    // that it is saved nicely (might be nice to debounce this).\n",
       "    setTimeout(function () { fig.push_to_output() }, 1000);\n",
       "}\n",
       "\n",
       "mpl.figure.prototype._init_toolbar = function() {\n",
       "    var fig = this;\n",
       "\n",
       "    var nav_element = $('<div/>')\n",
       "    nav_element.attr('style', 'width: 100%');\n",
       "    this.root.append(nav_element);\n",
       "\n",
       "    // Define a callback function for later on.\n",
       "    function toolbar_event(event) {\n",
       "        return fig.toolbar_button_onclick(event['data']);\n",
       "    }\n",
       "    function toolbar_mouse_event(event) {\n",
       "        return fig.toolbar_button_onmouseover(event['data']);\n",
       "    }\n",
       "\n",
       "    for(var toolbar_ind in mpl.toolbar_items){\n",
       "        var name = mpl.toolbar_items[toolbar_ind][0];\n",
       "        var tooltip = mpl.toolbar_items[toolbar_ind][1];\n",
       "        var image = mpl.toolbar_items[toolbar_ind][2];\n",
       "        var method_name = mpl.toolbar_items[toolbar_ind][3];\n",
       "\n",
       "        if (!name) { continue; };\n",
       "\n",
       "        var button = $('<button class=\"btn btn-default\" href=\"#\" title=\"' + name + '\"><i class=\"fa ' + image + ' fa-lg\"></i></button>');\n",
       "        button.click(method_name, toolbar_event);\n",
       "        button.mouseover(tooltip, toolbar_mouse_event);\n",
       "        nav_element.append(button);\n",
       "    }\n",
       "\n",
       "    // Add the status bar.\n",
       "    var status_bar = $('<span class=\"mpl-message\" style=\"text-align:right; float: right;\"/>');\n",
       "    nav_element.append(status_bar);\n",
       "    this.message = status_bar[0];\n",
       "\n",
       "    // Add the close button to the window.\n",
       "    var buttongrp = $('<div class=\"btn-group inline pull-right\"></div>');\n",
       "    var button = $('<button class=\"btn btn-mini btn-primary\" href=\"#\" title=\"Stop Interaction\"><i class=\"fa fa-power-off icon-remove icon-large\"></i></button>');\n",
       "    button.click(function (evt) { fig.handle_close(fig, {}); } );\n",
       "    button.mouseover('Stop Interaction', toolbar_mouse_event);\n",
       "    buttongrp.append(button);\n",
       "    var titlebar = this.root.find($('.ui-dialog-titlebar'));\n",
       "    titlebar.prepend(buttongrp);\n",
       "}\n",
       "\n",
       "mpl.figure.prototype._root_extra_style = function(el){\n",
       "    var fig = this\n",
       "    el.on(\"remove\", function(){\n",
       "\tfig.close_ws(fig, {});\n",
       "    });\n",
       "}\n",
       "\n",
       "mpl.figure.prototype._canvas_extra_style = function(el){\n",
       "    // this is important to make the div 'focusable\n",
       "    el.attr('tabindex', 0)\n",
       "    // reach out to IPython and tell the keyboard manager to turn it's self\n",
       "    // off when our div gets focus\n",
       "\n",
       "    // location in version 3\n",
       "    if (IPython.notebook.keyboard_manager) {\n",
       "        IPython.notebook.keyboard_manager.register_events(el);\n",
       "    }\n",
       "    else {\n",
       "        // location in version 2\n",
       "        IPython.keyboard_manager.register_events(el);\n",
       "    }\n",
       "\n",
       "}\n",
       "\n",
       "mpl.figure.prototype._key_event_extra = function(event, name) {\n",
       "    var manager = IPython.notebook.keyboard_manager;\n",
       "    if (!manager)\n",
       "        manager = IPython.keyboard_manager;\n",
       "\n",
       "    // Check for shift+enter\n",
       "    if (event.shiftKey && event.which == 13) {\n",
       "        this.canvas_div.blur();\n",
       "        event.shiftKey = false;\n",
       "        // Send a \"J\" for go to next cell\n",
       "        event.which = 74;\n",
       "        event.keyCode = 74;\n",
       "        manager.command_mode();\n",
       "        manager.handle_keydown(event);\n",
       "    }\n",
       "}\n",
       "\n",
       "mpl.figure.prototype.handle_save = function(fig, msg) {\n",
       "    fig.ondownload(fig, null);\n",
       "}\n",
       "\n",
       "\n",
       "mpl.find_output_cell = function(html_output) {\n",
       "    // Return the cell and output element which can be found *uniquely* in the notebook.\n",
       "    // Note - this is a bit hacky, but it is done because the \"notebook_saving.Notebook\"\n",
       "    // IPython event is triggered only after the cells have been serialised, which for\n",
       "    // our purposes (turning an active figure into a static one), is too late.\n",
       "    var cells = IPython.notebook.get_cells();\n",
       "    var ncells = cells.length;\n",
       "    for (var i=0; i<ncells; i++) {\n",
       "        var cell = cells[i];\n",
       "        if (cell.cell_type === 'code'){\n",
       "            for (var j=0; j<cell.output_area.outputs.length; j++) {\n",
       "                var data = cell.output_area.outputs[j];\n",
       "                if (data.data) {\n",
       "                    // IPython >= 3 moved mimebundle to data attribute of output\n",
       "                    data = data.data;\n",
       "                }\n",
       "                if (data['text/html'] == html_output) {\n",
       "                    return [cell, data, j];\n",
       "                }\n",
       "            }\n",
       "        }\n",
       "    }\n",
       "}\n",
       "\n",
       "// Register the function which deals with the matplotlib target/channel.\n",
       "// The kernel may be null if the page has been refreshed.\n",
       "if (IPython.notebook.kernel != null) {\n",
       "    IPython.notebook.kernel.comm_manager.register_target('matplotlib', mpl.mpl_figure_comm);\n",
       "}\n"
      ],
      "text/plain": [
       "<IPython.core.display.Javascript object>"
      ]
     },
     "metadata": {},
     "output_type": "display_data"
    },
    {
     "data": {
      "text/html": [
       "<img src=\"data:image/png;base64,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\" width=\"1299.2\">"
      ],
      "text/plain": [
       "<IPython.core.display.HTML object>"
      ]
     },
     "metadata": {},
     "output_type": "display_data"
    },
    {
     "data": {
      "text/plain": [
       "Text(0.5, 1.0, 'Sub-title 2')"
      ]
     },
     "execution_count": 114,
     "metadata": {},
     "output_type": "execute_result"
    }
   ],
   "source": [
    "plt.figure(figsize = (13,5))\n",
    "plt.suptitle('Global title',fontsize = 22)\n",
    "plt.subplot(121)\n",
    "plt.plot(x,y)\n",
    "plt.title('Sub-title 1')\n",
    "plt.subplot(1,2,2)\n",
    "plt.plot(x,y**2)\n",
    "plt.title('Sub-title 2')"
   ]
  },
  {
   "cell_type": "markdown",
   "metadata": {
    "slideshow": {
     "slide_type": "subslide"
    }
   },
   "source": [
    "##### Imshow \n",
    "\n",
    "Equivalent to Matlab `imagesc`"
   ]
  },
  {
   "cell_type": "code",
   "execution_count": 116,
   "metadata": {
    "slideshow": {
     "slide_type": "fragment"
    }
   },
   "outputs": [
    {
     "data": {
      "application/javascript": [
       "/* Put everything inside the global mpl namespace */\n",
       "window.mpl = {};\n",
       "\n",
       "\n",
       "mpl.get_websocket_type = function() {\n",
       "    if (typeof(WebSocket) !== 'undefined') {\n",
       "        return WebSocket;\n",
       "    } else if (typeof(MozWebSocket) !== 'undefined') {\n",
       "        return MozWebSocket;\n",
       "    } else {\n",
       "        alert('Your browser does not have WebSocket support.' +\n",
       "              'Please try Chrome, Safari or Firefox ≥ 6. ' +\n",
       "              'Firefox 4 and 5 are also supported but you ' +\n",
       "              'have to enable WebSockets in about:config.');\n",
       "    };\n",
       "}\n",
       "\n",
       "mpl.figure = function(figure_id, websocket, ondownload, parent_element) {\n",
       "    this.id = figure_id;\n",
       "\n",
       "    this.ws = websocket;\n",
       "\n",
       "    this.supports_binary = (this.ws.binaryType != undefined);\n",
       "\n",
       "    if (!this.supports_binary) {\n",
       "        var warnings = document.getElementById(\"mpl-warnings\");\n",
       "        if (warnings) {\n",
       "            warnings.style.display = 'block';\n",
       "            warnings.textContent = (\n",
       "                \"This browser does not support binary websocket messages. \" +\n",
       "                    \"Performance may be slow.\");\n",
       "        }\n",
       "    }\n",
       "\n",
       "    this.imageObj = new Image();\n",
       "\n",
       "    this.context = undefined;\n",
       "    this.message = undefined;\n",
       "    this.canvas = undefined;\n",
       "    this.rubberband_canvas = undefined;\n",
       "    this.rubberband_context = undefined;\n",
       "    this.format_dropdown = undefined;\n",
       "\n",
       "    this.image_mode = 'full';\n",
       "\n",
       "    this.root = $('<div/>');\n",
       "    this._root_extra_style(this.root)\n",
       "    this.root.attr('style', 'display: inline-block');\n",
       "\n",
       "    $(parent_element).append(this.root);\n",
       "\n",
       "    this._init_header(this);\n",
       "    this._init_canvas(this);\n",
       "    this._init_toolbar(this);\n",
       "\n",
       "    var fig = this;\n",
       "\n",
       "    this.waiting = false;\n",
       "\n",
       "    this.ws.onopen =  function () {\n",
       "            fig.send_message(\"supports_binary\", {value: fig.supports_binary});\n",
       "            fig.send_message(\"send_image_mode\", {});\n",
       "            if (mpl.ratio != 1) {\n",
       "                fig.send_message(\"set_dpi_ratio\", {'dpi_ratio': mpl.ratio});\n",
       "            }\n",
       "            fig.send_message(\"refresh\", {});\n",
       "        }\n",
       "\n",
       "    this.imageObj.onload = function() {\n",
       "            if (fig.image_mode == 'full') {\n",
       "                // Full images could contain transparency (where diff images\n",
       "                // almost always do), so we need to clear the canvas so that\n",
       "                // there is no ghosting.\n",
       "                fig.context.clearRect(0, 0, fig.canvas.width, fig.canvas.height);\n",
       "            }\n",
       "            fig.context.drawImage(fig.imageObj, 0, 0);\n",
       "        };\n",
       "\n",
       "    this.imageObj.onunload = function() {\n",
       "        fig.ws.close();\n",
       "    }\n",
       "\n",
       "    this.ws.onmessage = this._make_on_message_function(this);\n",
       "\n",
       "    this.ondownload = ondownload;\n",
       "}\n",
       "\n",
       "mpl.figure.prototype._init_header = function() {\n",
       "    var titlebar = $(\n",
       "        '<div class=\"ui-dialog-titlebar ui-widget-header ui-corner-all ' +\n",
       "        'ui-helper-clearfix\"/>');\n",
       "    var titletext = $(\n",
       "        '<div class=\"ui-dialog-title\" style=\"width: 100%; ' +\n",
       "        'text-align: center; padding: 3px;\"/>');\n",
       "    titlebar.append(titletext)\n",
       "    this.root.append(titlebar);\n",
       "    this.header = titletext[0];\n",
       "}\n",
       "\n",
       "\n",
       "\n",
       "mpl.figure.prototype._canvas_extra_style = function(canvas_div) {\n",
       "\n",
       "}\n",
       "\n",
       "\n",
       "mpl.figure.prototype._root_extra_style = function(canvas_div) {\n",
       "\n",
       "}\n",
       "\n",
       "mpl.figure.prototype._init_canvas = function() {\n",
       "    var fig = this;\n",
       "\n",
       "    var canvas_div = $('<div/>');\n",
       "\n",
       "    canvas_div.attr('style', 'position: relative; clear: both; outline: 0');\n",
       "\n",
       "    function canvas_keyboard_event(event) {\n",
       "        return fig.key_event(event, event['data']);\n",
       "    }\n",
       "\n",
       "    canvas_div.keydown('key_press', canvas_keyboard_event);\n",
       "    canvas_div.keyup('key_release', canvas_keyboard_event);\n",
       "    this.canvas_div = canvas_div\n",
       "    this._canvas_extra_style(canvas_div)\n",
       "    this.root.append(canvas_div);\n",
       "\n",
       "    var canvas = $('<canvas/>');\n",
       "    canvas.addClass('mpl-canvas');\n",
       "    canvas.attr('style', \"left: 0; top: 0; z-index: 0; outline: 0\")\n",
       "\n",
       "    this.canvas = canvas[0];\n",
       "    this.context = canvas[0].getContext(\"2d\");\n",
       "\n",
       "    var backingStore = this.context.backingStorePixelRatio ||\n",
       "\tthis.context.webkitBackingStorePixelRatio ||\n",
       "\tthis.context.mozBackingStorePixelRatio ||\n",
       "\tthis.context.msBackingStorePixelRatio ||\n",
       "\tthis.context.oBackingStorePixelRatio ||\n",
       "\tthis.context.backingStorePixelRatio || 1;\n",
       "\n",
       "    mpl.ratio = (window.devicePixelRatio || 1) / backingStore;\n",
       "\n",
       "    var rubberband = $('<canvas/>');\n",
       "    rubberband.attr('style', \"position: absolute; left: 0; top: 0; z-index: 1;\")\n",
       "\n",
       "    var pass_mouse_events = true;\n",
       "\n",
       "    canvas_div.resizable({\n",
       "        start: function(event, ui) {\n",
       "            pass_mouse_events = false;\n",
       "        },\n",
       "        resize: function(event, ui) {\n",
       "            fig.request_resize(ui.size.width, ui.size.height);\n",
       "        },\n",
       "        stop: function(event, ui) {\n",
       "            pass_mouse_events = true;\n",
       "            fig.request_resize(ui.size.width, ui.size.height);\n",
       "        },\n",
       "    });\n",
       "\n",
       "    function mouse_event_fn(event) {\n",
       "        if (pass_mouse_events)\n",
       "            return fig.mouse_event(event, event['data']);\n",
       "    }\n",
       "\n",
       "    rubberband.mousedown('button_press', mouse_event_fn);\n",
       "    rubberband.mouseup('button_release', mouse_event_fn);\n",
       "    // Throttle sequential mouse events to 1 every 20ms.\n",
       "    rubberband.mousemove('motion_notify', mouse_event_fn);\n",
       "\n",
       "    rubberband.mouseenter('figure_enter', mouse_event_fn);\n",
       "    rubberband.mouseleave('figure_leave', mouse_event_fn);\n",
       "\n",
       "    canvas_div.on(\"wheel\", function (event) {\n",
       "        event = event.originalEvent;\n",
       "        event['data'] = 'scroll'\n",
       "        if (event.deltaY < 0) {\n",
       "            event.step = 1;\n",
       "        } else {\n",
       "            event.step = -1;\n",
       "        }\n",
       "        mouse_event_fn(event);\n",
       "    });\n",
       "\n",
       "    canvas_div.append(canvas);\n",
       "    canvas_div.append(rubberband);\n",
       "\n",
       "    this.rubberband = rubberband;\n",
       "    this.rubberband_canvas = rubberband[0];\n",
       "    this.rubberband_context = rubberband[0].getContext(\"2d\");\n",
       "    this.rubberband_context.strokeStyle = \"#000000\";\n",
       "\n",
       "    this._resize_canvas = function(width, height) {\n",
       "        // Keep the size of the canvas, canvas container, and rubber band\n",
       "        // canvas in synch.\n",
       "        canvas_div.css('width', width)\n",
       "        canvas_div.css('height', height)\n",
       "\n",
       "        canvas.attr('width', width * mpl.ratio);\n",
       "        canvas.attr('height', height * mpl.ratio);\n",
       "        canvas.attr('style', 'width: ' + width + 'px; height: ' + height + 'px;');\n",
       "\n",
       "        rubberband.attr('width', width);\n",
       "        rubberband.attr('height', height);\n",
       "    }\n",
       "\n",
       "    // Set the figure to an initial 600x600px, this will subsequently be updated\n",
       "    // upon first draw.\n",
       "    this._resize_canvas(600, 600);\n",
       "\n",
       "    // Disable right mouse context menu.\n",
       "    $(this.rubberband_canvas).bind(\"contextmenu\",function(e){\n",
       "        return false;\n",
       "    });\n",
       "\n",
       "    function set_focus () {\n",
       "        canvas.focus();\n",
       "        canvas_div.focus();\n",
       "    }\n",
       "\n",
       "    window.setTimeout(set_focus, 100);\n",
       "}\n",
       "\n",
       "mpl.figure.prototype._init_toolbar = function() {\n",
       "    var fig = this;\n",
       "\n",
       "    var nav_element = $('<div/>')\n",
       "    nav_element.attr('style', 'width: 100%');\n",
       "    this.root.append(nav_element);\n",
       "\n",
       "    // Define a callback function for later on.\n",
       "    function toolbar_event(event) {\n",
       "        return fig.toolbar_button_onclick(event['data']);\n",
       "    }\n",
       "    function toolbar_mouse_event(event) {\n",
       "        return fig.toolbar_button_onmouseover(event['data']);\n",
       "    }\n",
       "\n",
       "    for(var toolbar_ind in mpl.toolbar_items) {\n",
       "        var name = mpl.toolbar_items[toolbar_ind][0];\n",
       "        var tooltip = mpl.toolbar_items[toolbar_ind][1];\n",
       "        var image = mpl.toolbar_items[toolbar_ind][2];\n",
       "        var method_name = mpl.toolbar_items[toolbar_ind][3];\n",
       "\n",
       "        if (!name) {\n",
       "            // put a spacer in here.\n",
       "            continue;\n",
       "        }\n",
       "        var button = $('<button/>');\n",
       "        button.addClass('ui-button ui-widget ui-state-default ui-corner-all ' +\n",
       "                        'ui-button-icon-only');\n",
       "        button.attr('role', 'button');\n",
       "        button.attr('aria-disabled', 'false');\n",
       "        button.click(method_name, toolbar_event);\n",
       "        button.mouseover(tooltip, toolbar_mouse_event);\n",
       "\n",
       "        var icon_img = $('<span/>');\n",
       "        icon_img.addClass('ui-button-icon-primary ui-icon');\n",
       "        icon_img.addClass(image);\n",
       "        icon_img.addClass('ui-corner-all');\n",
       "\n",
       "        var tooltip_span = $('<span/>');\n",
       "        tooltip_span.addClass('ui-button-text');\n",
       "        tooltip_span.html(tooltip);\n",
       "\n",
       "        button.append(icon_img);\n",
       "        button.append(tooltip_span);\n",
       "\n",
       "        nav_element.append(button);\n",
       "    }\n",
       "\n",
       "    var fmt_picker_span = $('<span/>');\n",
       "\n",
       "    var fmt_picker = $('<select/>');\n",
       "    fmt_picker.addClass('mpl-toolbar-option ui-widget ui-widget-content');\n",
       "    fmt_picker_span.append(fmt_picker);\n",
       "    nav_element.append(fmt_picker_span);\n",
       "    this.format_dropdown = fmt_picker[0];\n",
       "\n",
       "    for (var ind in mpl.extensions) {\n",
       "        var fmt = mpl.extensions[ind];\n",
       "        var option = $(\n",
       "            '<option/>', {selected: fmt === mpl.default_extension}).html(fmt);\n",
       "        fmt_picker.append(option)\n",
       "    }\n",
       "\n",
       "    // Add hover states to the ui-buttons\n",
       "    $( \".ui-button\" ).hover(\n",
       "        function() { $(this).addClass(\"ui-state-hover\");},\n",
       "        function() { $(this).removeClass(\"ui-state-hover\");}\n",
       "    );\n",
       "\n",
       "    var status_bar = $('<span class=\"mpl-message\"/>');\n",
       "    nav_element.append(status_bar);\n",
       "    this.message = status_bar[0];\n",
       "}\n",
       "\n",
       "mpl.figure.prototype.request_resize = function(x_pixels, y_pixels) {\n",
       "    // Request matplotlib to resize the figure. Matplotlib will then trigger a resize in the client,\n",
       "    // which will in turn request a refresh of the image.\n",
       "    this.send_message('resize', {'width': x_pixels, 'height': y_pixels});\n",
       "}\n",
       "\n",
       "mpl.figure.prototype.send_message = function(type, properties) {\n",
       "    properties['type'] = type;\n",
       "    properties['figure_id'] = this.id;\n",
       "    this.ws.send(JSON.stringify(properties));\n",
       "}\n",
       "\n",
       "mpl.figure.prototype.send_draw_message = function() {\n",
       "    if (!this.waiting) {\n",
       "        this.waiting = true;\n",
       "        this.ws.send(JSON.stringify({type: \"draw\", figure_id: this.id}));\n",
       "    }\n",
       "}\n",
       "\n",
       "\n",
       "mpl.figure.prototype.handle_save = function(fig, msg) {\n",
       "    var format_dropdown = fig.format_dropdown;\n",
       "    var format = format_dropdown.options[format_dropdown.selectedIndex].value;\n",
       "    fig.ondownload(fig, format);\n",
       "}\n",
       "\n",
       "\n",
       "mpl.figure.prototype.handle_resize = function(fig, msg) {\n",
       "    var size = msg['size'];\n",
       "    if (size[0] != fig.canvas.width || size[1] != fig.canvas.height) {\n",
       "        fig._resize_canvas(size[0], size[1]);\n",
       "        fig.send_message(\"refresh\", {});\n",
       "    };\n",
       "}\n",
       "\n",
       "mpl.figure.prototype.handle_rubberband = function(fig, msg) {\n",
       "    var x0 = msg['x0'] / mpl.ratio;\n",
       "    var y0 = (fig.canvas.height - msg['y0']) / mpl.ratio;\n",
       "    var x1 = msg['x1'] / mpl.ratio;\n",
       "    var y1 = (fig.canvas.height - msg['y1']) / mpl.ratio;\n",
       "    x0 = Math.floor(x0) + 0.5;\n",
       "    y0 = Math.floor(y0) + 0.5;\n",
       "    x1 = Math.floor(x1) + 0.5;\n",
       "    y1 = Math.floor(y1) + 0.5;\n",
       "    var min_x = Math.min(x0, x1);\n",
       "    var min_y = Math.min(y0, y1);\n",
       "    var width = Math.abs(x1 - x0);\n",
       "    var height = Math.abs(y1 - y0);\n",
       "\n",
       "    fig.rubberband_context.clearRect(\n",
       "        0, 0, fig.canvas.width, fig.canvas.height);\n",
       "\n",
       "    fig.rubberband_context.strokeRect(min_x, min_y, width, height);\n",
       "}\n",
       "\n",
       "mpl.figure.prototype.handle_figure_label = function(fig, msg) {\n",
       "    // Updates the figure title.\n",
       "    fig.header.textContent = msg['label'];\n",
       "}\n",
       "\n",
       "mpl.figure.prototype.handle_cursor = function(fig, msg) {\n",
       "    var cursor = msg['cursor'];\n",
       "    switch(cursor)\n",
       "    {\n",
       "    case 0:\n",
       "        cursor = 'pointer';\n",
       "        break;\n",
       "    case 1:\n",
       "        cursor = 'default';\n",
       "        break;\n",
       "    case 2:\n",
       "        cursor = 'crosshair';\n",
       "        break;\n",
       "    case 3:\n",
       "        cursor = 'move';\n",
       "        break;\n",
       "    }\n",
       "    fig.rubberband_canvas.style.cursor = cursor;\n",
       "}\n",
       "\n",
       "mpl.figure.prototype.handle_message = function(fig, msg) {\n",
       "    fig.message.textContent = msg['message'];\n",
       "}\n",
       "\n",
       "mpl.figure.prototype.handle_draw = function(fig, msg) {\n",
       "    // Request the server to send over a new figure.\n",
       "    fig.send_draw_message();\n",
       "}\n",
       "\n",
       "mpl.figure.prototype.handle_image_mode = function(fig, msg) {\n",
       "    fig.image_mode = msg['mode'];\n",
       "}\n",
       "\n",
       "mpl.figure.prototype.updated_canvas_event = function() {\n",
       "    // Called whenever the canvas gets updated.\n",
       "    this.send_message(\"ack\", {});\n",
       "}\n",
       "\n",
       "// A function to construct a web socket function for onmessage handling.\n",
       "// Called in the figure constructor.\n",
       "mpl.figure.prototype._make_on_message_function = function(fig) {\n",
       "    return function socket_on_message(evt) {\n",
       "        if (evt.data instanceof Blob) {\n",
       "            /* FIXME: We get \"Resource interpreted as Image but\n",
       "             * transferred with MIME type text/plain:\" errors on\n",
       "             * Chrome.  But how to set the MIME type?  It doesn't seem\n",
       "             * to be part of the websocket stream */\n",
       "            evt.data.type = \"image/png\";\n",
       "\n",
       "            /* Free the memory for the previous frames */\n",
       "            if (fig.imageObj.src) {\n",
       "                (window.URL || window.webkitURL).revokeObjectURL(\n",
       "                    fig.imageObj.src);\n",
       "            }\n",
       "\n",
       "            fig.imageObj.src = (window.URL || window.webkitURL).createObjectURL(\n",
       "                evt.data);\n",
       "            fig.updated_canvas_event();\n",
       "            fig.waiting = false;\n",
       "            return;\n",
       "        }\n",
       "        else if (typeof evt.data === 'string' && evt.data.slice(0, 21) == \"data:image/png;base64\") {\n",
       "            fig.imageObj.src = evt.data;\n",
       "            fig.updated_canvas_event();\n",
       "            fig.waiting = false;\n",
       "            return;\n",
       "        }\n",
       "\n",
       "        var msg = JSON.parse(evt.data);\n",
       "        var msg_type = msg['type'];\n",
       "\n",
       "        // Call the  \"handle_{type}\" callback, which takes\n",
       "        // the figure and JSON message as its only arguments.\n",
       "        try {\n",
       "            var callback = fig[\"handle_\" + msg_type];\n",
       "        } catch (e) {\n",
       "            console.log(\"No handler for the '\" + msg_type + \"' message type: \", msg);\n",
       "            return;\n",
       "        }\n",
       "\n",
       "        if (callback) {\n",
       "            try {\n",
       "                // console.log(\"Handling '\" + msg_type + \"' message: \", msg);\n",
       "                callback(fig, msg);\n",
       "            } catch (e) {\n",
       "                console.log(\"Exception inside the 'handler_\" + msg_type + \"' callback:\", e, e.stack, msg);\n",
       "            }\n",
       "        }\n",
       "    };\n",
       "}\n",
       "\n",
       "// from http://stackoverflow.com/questions/1114465/getting-mouse-location-in-canvas\n",
       "mpl.findpos = function(e) {\n",
       "    //this section is from http://www.quirksmode.org/js/events_properties.html\n",
       "    var targ;\n",
       "    if (!e)\n",
       "        e = window.event;\n",
       "    if (e.target)\n",
       "        targ = e.target;\n",
       "    else if (e.srcElement)\n",
       "        targ = e.srcElement;\n",
       "    if (targ.nodeType == 3) // defeat Safari bug\n",
       "        targ = targ.parentNode;\n",
       "\n",
       "    // jQuery normalizes the pageX and pageY\n",
       "    // pageX,Y are the mouse positions relative to the document\n",
       "    // offset() returns the position of the element relative to the document\n",
       "    var x = e.pageX - $(targ).offset().left;\n",
       "    var y = e.pageY - $(targ).offset().top;\n",
       "\n",
       "    return {\"x\": x, \"y\": y};\n",
       "};\n",
       "\n",
       "/*\n",
       " * return a copy of an object with only non-object keys\n",
       " * we need this to avoid circular references\n",
       " * http://stackoverflow.com/a/24161582/3208463\n",
       " */\n",
       "function simpleKeys (original) {\n",
       "  return Object.keys(original).reduce(function (obj, key) {\n",
       "    if (typeof original[key] !== 'object')\n",
       "        obj[key] = original[key]\n",
       "    return obj;\n",
       "  }, {});\n",
       "}\n",
       "\n",
       "mpl.figure.prototype.mouse_event = function(event, name) {\n",
       "    var canvas_pos = mpl.findpos(event)\n",
       "\n",
       "    if (name === 'button_press')\n",
       "    {\n",
       "        this.canvas.focus();\n",
       "        this.canvas_div.focus();\n",
       "    }\n",
       "\n",
       "    var x = canvas_pos.x * mpl.ratio;\n",
       "    var y = canvas_pos.y * mpl.ratio;\n",
       "\n",
       "    this.send_message(name, {x: x, y: y, button: event.button,\n",
       "                             step: event.step,\n",
       "                             guiEvent: simpleKeys(event)});\n",
       "\n",
       "    /* This prevents the web browser from automatically changing to\n",
       "     * the text insertion cursor when the button is pressed.  We want\n",
       "     * to control all of the cursor setting manually through the\n",
       "     * 'cursor' event from matplotlib */\n",
       "    event.preventDefault();\n",
       "    return false;\n",
       "}\n",
       "\n",
       "mpl.figure.prototype._key_event_extra = function(event, name) {\n",
       "    // Handle any extra behaviour associated with a key event\n",
       "}\n",
       "\n",
       "mpl.figure.prototype.key_event = function(event, name) {\n",
       "\n",
       "    // Prevent repeat events\n",
       "    if (name == 'key_press')\n",
       "    {\n",
       "        if (event.which === this._key)\n",
       "            return;\n",
       "        else\n",
       "            this._key = event.which;\n",
       "    }\n",
       "    if (name == 'key_release')\n",
       "        this._key = null;\n",
       "\n",
       "    var value = '';\n",
       "    if (event.ctrlKey && event.which != 17)\n",
       "        value += \"ctrl+\";\n",
       "    if (event.altKey && event.which != 18)\n",
       "        value += \"alt+\";\n",
       "    if (event.shiftKey && event.which != 16)\n",
       "        value += \"shift+\";\n",
       "\n",
       "    value += 'k';\n",
       "    value += event.which.toString();\n",
       "\n",
       "    this._key_event_extra(event, name);\n",
       "\n",
       "    this.send_message(name, {key: value,\n",
       "                             guiEvent: simpleKeys(event)});\n",
       "    return false;\n",
       "}\n",
       "\n",
       "mpl.figure.prototype.toolbar_button_onclick = function(name) {\n",
       "    if (name == 'download') {\n",
       "        this.handle_save(this, null);\n",
       "    } else {\n",
       "        this.send_message(\"toolbar_button\", {name: name});\n",
       "    }\n",
       "};\n",
       "\n",
       "mpl.figure.prototype.toolbar_button_onmouseover = function(tooltip) {\n",
       "    this.message.textContent = tooltip;\n",
       "};\n",
       "mpl.toolbar_items = [[\"Home\", \"Reset original view\", \"fa fa-home icon-home\", \"home\"], [\"Back\", \"Back to previous view\", \"fa fa-arrow-left icon-arrow-left\", \"back\"], [\"Forward\", \"Forward to next view\", \"fa fa-arrow-right icon-arrow-right\", \"forward\"], [\"\", \"\", \"\", \"\"], [\"Pan\", \"Pan axes with left mouse, zoom with right\", \"fa fa-arrows icon-move\", \"pan\"], [\"Zoom\", \"Zoom to rectangle\", \"fa fa-square-o icon-check-empty\", \"zoom\"], [\"\", \"\", \"\", \"\"], [\"Download\", \"Download plot\", \"fa fa-floppy-o icon-save\", \"download\"]];\n",
       "\n",
       "mpl.extensions = [\"eps\", \"jpeg\", \"pdf\", \"png\", \"ps\", \"raw\", \"svg\", \"tif\"];\n",
       "\n",
       "mpl.default_extension = \"png\";var comm_websocket_adapter = function(comm) {\n",
       "    // Create a \"websocket\"-like object which calls the given IPython comm\n",
       "    // object with the appropriate methods. Currently this is a non binary\n",
       "    // socket, so there is still some room for performance tuning.\n",
       "    var ws = {};\n",
       "\n",
       "    ws.close = function() {\n",
       "        comm.close()\n",
       "    };\n",
       "    ws.send = function(m) {\n",
       "        //console.log('sending', m);\n",
       "        comm.send(m);\n",
       "    };\n",
       "    // Register the callback with on_msg.\n",
       "    comm.on_msg(function(msg) {\n",
       "        //console.log('receiving', msg['content']['data'], msg);\n",
       "        // Pass the mpl event to the overridden (by mpl) onmessage function.\n",
       "        ws.onmessage(msg['content']['data'])\n",
       "    });\n",
       "    return ws;\n",
       "}\n",
       "\n",
       "mpl.mpl_figure_comm = function(comm, msg) {\n",
       "    // This is the function which gets called when the mpl process\n",
       "    // starts-up an IPython Comm through the \"matplotlib\" channel.\n",
       "\n",
       "    var id = msg.content.data.id;\n",
       "    // Get hold of the div created by the display call when the Comm\n",
       "    // socket was opened in Python.\n",
       "    var element = $(\"#\" + id);\n",
       "    var ws_proxy = comm_websocket_adapter(comm)\n",
       "\n",
       "    function ondownload(figure, format) {\n",
       "        window.open(figure.imageObj.src);\n",
       "    }\n",
       "\n",
       "    var fig = new mpl.figure(id, ws_proxy,\n",
       "                           ondownload,\n",
       "                           element.get(0));\n",
       "\n",
       "    // Call onopen now - mpl needs it, as it is assuming we've passed it a real\n",
       "    // web socket which is closed, not our websocket->open comm proxy.\n",
       "    ws_proxy.onopen();\n",
       "\n",
       "    fig.parent_element = element.get(0);\n",
       "    fig.cell_info = mpl.find_output_cell(\"<div id='\" + id + \"'></div>\");\n",
       "    if (!fig.cell_info) {\n",
       "        console.error(\"Failed to find cell for figure\", id, fig);\n",
       "        return;\n",
       "    }\n",
       "\n",
       "    var output_index = fig.cell_info[2]\n",
       "    var cell = fig.cell_info[0];\n",
       "\n",
       "};\n",
       "\n",
       "mpl.figure.prototype.handle_close = function(fig, msg) {\n",
       "    var width = fig.canvas.width/mpl.ratio\n",
       "    fig.root.unbind('remove')\n",
       "\n",
       "    // Update the output cell to use the data from the current canvas.\n",
       "    fig.push_to_output();\n",
       "    var dataURL = fig.canvas.toDataURL();\n",
       "    // Re-enable the keyboard manager in IPython - without this line, in FF,\n",
       "    // the notebook keyboard shortcuts fail.\n",
       "    IPython.keyboard_manager.enable()\n",
       "    $(fig.parent_element).html('<img src=\"' + dataURL + '\" width=\"' + width + '\">');\n",
       "    fig.close_ws(fig, msg);\n",
       "}\n",
       "\n",
       "mpl.figure.prototype.close_ws = function(fig, msg){\n",
       "    fig.send_message('closing', msg);\n",
       "    // fig.ws.close()\n",
       "}\n",
       "\n",
       "mpl.figure.prototype.push_to_output = function(remove_interactive) {\n",
       "    // Turn the data on the canvas into data in the output cell.\n",
       "    var width = this.canvas.width/mpl.ratio\n",
       "    var dataURL = this.canvas.toDataURL();\n",
       "    this.cell_info[1]['text/html'] = '<img src=\"' + dataURL + '\" width=\"' + width + '\">';\n",
       "}\n",
       "\n",
       "mpl.figure.prototype.updated_canvas_event = function() {\n",
       "    // Tell IPython that the notebook contents must change.\n",
       "    IPython.notebook.set_dirty(true);\n",
       "    this.send_message(\"ack\", {});\n",
       "    var fig = this;\n",
       "    // Wait a second, then push the new image to the DOM so\n",
       "    // that it is saved nicely (might be nice to debounce this).\n",
       "    setTimeout(function () { fig.push_to_output() }, 1000);\n",
       "}\n",
       "\n",
       "mpl.figure.prototype._init_toolbar = function() {\n",
       "    var fig = this;\n",
       "\n",
       "    var nav_element = $('<div/>')\n",
       "    nav_element.attr('style', 'width: 100%');\n",
       "    this.root.append(nav_element);\n",
       "\n",
       "    // Define a callback function for later on.\n",
       "    function toolbar_event(event) {\n",
       "        return fig.toolbar_button_onclick(event['data']);\n",
       "    }\n",
       "    function toolbar_mouse_event(event) {\n",
       "        return fig.toolbar_button_onmouseover(event['data']);\n",
       "    }\n",
       "\n",
       "    for(var toolbar_ind in mpl.toolbar_items){\n",
       "        var name = mpl.toolbar_items[toolbar_ind][0];\n",
       "        var tooltip = mpl.toolbar_items[toolbar_ind][1];\n",
       "        var image = mpl.toolbar_items[toolbar_ind][2];\n",
       "        var method_name = mpl.toolbar_items[toolbar_ind][3];\n",
       "\n",
       "        if (!name) { continue; };\n",
       "\n",
       "        var button = $('<button class=\"btn btn-default\" href=\"#\" title=\"' + name + '\"><i class=\"fa ' + image + ' fa-lg\"></i></button>');\n",
       "        button.click(method_name, toolbar_event);\n",
       "        button.mouseover(tooltip, toolbar_mouse_event);\n",
       "        nav_element.append(button);\n",
       "    }\n",
       "\n",
       "    // Add the status bar.\n",
       "    var status_bar = $('<span class=\"mpl-message\" style=\"text-align:right; float: right;\"/>');\n",
       "    nav_element.append(status_bar);\n",
       "    this.message = status_bar[0];\n",
       "\n",
       "    // Add the close button to the window.\n",
       "    var buttongrp = $('<div class=\"btn-group inline pull-right\"></div>');\n",
       "    var button = $('<button class=\"btn btn-mini btn-primary\" href=\"#\" title=\"Stop Interaction\"><i class=\"fa fa-power-off icon-remove icon-large\"></i></button>');\n",
       "    button.click(function (evt) { fig.handle_close(fig, {}); } );\n",
       "    button.mouseover('Stop Interaction', toolbar_mouse_event);\n",
       "    buttongrp.append(button);\n",
       "    var titlebar = this.root.find($('.ui-dialog-titlebar'));\n",
       "    titlebar.prepend(buttongrp);\n",
       "}\n",
       "\n",
       "mpl.figure.prototype._root_extra_style = function(el){\n",
       "    var fig = this\n",
       "    el.on(\"remove\", function(){\n",
       "\tfig.close_ws(fig, {});\n",
       "    });\n",
       "}\n",
       "\n",
       "mpl.figure.prototype._canvas_extra_style = function(el){\n",
       "    // this is important to make the div 'focusable\n",
       "    el.attr('tabindex', 0)\n",
       "    // reach out to IPython and tell the keyboard manager to turn it's self\n",
       "    // off when our div gets focus\n",
       "\n",
       "    // location in version 3\n",
       "    if (IPython.notebook.keyboard_manager) {\n",
       "        IPython.notebook.keyboard_manager.register_events(el);\n",
       "    }\n",
       "    else {\n",
       "        // location in version 2\n",
       "        IPython.keyboard_manager.register_events(el);\n",
       "    }\n",
       "\n",
       "}\n",
       "\n",
       "mpl.figure.prototype._key_event_extra = function(event, name) {\n",
       "    var manager = IPython.notebook.keyboard_manager;\n",
       "    if (!manager)\n",
       "        manager = IPython.keyboard_manager;\n",
       "\n",
       "    // Check for shift+enter\n",
       "    if (event.shiftKey && event.which == 13) {\n",
       "        this.canvas_div.blur();\n",
       "        event.shiftKey = false;\n",
       "        // Send a \"J\" for go to next cell\n",
       "        event.which = 74;\n",
       "        event.keyCode = 74;\n",
       "        manager.command_mode();\n",
       "        manager.handle_keydown(event);\n",
       "    }\n",
       "}\n",
       "\n",
       "mpl.figure.prototype.handle_save = function(fig, msg) {\n",
       "    fig.ondownload(fig, null);\n",
       "}\n",
       "\n",
       "\n",
       "mpl.find_output_cell = function(html_output) {\n",
       "    // Return the cell and output element which can be found *uniquely* in the notebook.\n",
       "    // Note - this is a bit hacky, but it is done because the \"notebook_saving.Notebook\"\n",
       "    // IPython event is triggered only after the cells have been serialised, which for\n",
       "    // our purposes (turning an active figure into a static one), is too late.\n",
       "    var cells = IPython.notebook.get_cells();\n",
       "    var ncells = cells.length;\n",
       "    for (var i=0; i<ncells; i++) {\n",
       "        var cell = cells[i];\n",
       "        if (cell.cell_type === 'code'){\n",
       "            for (var j=0; j<cell.output_area.outputs.length; j++) {\n",
       "                var data = cell.output_area.outputs[j];\n",
       "                if (data.data) {\n",
       "                    // IPython >= 3 moved mimebundle to data attribute of output\n",
       "                    data = data.data;\n",
       "                }\n",
       "                if (data['text/html'] == html_output) {\n",
       "                    return [cell, data, j];\n",
       "                }\n",
       "            }\n",
       "        }\n",
       "    }\n",
       "}\n",
       "\n",
       "// Register the function which deals with the matplotlib target/channel.\n",
       "// The kernel may be null if the page has been refreshed.\n",
       "if (IPython.notebook.kernel != null) {\n",
       "    IPython.notebook.kernel.comm_manager.register_target('matplotlib', mpl.mpl_figure_comm);\n",
       "}\n"
      ],
      "text/plain": [
       "<IPython.core.display.Javascript object>"
      ]
     },
     "metadata": {},
     "output_type": "display_data"
    },
    {
     "data": {
      "text/html": [
       "<img src=\"data:image/png;base64,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\" width=\"449.8666666666667\">"
      ],
      "text/plain": [
       "<IPython.core.display.HTML object>"
      ]
     },
     "metadata": {},
     "output_type": "display_data"
    }
   ],
   "source": [
    "x = np.linspace(-10,10,30)\n",
    "X,Y = np.meshgrid(x,x)\n",
    "Mask = X**2+Y**2 < 7**2\n",
    "plt.figure(figsize=(4.5,4.5))\n",
    "plt.imshow(Mask)\n",
    "plt.axis('off');plt.show()`"
   ]
  },
  {
   "cell_type": "markdown",
   "metadata": {
    "slideshow": {
     "slide_type": "subslide"
    }
   },
   "source": [
    "##### Saving figures"
   ]
  },
  {
   "cell_type": "code",
   "execution_count": 117,
   "metadata": {
    "slideshow": {
     "slide_type": "fragment"
    }
   },
   "outputs": [],
   "source": [
    "plt.savefig(\"test.eps\", format=\"eps\")"
   ]
  },
  {
   "cell_type": "markdown",
   "metadata": {
    "slideshow": {
     "slide_type": "subslide"
    }
   },
   "source": [
    "### Exercise\n",
    "\n",
    "\n",
    "Goal:  **Generate a low spatial frequency random pattern**\n",
    "\n",
    "Steps:\n",
    "1. Generate a 200 by 200 real image with a normal distribution,\n",
    "2. Calculate the DFT,\n",
    "3. Filter the hight spatial frequencies using a circular mask,\n",
    "3. Do the inverse DFT,\n",
    "4. Display the original image, the DFT, the mask and the final image with subplot."
   ]
  },
  {
   "cell_type": "code",
   "execution_count": 87,
   "metadata": {
    "slideshow": {
     "slide_type": "subslide"
    }
   },
   "outputs": [
    {
     "data": {
      "application/javascript": [
       "/* Put everything inside the global mpl namespace */\n",
       "window.mpl = {};\n",
       "\n",
       "\n",
       "mpl.get_websocket_type = function() {\n",
       "    if (typeof(WebSocket) !== 'undefined') {\n",
       "        return WebSocket;\n",
       "    } else if (typeof(MozWebSocket) !== 'undefined') {\n",
       "        return MozWebSocket;\n",
       "    } else {\n",
       "        alert('Your browser does not have WebSocket support.' +\n",
       "              'Please try Chrome, Safari or Firefox ≥ 6. ' +\n",
       "              'Firefox 4 and 5 are also supported but you ' +\n",
       "              'have to enable WebSockets in about:config.');\n",
       "    };\n",
       "}\n",
       "\n",
       "mpl.figure = function(figure_id, websocket, ondownload, parent_element) {\n",
       "    this.id = figure_id;\n",
       "\n",
       "    this.ws = websocket;\n",
       "\n",
       "    this.supports_binary = (this.ws.binaryType != undefined);\n",
       "\n",
       "    if (!this.supports_binary) {\n",
       "        var warnings = document.getElementById(\"mpl-warnings\");\n",
       "        if (warnings) {\n",
       "            warnings.style.display = 'block';\n",
       "            warnings.textContent = (\n",
       "                \"This browser does not support binary websocket messages. \" +\n",
       "                    \"Performance may be slow.\");\n",
       "        }\n",
       "    }\n",
       "\n",
       "    this.imageObj = new Image();\n",
       "\n",
       "    this.context = undefined;\n",
       "    this.message = undefined;\n",
       "    this.canvas = undefined;\n",
       "    this.rubberband_canvas = undefined;\n",
       "    this.rubberband_context = undefined;\n",
       "    this.format_dropdown = undefined;\n",
       "\n",
       "    this.image_mode = 'full';\n",
       "\n",
       "    this.root = $('<div/>');\n",
       "    this._root_extra_style(this.root)\n",
       "    this.root.attr('style', 'display: inline-block');\n",
       "\n",
       "    $(parent_element).append(this.root);\n",
       "\n",
       "    this._init_header(this);\n",
       "    this._init_canvas(this);\n",
       "    this._init_toolbar(this);\n",
       "\n",
       "    var fig = this;\n",
       "\n",
       "    this.waiting = false;\n",
       "\n",
       "    this.ws.onopen =  function () {\n",
       "            fig.send_message(\"supports_binary\", {value: fig.supports_binary});\n",
       "            fig.send_message(\"send_image_mode\", {});\n",
       "            if (mpl.ratio != 1) {\n",
       "                fig.send_message(\"set_dpi_ratio\", {'dpi_ratio': mpl.ratio});\n",
       "            }\n",
       "            fig.send_message(\"refresh\", {});\n",
       "        }\n",
       "\n",
       "    this.imageObj.onload = function() {\n",
       "            if (fig.image_mode == 'full') {\n",
       "                // Full images could contain transparency (where diff images\n",
       "                // almost always do), so we need to clear the canvas so that\n",
       "                // there is no ghosting.\n",
       "                fig.context.clearRect(0, 0, fig.canvas.width, fig.canvas.height);\n",
       "            }\n",
       "            fig.context.drawImage(fig.imageObj, 0, 0);\n",
       "        };\n",
       "\n",
       "    this.imageObj.onunload = function() {\n",
       "        fig.ws.close();\n",
       "    }\n",
       "\n",
       "    this.ws.onmessage = this._make_on_message_function(this);\n",
       "\n",
       "    this.ondownload = ondownload;\n",
       "}\n",
       "\n",
       "mpl.figure.prototype._init_header = function() {\n",
       "    var titlebar = $(\n",
       "        '<div class=\"ui-dialog-titlebar ui-widget-header ui-corner-all ' +\n",
       "        'ui-helper-clearfix\"/>');\n",
       "    var titletext = $(\n",
       "        '<div class=\"ui-dialog-title\" style=\"width: 100%; ' +\n",
       "        'text-align: center; padding: 3px;\"/>');\n",
       "    titlebar.append(titletext)\n",
       "    this.root.append(titlebar);\n",
       "    this.header = titletext[0];\n",
       "}\n",
       "\n",
       "\n",
       "\n",
       "mpl.figure.prototype._canvas_extra_style = function(canvas_div) {\n",
       "\n",
       "}\n",
       "\n",
       "\n",
       "mpl.figure.prototype._root_extra_style = function(canvas_div) {\n",
       "\n",
       "}\n",
       "\n",
       "mpl.figure.prototype._init_canvas = function() {\n",
       "    var fig = this;\n",
       "\n",
       "    var canvas_div = $('<div/>');\n",
       "\n",
       "    canvas_div.attr('style', 'position: relative; clear: both; outline: 0');\n",
       "\n",
       "    function canvas_keyboard_event(event) {\n",
       "        return fig.key_event(event, event['data']);\n",
       "    }\n",
       "\n",
       "    canvas_div.keydown('key_press', canvas_keyboard_event);\n",
       "    canvas_div.keyup('key_release', canvas_keyboard_event);\n",
       "    this.canvas_div = canvas_div\n",
       "    this._canvas_extra_style(canvas_div)\n",
       "    this.root.append(canvas_div);\n",
       "\n",
       "    var canvas = $('<canvas/>');\n",
       "    canvas.addClass('mpl-canvas');\n",
       "    canvas.attr('style', \"left: 0; top: 0; z-index: 0; outline: 0\")\n",
       "\n",
       "    this.canvas = canvas[0];\n",
       "    this.context = canvas[0].getContext(\"2d\");\n",
       "\n",
       "    var backingStore = this.context.backingStorePixelRatio ||\n",
       "\tthis.context.webkitBackingStorePixelRatio ||\n",
       "\tthis.context.mozBackingStorePixelRatio ||\n",
       "\tthis.context.msBackingStorePixelRatio ||\n",
       "\tthis.context.oBackingStorePixelRatio ||\n",
       "\tthis.context.backingStorePixelRatio || 1;\n",
       "\n",
       "    mpl.ratio = (window.devicePixelRatio || 1) / backingStore;\n",
       "\n",
       "    var rubberband = $('<canvas/>');\n",
       "    rubberband.attr('style', \"position: absolute; left: 0; top: 0; z-index: 1;\")\n",
       "\n",
       "    var pass_mouse_events = true;\n",
       "\n",
       "    canvas_div.resizable({\n",
       "        start: function(event, ui) {\n",
       "            pass_mouse_events = false;\n",
       "        },\n",
       "        resize: function(event, ui) {\n",
       "            fig.request_resize(ui.size.width, ui.size.height);\n",
       "        },\n",
       "        stop: function(event, ui) {\n",
       "            pass_mouse_events = true;\n",
       "            fig.request_resize(ui.size.width, ui.size.height);\n",
       "        },\n",
       "    });\n",
       "\n",
       "    function mouse_event_fn(event) {\n",
       "        if (pass_mouse_events)\n",
       "            return fig.mouse_event(event, event['data']);\n",
       "    }\n",
       "\n",
       "    rubberband.mousedown('button_press', mouse_event_fn);\n",
       "    rubberband.mouseup('button_release', mouse_event_fn);\n",
       "    // Throttle sequential mouse events to 1 every 20ms.\n",
       "    rubberband.mousemove('motion_notify', mouse_event_fn);\n",
       "\n",
       "    rubberband.mouseenter('figure_enter', mouse_event_fn);\n",
       "    rubberband.mouseleave('figure_leave', mouse_event_fn);\n",
       "\n",
       "    canvas_div.on(\"wheel\", function (event) {\n",
       "        event = event.originalEvent;\n",
       "        event['data'] = 'scroll'\n",
       "        if (event.deltaY < 0) {\n",
       "            event.step = 1;\n",
       "        } else {\n",
       "            event.step = -1;\n",
       "        }\n",
       "        mouse_event_fn(event);\n",
       "    });\n",
       "\n",
       "    canvas_div.append(canvas);\n",
       "    canvas_div.append(rubberband);\n",
       "\n",
       "    this.rubberband = rubberband;\n",
       "    this.rubberband_canvas = rubberband[0];\n",
       "    this.rubberband_context = rubberband[0].getContext(\"2d\");\n",
       "    this.rubberband_context.strokeStyle = \"#000000\";\n",
       "\n",
       "    this._resize_canvas = function(width, height) {\n",
       "        // Keep the size of the canvas, canvas container, and rubber band\n",
       "        // canvas in synch.\n",
       "        canvas_div.css('width', width)\n",
       "        canvas_div.css('height', height)\n",
       "\n",
       "        canvas.attr('width', width * mpl.ratio);\n",
       "        canvas.attr('height', height * mpl.ratio);\n",
       "        canvas.attr('style', 'width: ' + width + 'px; height: ' + height + 'px;');\n",
       "\n",
       "        rubberband.attr('width', width);\n",
       "        rubberband.attr('height', height);\n",
       "    }\n",
       "\n",
       "    // Set the figure to an initial 600x600px, this will subsequently be updated\n",
       "    // upon first draw.\n",
       "    this._resize_canvas(600, 600);\n",
       "\n",
       "    // Disable right mouse context menu.\n",
       "    $(this.rubberband_canvas).bind(\"contextmenu\",function(e){\n",
       "        return false;\n",
       "    });\n",
       "\n",
       "    function set_focus () {\n",
       "        canvas.focus();\n",
       "        canvas_div.focus();\n",
       "    }\n",
       "\n",
       "    window.setTimeout(set_focus, 100);\n",
       "}\n",
       "\n",
       "mpl.figure.prototype._init_toolbar = function() {\n",
       "    var fig = this;\n",
       "\n",
       "    var nav_element = $('<div/>')\n",
       "    nav_element.attr('style', 'width: 100%');\n",
       "    this.root.append(nav_element);\n",
       "\n",
       "    // Define a callback function for later on.\n",
       "    function toolbar_event(event) {\n",
       "        return fig.toolbar_button_onclick(event['data']);\n",
       "    }\n",
       "    function toolbar_mouse_event(event) {\n",
       "        return fig.toolbar_button_onmouseover(event['data']);\n",
       "    }\n",
       "\n",
       "    for(var toolbar_ind in mpl.toolbar_items) {\n",
       "        var name = mpl.toolbar_items[toolbar_ind][0];\n",
       "        var tooltip = mpl.toolbar_items[toolbar_ind][1];\n",
       "        var image = mpl.toolbar_items[toolbar_ind][2];\n",
       "        var method_name = mpl.toolbar_items[toolbar_ind][3];\n",
       "\n",
       "        if (!name) {\n",
       "            // put a spacer in here.\n",
       "            continue;\n",
       "        }\n",
       "        var button = $('<button/>');\n",
       "        button.addClass('ui-button ui-widget ui-state-default ui-corner-all ' +\n",
       "                        'ui-button-icon-only');\n",
       "        button.attr('role', 'button');\n",
       "        button.attr('aria-disabled', 'false');\n",
       "        button.click(method_name, toolbar_event);\n",
       "        button.mouseover(tooltip, toolbar_mouse_event);\n",
       "\n",
       "        var icon_img = $('<span/>');\n",
       "        icon_img.addClass('ui-button-icon-primary ui-icon');\n",
       "        icon_img.addClass(image);\n",
       "        icon_img.addClass('ui-corner-all');\n",
       "\n",
       "        var tooltip_span = $('<span/>');\n",
       "        tooltip_span.addClass('ui-button-text');\n",
       "        tooltip_span.html(tooltip);\n",
       "\n",
       "        button.append(icon_img);\n",
       "        button.append(tooltip_span);\n",
       "\n",
       "        nav_element.append(button);\n",
       "    }\n",
       "\n",
       "    var fmt_picker_span = $('<span/>');\n",
       "\n",
       "    var fmt_picker = $('<select/>');\n",
       "    fmt_picker.addClass('mpl-toolbar-option ui-widget ui-widget-content');\n",
       "    fmt_picker_span.append(fmt_picker);\n",
       "    nav_element.append(fmt_picker_span);\n",
       "    this.format_dropdown = fmt_picker[0];\n",
       "\n",
       "    for (var ind in mpl.extensions) {\n",
       "        var fmt = mpl.extensions[ind];\n",
       "        var option = $(\n",
       "            '<option/>', {selected: fmt === mpl.default_extension}).html(fmt);\n",
       "        fmt_picker.append(option)\n",
       "    }\n",
       "\n",
       "    // Add hover states to the ui-buttons\n",
       "    $( \".ui-button\" ).hover(\n",
       "        function() { $(this).addClass(\"ui-state-hover\");},\n",
       "        function() { $(this).removeClass(\"ui-state-hover\");}\n",
       "    );\n",
       "\n",
       "    var status_bar = $('<span class=\"mpl-message\"/>');\n",
       "    nav_element.append(status_bar);\n",
       "    this.message = status_bar[0];\n",
       "}\n",
       "\n",
       "mpl.figure.prototype.request_resize = function(x_pixels, y_pixels) {\n",
       "    // Request matplotlib to resize the figure. Matplotlib will then trigger a resize in the client,\n",
       "    // which will in turn request a refresh of the image.\n",
       "    this.send_message('resize', {'width': x_pixels, 'height': y_pixels});\n",
       "}\n",
       "\n",
       "mpl.figure.prototype.send_message = function(type, properties) {\n",
       "    properties['type'] = type;\n",
       "    properties['figure_id'] = this.id;\n",
       "    this.ws.send(JSON.stringify(properties));\n",
       "}\n",
       "\n",
       "mpl.figure.prototype.send_draw_message = function() {\n",
       "    if (!this.waiting) {\n",
       "        this.waiting = true;\n",
       "        this.ws.send(JSON.stringify({type: \"draw\", figure_id: this.id}));\n",
       "    }\n",
       "}\n",
       "\n",
       "\n",
       "mpl.figure.prototype.handle_save = function(fig, msg) {\n",
       "    var format_dropdown = fig.format_dropdown;\n",
       "    var format = format_dropdown.options[format_dropdown.selectedIndex].value;\n",
       "    fig.ondownload(fig, format);\n",
       "}\n",
       "\n",
       "\n",
       "mpl.figure.prototype.handle_resize = function(fig, msg) {\n",
       "    var size = msg['size'];\n",
       "    if (size[0] != fig.canvas.width || size[1] != fig.canvas.height) {\n",
       "        fig._resize_canvas(size[0], size[1]);\n",
       "        fig.send_message(\"refresh\", {});\n",
       "    };\n",
       "}\n",
       "\n",
       "mpl.figure.prototype.handle_rubberband = function(fig, msg) {\n",
       "    var x0 = msg['x0'] / mpl.ratio;\n",
       "    var y0 = (fig.canvas.height - msg['y0']) / mpl.ratio;\n",
       "    var x1 = msg['x1'] / mpl.ratio;\n",
       "    var y1 = (fig.canvas.height - msg['y1']) / mpl.ratio;\n",
       "    x0 = Math.floor(x0) + 0.5;\n",
       "    y0 = Math.floor(y0) + 0.5;\n",
       "    x1 = Math.floor(x1) + 0.5;\n",
       "    y1 = Math.floor(y1) + 0.5;\n",
       "    var min_x = Math.min(x0, x1);\n",
       "    var min_y = Math.min(y0, y1);\n",
       "    var width = Math.abs(x1 - x0);\n",
       "    var height = Math.abs(y1 - y0);\n",
       "\n",
       "    fig.rubberband_context.clearRect(\n",
       "        0, 0, fig.canvas.width, fig.canvas.height);\n",
       "\n",
       "    fig.rubberband_context.strokeRect(min_x, min_y, width, height);\n",
       "}\n",
       "\n",
       "mpl.figure.prototype.handle_figure_label = function(fig, msg) {\n",
       "    // Updates the figure title.\n",
       "    fig.header.textContent = msg['label'];\n",
       "}\n",
       "\n",
       "mpl.figure.prototype.handle_cursor = function(fig, msg) {\n",
       "    var cursor = msg['cursor'];\n",
       "    switch(cursor)\n",
       "    {\n",
       "    case 0:\n",
       "        cursor = 'pointer';\n",
       "        break;\n",
       "    case 1:\n",
       "        cursor = 'default';\n",
       "        break;\n",
       "    case 2:\n",
       "        cursor = 'crosshair';\n",
       "        break;\n",
       "    case 3:\n",
       "        cursor = 'move';\n",
       "        break;\n",
       "    }\n",
       "    fig.rubberband_canvas.style.cursor = cursor;\n",
       "}\n",
       "\n",
       "mpl.figure.prototype.handle_message = function(fig, msg) {\n",
       "    fig.message.textContent = msg['message'];\n",
       "}\n",
       "\n",
       "mpl.figure.prototype.handle_draw = function(fig, msg) {\n",
       "    // Request the server to send over a new figure.\n",
       "    fig.send_draw_message();\n",
       "}\n",
       "\n",
       "mpl.figure.prototype.handle_image_mode = function(fig, msg) {\n",
       "    fig.image_mode = msg['mode'];\n",
       "}\n",
       "\n",
       "mpl.figure.prototype.updated_canvas_event = function() {\n",
       "    // Called whenever the canvas gets updated.\n",
       "    this.send_message(\"ack\", {});\n",
       "}\n",
       "\n",
       "// A function to construct a web socket function for onmessage handling.\n",
       "// Called in the figure constructor.\n",
       "mpl.figure.prototype._make_on_message_function = function(fig) {\n",
       "    return function socket_on_message(evt) {\n",
       "        if (evt.data instanceof Blob) {\n",
       "            /* FIXME: We get \"Resource interpreted as Image but\n",
       "             * transferred with MIME type text/plain:\" errors on\n",
       "             * Chrome.  But how to set the MIME type?  It doesn't seem\n",
       "             * to be part of the websocket stream */\n",
       "            evt.data.type = \"image/png\";\n",
       "\n",
       "            /* Free the memory for the previous frames */\n",
       "            if (fig.imageObj.src) {\n",
       "                (window.URL || window.webkitURL).revokeObjectURL(\n",
       "                    fig.imageObj.src);\n",
       "            }\n",
       "\n",
       "            fig.imageObj.src = (window.URL || window.webkitURL).createObjectURL(\n",
       "                evt.data);\n",
       "            fig.updated_canvas_event();\n",
       "            fig.waiting = false;\n",
       "            return;\n",
       "        }\n",
       "        else if (typeof evt.data === 'string' && evt.data.slice(0, 21) == \"data:image/png;base64\") {\n",
       "            fig.imageObj.src = evt.data;\n",
       "            fig.updated_canvas_event();\n",
       "            fig.waiting = false;\n",
       "            return;\n",
       "        }\n",
       "\n",
       "        var msg = JSON.parse(evt.data);\n",
       "        var msg_type = msg['type'];\n",
       "\n",
       "        // Call the  \"handle_{type}\" callback, which takes\n",
       "        // the figure and JSON message as its only arguments.\n",
       "        try {\n",
       "            var callback = fig[\"handle_\" + msg_type];\n",
       "        } catch (e) {\n",
       "            console.log(\"No handler for the '\" + msg_type + \"' message type: \", msg);\n",
       "            return;\n",
       "        }\n",
       "\n",
       "        if (callback) {\n",
       "            try {\n",
       "                // console.log(\"Handling '\" + msg_type + \"' message: \", msg);\n",
       "                callback(fig, msg);\n",
       "            } catch (e) {\n",
       "                console.log(\"Exception inside the 'handler_\" + msg_type + \"' callback:\", e, e.stack, msg);\n",
       "            }\n",
       "        }\n",
       "    };\n",
       "}\n",
       "\n",
       "// from http://stackoverflow.com/questions/1114465/getting-mouse-location-in-canvas\n",
       "mpl.findpos = function(e) {\n",
       "    //this section is from http://www.quirksmode.org/js/events_properties.html\n",
       "    var targ;\n",
       "    if (!e)\n",
       "        e = window.event;\n",
       "    if (e.target)\n",
       "        targ = e.target;\n",
       "    else if (e.srcElement)\n",
       "        targ = e.srcElement;\n",
       "    if (targ.nodeType == 3) // defeat Safari bug\n",
       "        targ = targ.parentNode;\n",
       "\n",
       "    // jQuery normalizes the pageX and pageY\n",
       "    // pageX,Y are the mouse positions relative to the document\n",
       "    // offset() returns the position of the element relative to the document\n",
       "    var x = e.pageX - $(targ).offset().left;\n",
       "    var y = e.pageY - $(targ).offset().top;\n",
       "\n",
       "    return {\"x\": x, \"y\": y};\n",
       "};\n",
       "\n",
       "/*\n",
       " * return a copy of an object with only non-object keys\n",
       " * we need this to avoid circular references\n",
       " * http://stackoverflow.com/a/24161582/3208463\n",
       " */\n",
       "function simpleKeys (original) {\n",
       "  return Object.keys(original).reduce(function (obj, key) {\n",
       "    if (typeof original[key] !== 'object')\n",
       "        obj[key] = original[key]\n",
       "    return obj;\n",
       "  }, {});\n",
       "}\n",
       "\n",
       "mpl.figure.prototype.mouse_event = function(event, name) {\n",
       "    var canvas_pos = mpl.findpos(event)\n",
       "\n",
       "    if (name === 'button_press')\n",
       "    {\n",
       "        this.canvas.focus();\n",
       "        this.canvas_div.focus();\n",
       "    }\n",
       "\n",
       "    var x = canvas_pos.x * mpl.ratio;\n",
       "    var y = canvas_pos.y * mpl.ratio;\n",
       "\n",
       "    this.send_message(name, {x: x, y: y, button: event.button,\n",
       "                             step: event.step,\n",
       "                             guiEvent: simpleKeys(event)});\n",
       "\n",
       "    /* This prevents the web browser from automatically changing to\n",
       "     * the text insertion cursor when the button is pressed.  We want\n",
       "     * to control all of the cursor setting manually through the\n",
       "     * 'cursor' event from matplotlib */\n",
       "    event.preventDefault();\n",
       "    return false;\n",
       "}\n",
       "\n",
       "mpl.figure.prototype._key_event_extra = function(event, name) {\n",
       "    // Handle any extra behaviour associated with a key event\n",
       "}\n",
       "\n",
       "mpl.figure.prototype.key_event = function(event, name) {\n",
       "\n",
       "    // Prevent repeat events\n",
       "    if (name == 'key_press')\n",
       "    {\n",
       "        if (event.which === this._key)\n",
       "            return;\n",
       "        else\n",
       "            this._key = event.which;\n",
       "    }\n",
       "    if (name == 'key_release')\n",
       "        this._key = null;\n",
       "\n",
       "    var value = '';\n",
       "    if (event.ctrlKey && event.which != 17)\n",
       "        value += \"ctrl+\";\n",
       "    if (event.altKey && event.which != 18)\n",
       "        value += \"alt+\";\n",
       "    if (event.shiftKey && event.which != 16)\n",
       "        value += \"shift+\";\n",
       "\n",
       "    value += 'k';\n",
       "    value += event.which.toString();\n",
       "\n",
       "    this._key_event_extra(event, name);\n",
       "\n",
       "    this.send_message(name, {key: value,\n",
       "                             guiEvent: simpleKeys(event)});\n",
       "    return false;\n",
       "}\n",
       "\n",
       "mpl.figure.prototype.toolbar_button_onclick = function(name) {\n",
       "    if (name == 'download') {\n",
       "        this.handle_save(this, null);\n",
       "    } else {\n",
       "        this.send_message(\"toolbar_button\", {name: name});\n",
       "    }\n",
       "};\n",
       "\n",
       "mpl.figure.prototype.toolbar_button_onmouseover = function(tooltip) {\n",
       "    this.message.textContent = tooltip;\n",
       "};\n",
       "mpl.toolbar_items = [[\"Home\", \"Reset original view\", \"fa fa-home icon-home\", \"home\"], [\"Back\", \"Back to previous view\", \"fa fa-arrow-left icon-arrow-left\", \"back\"], [\"Forward\", \"Forward to next view\", \"fa fa-arrow-right icon-arrow-right\", \"forward\"], [\"\", \"\", \"\", \"\"], [\"Pan\", \"Pan axes with left mouse, zoom with right\", \"fa fa-arrows icon-move\", \"pan\"], [\"Zoom\", \"Zoom to rectangle\", \"fa fa-square-o icon-check-empty\", \"zoom\"], [\"\", \"\", \"\", \"\"], [\"Download\", \"Download plot\", \"fa fa-floppy-o icon-save\", \"download\"]];\n",
       "\n",
       "mpl.extensions = [\"eps\", \"jpeg\", \"pdf\", \"png\", \"ps\", \"raw\", \"svg\", \"tif\"];\n",
       "\n",
       "mpl.default_extension = \"png\";var comm_websocket_adapter = function(comm) {\n",
       "    // Create a \"websocket\"-like object which calls the given IPython comm\n",
       "    // object with the appropriate methods. Currently this is a non binary\n",
       "    // socket, so there is still some room for performance tuning.\n",
       "    var ws = {};\n",
       "\n",
       "    ws.close = function() {\n",
       "        comm.close()\n",
       "    };\n",
       "    ws.send = function(m) {\n",
       "        //console.log('sending', m);\n",
       "        comm.send(m);\n",
       "    };\n",
       "    // Register the callback with on_msg.\n",
       "    comm.on_msg(function(msg) {\n",
       "        //console.log('receiving', msg['content']['data'], msg);\n",
       "        // Pass the mpl event to the overridden (by mpl) onmessage function.\n",
       "        ws.onmessage(msg['content']['data'])\n",
       "    });\n",
       "    return ws;\n",
       "}\n",
       "\n",
       "mpl.mpl_figure_comm = function(comm, msg) {\n",
       "    // This is the function which gets called when the mpl process\n",
       "    // starts-up an IPython Comm through the \"matplotlib\" channel.\n",
       "\n",
       "    var id = msg.content.data.id;\n",
       "    // Get hold of the div created by the display call when the Comm\n",
       "    // socket was opened in Python.\n",
       "    var element = $(\"#\" + id);\n",
       "    var ws_proxy = comm_websocket_adapter(comm)\n",
       "\n",
       "    function ondownload(figure, format) {\n",
       "        window.open(figure.imageObj.src);\n",
       "    }\n",
       "\n",
       "    var fig = new mpl.figure(id, ws_proxy,\n",
       "                           ondownload,\n",
       "                           element.get(0));\n",
       "\n",
       "    // Call onopen now - mpl needs it, as it is assuming we've passed it a real\n",
       "    // web socket which is closed, not our websocket->open comm proxy.\n",
       "    ws_proxy.onopen();\n",
       "\n",
       "    fig.parent_element = element.get(0);\n",
       "    fig.cell_info = mpl.find_output_cell(\"<div id='\" + id + \"'></div>\");\n",
       "    if (!fig.cell_info) {\n",
       "        console.error(\"Failed to find cell for figure\", id, fig);\n",
       "        return;\n",
       "    }\n",
       "\n",
       "    var output_index = fig.cell_info[2]\n",
       "    var cell = fig.cell_info[0];\n",
       "\n",
       "};\n",
       "\n",
       "mpl.figure.prototype.handle_close = function(fig, msg) {\n",
       "    var width = fig.canvas.width/mpl.ratio\n",
       "    fig.root.unbind('remove')\n",
       "\n",
       "    // Update the output cell to use the data from the current canvas.\n",
       "    fig.push_to_output();\n",
       "    var dataURL = fig.canvas.toDataURL();\n",
       "    // Re-enable the keyboard manager in IPython - without this line, in FF,\n",
       "    // the notebook keyboard shortcuts fail.\n",
       "    IPython.keyboard_manager.enable()\n",
       "    $(fig.parent_element).html('<img src=\"' + dataURL + '\" width=\"' + width + '\">');\n",
       "    fig.close_ws(fig, msg);\n",
       "}\n",
       "\n",
       "mpl.figure.prototype.close_ws = function(fig, msg){\n",
       "    fig.send_message('closing', msg);\n",
       "    // fig.ws.close()\n",
       "}\n",
       "\n",
       "mpl.figure.prototype.push_to_output = function(remove_interactive) {\n",
       "    // Turn the data on the canvas into data in the output cell.\n",
       "    var width = this.canvas.width/mpl.ratio\n",
       "    var dataURL = this.canvas.toDataURL();\n",
       "    this.cell_info[1]['text/html'] = '<img src=\"' + dataURL + '\" width=\"' + width + '\">';\n",
       "}\n",
       "\n",
       "mpl.figure.prototype.updated_canvas_event = function() {\n",
       "    // Tell IPython that the notebook contents must change.\n",
       "    IPython.notebook.set_dirty(true);\n",
       "    this.send_message(\"ack\", {});\n",
       "    var fig = this;\n",
       "    // Wait a second, then push the new image to the DOM so\n",
       "    // that it is saved nicely (might be nice to debounce this).\n",
       "    setTimeout(function () { fig.push_to_output() }, 1000);\n",
       "}\n",
       "\n",
       "mpl.figure.prototype._init_toolbar = function() {\n",
       "    var fig = this;\n",
       "\n",
       "    var nav_element = $('<div/>')\n",
       "    nav_element.attr('style', 'width: 100%');\n",
       "    this.root.append(nav_element);\n",
       "\n",
       "    // Define a callback function for later on.\n",
       "    function toolbar_event(event) {\n",
       "        return fig.toolbar_button_onclick(event['data']);\n",
       "    }\n",
       "    function toolbar_mouse_event(event) {\n",
       "        return fig.toolbar_button_onmouseover(event['data']);\n",
       "    }\n",
       "\n",
       "    for(var toolbar_ind in mpl.toolbar_items){\n",
       "        var name = mpl.toolbar_items[toolbar_ind][0];\n",
       "        var tooltip = mpl.toolbar_items[toolbar_ind][1];\n",
       "        var image = mpl.toolbar_items[toolbar_ind][2];\n",
       "        var method_name = mpl.toolbar_items[toolbar_ind][3];\n",
       "\n",
       "        if (!name) { continue; };\n",
       "\n",
       "        var button = $('<button class=\"btn btn-default\" href=\"#\" title=\"' + name + '\"><i class=\"fa ' + image + ' fa-lg\"></i></button>');\n",
       "        button.click(method_name, toolbar_event);\n",
       "        button.mouseover(tooltip, toolbar_mouse_event);\n",
       "        nav_element.append(button);\n",
       "    }\n",
       "\n",
       "    // Add the status bar.\n",
       "    var status_bar = $('<span class=\"mpl-message\" style=\"text-align:right; float: right;\"/>');\n",
       "    nav_element.append(status_bar);\n",
       "    this.message = status_bar[0];\n",
       "\n",
       "    // Add the close button to the window.\n",
       "    var buttongrp = $('<div class=\"btn-group inline pull-right\"></div>');\n",
       "    var button = $('<button class=\"btn btn-mini btn-primary\" href=\"#\" title=\"Stop Interaction\"><i class=\"fa fa-power-off icon-remove icon-large\"></i></button>');\n",
       "    button.click(function (evt) { fig.handle_close(fig, {}); } );\n",
       "    button.mouseover('Stop Interaction', toolbar_mouse_event);\n",
       "    buttongrp.append(button);\n",
       "    var titlebar = this.root.find($('.ui-dialog-titlebar'));\n",
       "    titlebar.prepend(buttongrp);\n",
       "}\n",
       "\n",
       "mpl.figure.prototype._root_extra_style = function(el){\n",
       "    var fig = this\n",
       "    el.on(\"remove\", function(){\n",
       "\tfig.close_ws(fig, {});\n",
       "    });\n",
       "}\n",
       "\n",
       "mpl.figure.prototype._canvas_extra_style = function(el){\n",
       "    // this is important to make the div 'focusable\n",
       "    el.attr('tabindex', 0)\n",
       "    // reach out to IPython and tell the keyboard manager to turn it's self\n",
       "    // off when our div gets focus\n",
       "\n",
       "    // location in version 3\n",
       "    if (IPython.notebook.keyboard_manager) {\n",
       "        IPython.notebook.keyboard_manager.register_events(el);\n",
       "    }\n",
       "    else {\n",
       "        // location in version 2\n",
       "        IPython.keyboard_manager.register_events(el);\n",
       "    }\n",
       "\n",
       "}\n",
       "\n",
       "mpl.figure.prototype._key_event_extra = function(event, name) {\n",
       "    var manager = IPython.notebook.keyboard_manager;\n",
       "    if (!manager)\n",
       "        manager = IPython.keyboard_manager;\n",
       "\n",
       "    // Check for shift+enter\n",
       "    if (event.shiftKey && event.which == 13) {\n",
       "        this.canvas_div.blur();\n",
       "        event.shiftKey = false;\n",
       "        // Send a \"J\" for go to next cell\n",
       "        event.which = 74;\n",
       "        event.keyCode = 74;\n",
       "        manager.command_mode();\n",
       "        manager.handle_keydown(event);\n",
       "    }\n",
       "}\n",
       "\n",
       "mpl.figure.prototype.handle_save = function(fig, msg) {\n",
       "    fig.ondownload(fig, null);\n",
       "}\n",
       "\n",
       "\n",
       "mpl.find_output_cell = function(html_output) {\n",
       "    // Return the cell and output element which can be found *uniquely* in the notebook.\n",
       "    // Note - this is a bit hacky, but it is done because the \"notebook_saving.Notebook\"\n",
       "    // IPython event is triggered only after the cells have been serialised, which for\n",
       "    // our purposes (turning an active figure into a static one), is too late.\n",
       "    var cells = IPython.notebook.get_cells();\n",
       "    var ncells = cells.length;\n",
       "    for (var i=0; i<ncells; i++) {\n",
       "        var cell = cells[i];\n",
       "        if (cell.cell_type === 'code'){\n",
       "            for (var j=0; j<cell.output_area.outputs.length; j++) {\n",
       "                var data = cell.output_area.outputs[j];\n",
       "                if (data.data) {\n",
       "                    // IPython >= 3 moved mimebundle to data attribute of output\n",
       "                    data = data.data;\n",
       "                }\n",
       "                if (data['text/html'] == html_output) {\n",
       "                    return [cell, data, j];\n",
       "                }\n",
       "            }\n",
       "        }\n",
       "    }\n",
       "}\n",
       "\n",
       "// Register the function which deals with the matplotlib target/channel.\n",
       "// The kernel may be null if the page has been refreshed.\n",
       "if (IPython.notebook.kernel != null) {\n",
       "    IPython.notebook.kernel.comm_manager.register_target('matplotlib', mpl.mpl_figure_comm);\n",
       "}\n"
      ],
      "text/plain": [
       "<IPython.core.display.Javascript object>"
      ]
     },
     "metadata": {},
     "output_type": "display_data"
    },
    {
     "data": {
      "text/html": [
       "<img src=\"data:image/png;base64,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\" width=\"639.8333333333334\">"
      ],
      "text/plain": [
       "<IPython.core.display.HTML object>"
      ]
     },
     "metadata": {},
     "output_type": "display_data"
    },
    {
     "data": {
      "text/plain": [
       "<matplotlib.image.AxesImage at 0x7fc9fb5f2550>"
      ]
     },
     "execution_count": 87,
     "metadata": {},
     "output_type": "execute_result"
    }
   ],
   "source": [
    "\n"
   ]
  },
  {
   "cell_type": "markdown",
   "metadata": {
    "slideshow": {
     "slide_type": "subslide"
    }
   },
   "source": [
    "### Other useful modules\n",
    "\n",
    "* [Panda](https://pandas.pydata.org/) Data analysis\n",
    "* [py-OpenCV](https://opencv-python-tutroals.readthedocs.io/en/latest/py_tutorials/py_tutorials.html) Image acquisition and processing, video analysis\n",
    "* [scikit-image](https://scikit-image.org/) Image processing\n",
    "* [scikit-learn](https://scikit-learn.org/stable/) Machine learning\n",
    "* [PyTorch](https://pytorch.org/), [TensorFlow](https://www.tensorflow.org/), [Keras](https://keras.io/) Deep learning\n"
   ]
  },
  {
   "cell_type": "markdown",
   "metadata": {
    "slideshow": {
     "slide_type": "slide"
    }
   },
   "source": [
    "## Run Python on the servers"
   ]
  },
  {
   "cell_type": "markdown",
   "metadata": {
    "slideshow": {
     "slide_type": "slide"
    }
   },
   "source": [
    "## Going further\n",
    "\n",
    "### IPython magic functions"
   ]
  },
  {
   "cell_type": "code",
   "execution_count": 118,
   "metadata": {
    "slideshow": {
     "slide_type": "fragment"
    }
   },
   "outputs": [
    {
     "name": "stdout",
     "output_type": "stream",
     "text": [
      "277 µs ± 6.92 µs per loop (mean ± std. dev. of 7 runs, 1000 loops each)\n"
     ]
    }
   ],
   "source": [
    "%timeit A=[i**2 for i in range(1000)]"
   ]
  },
  {
   "cell_type": "code",
   "execution_count": 119,
   "metadata": {
    "slideshow": {
     "slide_type": "fragment"
    }
   },
   "outputs": [
    {
     "data": {
      "text/plain": [
       "['FormationPython.ipynb',\n",
       " 'FormationPython.pdf',\n",
       " 'FormationPython.slides.html',\n",
       " 'makeslides',\n",
       " 'material',\n",
       " 'PDF',\n",
       " 'saved_data.npz',\n",
       " 'test.eps',\n",
       " 'topdf',\n",
       " 'Untitled.ipynb']"
      ]
     },
     "execution_count": 119,
     "metadata": {},
     "output_type": "execute_result"
    }
   ],
   "source": [
    "%system ls"
   ]
  },
  {
   "cell_type": "markdown",
   "metadata": {
    "slideshow": {
     "slide_type": "fragment"
    }
   },
   "source": [
    "More infomration about built-in magic functions [here](https://ipython.readthedocs.io/en/stable/interactive/magics.html)"
   ]
  },
  {
   "cell_type": "markdown",
   "metadata": {
    "slideshow": {
     "slide_type": "subslide"
    }
   },
   "source": [
    "Use bash/dos commands with `!`"
   ]
  },
  {
   "cell_type": "code",
   "execution_count": 75,
   "metadata": {
    "slideshow": {
     "slide_type": "-"
    }
   },
   "outputs": [
    {
     "name": "stdout",
     "output_type": "stream",
     "text": [
      "Exercises.ipynb\t\t     img\t saved_data.npz  Untitled.ipynb\r\n",
      "FormationPython.ipynb\t     makeslides  test.eps\r\n",
      "FormationPython.pdf\t     material\t test.log\r\n",
      "FormationPython.slides.html  PDF\t topdf\r\n"
     ]
    }
   ],
   "source": [
    "!ls"
   ]
  },
  {
   "cell_type": "markdown",
   "metadata": {
    "slideshow": {
     "slide_type": "fragment"
    }
   },
   "source": [
    "Convert notebook to .py file"
   ]
  },
  {
   "cell_type": "code",
   "execution_count": 77,
   "metadata": {
    "slideshow": {
     "slide_type": "-"
    }
   },
   "outputs": [
    {
     "name": "stdout",
     "output_type": "stream",
     "text": [
      "[NbConvertApp] Converting notebook FormationPython.ipynb to python\n",
      "[NbConvertApp] Writing 52001 bytes to FormationPython.py\n"
     ]
    }
   ],
   "source": [
    "!jupyter nbconvert FormationPython.ipynb --to python"
   ]
  },
  {
   "cell_type": "markdown",
   "metadata": {
    "slideshow": {
     "slide_type": "slide"
    }
   },
   "source": [
    "### Parallel computing\n",
    "\n",
    "Many ways to do so..."
   ]
  },
  {
   "cell_type": "code",
   "execution_count": null,
   "metadata": {
    "slideshow": {
     "slide_type": "fragment"
    }
   },
   "outputs": [],
   "source": [
    "import multiprocessing\n",
    "# pip import joblib\n",
    "from joblib import Parallel, delayed\n",
    "\n",
    "num_cores = multiprocessing.cpu_count()\n",
    "pool = multiprocessing.Pool(num_cores)\n",
    "\n",
    "\n",
    "def calculate_once(i):\n",
    "    return i**2\n",
    "\n",
    "result = Parallel(n_jobs=num_cores)(delayed(calculate_once)(i) for i in range(10))  \n",
    "\n",
    "print(result)"
   ]
  },
  {
   "cell_type": "markdown",
   "metadata": {
    "slideshow": {
     "slide_type": "slide"
    }
   },
   "source": [
    "### GPU computing"
   ]
  },
  {
   "cell_type": "markdown",
   "metadata": {
    "slideshow": {
     "slide_type": "-"
    }
   },
   "source": [
    "[Cupy](https://cupy.dev/) copies Numpy but with GPU! \n",
    "\n",
    "Simply replace `np.` by `cp.`"
   ]
  },
  {
   "cell_type": "markdown",
   "metadata": {
    "slideshow": {
     "slide_type": "-"
    }
   },
   "source": [
    "```\n",
    "import cupy as cp\n",
    "x = cp.arange(6).reshape(2, 3).astype('f')\n",
    "x\n",
    ">>> array([[ 0.,  1.,  2.],\n",
    "       [ 3.,  4.,  5.]], dtype=float32)\n",
    "x.sum(axis=1)\n",
    ">>> array([  3.,  12.], dtype=float32)\n",
    "```\n"
   ]
  },
  {
   "cell_type": "markdown",
   "metadata": {
    "slideshow": {
     "slide_type": "slide"
    }
   },
   "source": [
    "### Using dlls with Ctypes\n",
    "\n",
    "Allow to use .dll or .so libraries and to convert C-type data to and from Python data.  \n",
    "Extremely easy at least when no pointer/arrays are involved.  \n",
    "Documentation [here](https://docs.python.org/3/library/ctypes.html#module-ctypes)"
   ]
  },
  {
   "cell_type": "code",
   "execution_count": 120,
   "metadata": {
    "slideshow": {
     "slide_type": "fragment"
    }
   },
   "outputs": [],
   "source": [
    "import ctypes as ct"
   ]
  },
  {
   "cell_type": "raw",
   "metadata": {
    "slideshow": {
     "slide_type": "fragment"
    }
   },
   "source": [
    "mydll = ct.CDLL('something.dll') \n",
    "mydll.function(ct.c_bool(True), ct.c_long(3.1415), ct.c_int(10), ct.byref(SequenceId))"
   ]
  },
  {
   "cell_type": "markdown",
   "metadata": {
    "slideshow": {
     "slide_type": "-"
    }
   },
   "source": [
    "We can call any function of the dll, we cast (convert) the Python variables to C-types data."
   ]
  },
  {
   "cell_type": "markdown",
   "metadata": {
    "slideshow": {
     "slide_type": "slide"
    }
   },
   "source": [
    "### Code optimization with Cython"
   ]
  },
  {
   "cell_type": "markdown",
   "metadata": {},
   "source": [
    "Pure Python code can be slow, in particular due to dynamic memory allocation.  \n",
    "Cython allows writing a part of a code in C/C++ to optimize this given part, without having to code everything in C/C++.  \n",
    "The code now **needs to be compiled**, but can contain pure Python inside.  \n",
    "Documentation [here](https://cython.readthedocs.io/en/latest/)"
   ]
  },
  {
   "cell_type": "markdown",
   "metadata": {},
   "source": [
    "#### Installation\n",
    "\n",
    "`conda install -c anaconda cython`\n",
    "\n",
    "**Already installed with Anaconda**"
   ]
  },
  {
   "cell_type": "markdown",
   "metadata": {
    "slideshow": {
     "slide_type": "subslide"
    }
   },
   "source": [
    "#### Setup\n",
    "\n",
    "Your code will be saved as a `.pyx` instead of `.py`, for instance `test.pyx`\n",
    "\n",
    "You also need a `setup.py` file to compile the code that looks like:\n",
    "\n",
    "```\n",
    "from distutils.core import setup\n",
    "from Cython.Build import cythonize\n",
    "\n",
    "setup(\n",
    "    ext_modules = cythonize(\"test.pyx\")\n",
    ")```"
   ]
  },
  {
   "cell_type": "markdown",
   "metadata": {
    "slideshow": {
     "slide_type": "subslide"
    }
   },
   "source": [
    "#### Synthax example"
   ]
  },
  {
   "cell_type": "code",
   "execution_count": null,
   "metadata": {},
   "outputs": [],
   "source": [
    "def primes(int nb_primes):\n",
    "    cdef int n, i, len_p\n",
    "    cdef int p[1000]\n",
    "    if nb_primes > 1000:\n",
    "        nb_primes = 1000\n",
    "\n",
    "    len_p = 0  # The current number of elements in p.\n",
    "    n = 2\n",
    "    while len_p < nb_primes:\n",
    "        # Is n prime?\n",
    "        for i in p[:len_p]:\n",
    "            if n % i == 0:\n",
    "                break\n",
    "\n",
    "        # If no break occurred in the loop, we have a prime.\n",
    "        else:\n",
    "            p[len_p] = n\n",
    "            len_p += 1\n",
    "        n += 1\n",
    "\n",
    "    # Let's return the result in a python list:\n",
    "    result_as_list  = [prime for prime in p[:len_p]]\n",
    "    return result_as_list"
   ]
  },
  {
   "cell_type": "markdown",
   "metadata": {
    "slideshow": {
     "slide_type": "-"
    }
   },
   "source": [
    "Memory is allocated statically with `cdef int p[1000]`"
   ]
  },
  {
   "cell_type": "markdown",
   "metadata": {
    "slideshow": {
     "slide_type": "slide"
    }
   },
   "source": [
    "#### Compile code\n",
    "\n",
    "Use `python setup.py build_ext --inplace`  \n",
    "Creates a `text.pyd` compiled file, not human readable, but can be executed/imported. "
   ]
  },
  {
   "cell_type": "code",
   "execution_count": null,
   "metadata": {
    "slideshow": {
     "slide_type": "fragment"
    }
   },
   "outputs": [],
   "source": [
    "from test import pri me\n",
    "\n",
    "prime_list = prime(100)"
   ]
  },
  {
   "cell_type": "markdown",
   "metadata": {
    "slideshow": {
     "slide_type": "slide"
    }
   },
   "source": [
    "### Decorators\n",
    "\n",
    "Decorators are function that modify functions.  \n",
    "Usefull for instance when we want to add funcitonnalities to a function or a set of cuntions without modifying the functions themselves.  \n",
    "See a simple introduction [here](https://realpython.com/primer-on-python-decorators/)."
   ]
  },
  {
   "cell_type": "code",
   "execution_count": 89,
   "metadata": {
    "slideshow": {
     "slide_type": "fragment"
    }
   },
   "outputs": [],
   "source": [
    "def addition(a,b):\n",
    "    return a+b\n",
    "\n",
    "val = addition(10,5)"
   ]
  },
  {
   "cell_type": "markdown",
   "metadata": {
    "slideshow": {
     "slide_type": "subslide"
    }
   },
   "source": [
    "We want to write a decorator that modify the function to print the results that is returned."
   ]
  },
  {
   "cell_type": "code",
   "execution_count": 91,
   "metadata": {
    "slideshow": {
     "slide_type": "fragment"
    }
   },
   "outputs": [],
   "source": [
    "def print_results(func):\n",
    "    def wrapper(*args, **kwargs):\n",
    "        result = func(*args, **kwargs)\n",
    "        print(result)\n",
    "        return result\n",
    "    return wrapper"
   ]
  },
  {
   "cell_type": "code",
   "execution_count": 93,
   "metadata": {
    "slideshow": {
     "slide_type": "fragment"
    }
   },
   "outputs": [
    {
     "name": "stdout",
     "output_type": "stream",
     "text": [
      "15\n"
     ]
    }
   ],
   "source": [
    "@print_results\n",
    "def addition(a,b):\n",
    "    return a+b\n",
    "\n",
    "val = addition(10,5)"
   ]
  },
  {
   "cell_type": "markdown",
   "metadata": {
    "slideshow": {
     "slide_type": "slide"
    }
   },
   "source": [
    "### Code optimization with numba\n",
    "\n",
    "Numba is a *just-in-time* compiler for Python that optimize loops and array functions.  \n",
    "It is compatible with Numpy arrays and functions.  \n",
    "**Extremely efficient**, can speed up very significantly pieces of code.\n",
    "\n",
    "Quick guide to Numba [here](http://numba.pydata.org/numba-doc/latest/user/5minguide.html)."
   ]
  },
  {
   "cell_type": "markdown",
   "metadata": {
    "slideshow": {
     "slide_type": "fragment"
    }
   },
   "source": [
    "#### Installation\n",
    "\n",
    "`conda install numba`"
   ]
  },
  {
   "cell_type": "markdown",
   "metadata": {
    "slideshow": {
     "slide_type": "subslide"
    }
   },
   "source": [
    "#### Usage\n",
    "\n",
    "Numba works as a simple decorator"
   ]
  },
  {
   "cell_type": "code",
   "execution_count": 94,
   "metadata": {
    "slideshow": {
     "slide_type": "fragment"
    }
   },
   "outputs": [],
   "source": [
    "import numpy as np\n",
    "\n",
    "x = np.arange(10000).reshape(100, 100)\n",
    "\n",
    "def go(a): \n",
    "    trace = 0\n",
    "    for i in range(a.shape[0]):   \n",
    "        trace += np.tanh(a[i, i]) \n",
    "    return a + trace              "
   ]
  },
  {
   "cell_type": "code",
   "execution_count": 132,
   "metadata": {
    "slideshow": {
     "slide_type": "subslide"
    }
   },
   "outputs": [
    {
     "name": "stdout",
     "output_type": "stream",
     "text": [
      "242 µs ± 129 µs per loop (mean ± std. dev. of 7 runs, 100 loops each)\n"
     ]
    }
   ],
   "source": [
    "%timeit -n 100 go(x)"
   ]
  },
  {
   "cell_type": "code",
   "execution_count": 133,
   "metadata": {
    "slideshow": {
     "slide_type": "fragment"
    }
   },
   "outputs": [],
   "source": [
    "from numba import jit\n",
    "\n",
    "@jit(nopython=True) # Set \"nopython\" mode for best performance, equivalent to @njit\n",
    "def go_fast(a): # Function is compiled to machine code when called the first time\n",
    "    trace = 0\n",
    "    for i in range(a.shape[0]):   # Numba likes loops\n",
    "        trace += np.tanh(a[i, i]) # Numba likes NumPy functions\n",
    "    return a + trace              # Numba likes NumPy broadcasting"
   ]
  },
  {
   "cell_type": "markdown",
   "metadata": {
    "slideshow": {
     "slide_type": "-"
    }
   },
   "source": [
    " </style><div class=note>\n",
    "**Note:**   We here use loop over indexes because Numba wants it to optimize the code.\n",
    "<div/>"
   ]
  },
  {
   "cell_type": "code",
   "execution_count": 135,
   "metadata": {
    "slideshow": {
     "slide_type": "fragment"
    }
   },
   "outputs": [
    {
     "name": "stdout",
     "output_type": "stream",
     "text": [
      "17.1 µs ± 1.9 µs per loop (mean ± std. dev. of 7 runs, 100 loops each)\n"
     ]
    }
   ],
   "source": [
    "%timeit -n 100 go_fast(x)"
   ]
  },
  {
   "cell_type": "markdown",
   "metadata": {
    "slideshow": {
     "slide_type": "subslide"
    }
   },
   "source": [
    " </style><div class=note>\n",
    "**Note:**   It is especially usefull when performing calculations that are not decomposed on simple functions.  \n",
    "    Numpy and Scipy, especially Scipy, are compiled and optimized.\n",
    "<div/>"
   ]
  },
  {
   "cell_type": "code",
   "execution_count": 136,
   "metadata": {
    "slideshow": {
     "slide_type": "fragment"
    }
   },
   "outputs": [],
   "source": [
    "def go_numpy(a): # Function is compiled to machine code when called the first time\n",
    "    tan_trace = np.sum(np.tanh(np.diag(a)))\n",
    "    return a + tan_trace"
   ]
  },
  {
   "cell_type": "code",
   "execution_count": 137,
   "metadata": {
    "slideshow": {
     "slide_type": "fragment"
    }
   },
   "outputs": [
    {
     "name": "stdout",
     "output_type": "stream",
     "text": [
      "35.9 µs ± 13 µs per loop (mean ± std. dev. of 7 runs, 100 loops each)\n"
     ]
    }
   ],
   "source": [
    "%timeit -n 100 go_numpy(x)"
   ]
  },
  {
   "cell_type": "markdown",
   "metadata": {
    "slideshow": {
     "slide_type": "slide"
    }
   },
   "source": [
    "### Logger\n",
    "\n",
    "Replace elegantly the `print` inside a code to create a real log file and to output data on the screen.  \n",
    "Documentation [here](https://docs.python.org/2/library/logging.html)"
   ]
  },
  {
   "cell_type": "code",
   "execution_count": 138,
   "metadata": {},
   "outputs": [],
   "source": [
    "import logging\n",
    "\n",
    "# Create the logger\n",
    "logger = logging.getLogger('my log')\n",
    "# Format the output\n",
    "logFormatter = logging.Formatter(\"%(asctime)s - %(name)-10.10s [%(levelname)-7.7s]  %(message)s\") \n",
    "# One 'handler' to save to file\n",
    "fileHandler = logging.FileHandler('test.log')\n",
    "fileHandler.setFormatter(logFormatter)\n",
    "logger.addHandler(fileHandler)\n",
    "# One 'handler' to print to screen\n",
    "consoleHandler = logging.StreamHandler()\n",
    "consoleHandler.setFormatter(logFormatter)\n",
    "logger.addHandler(consoleHandler)\n",
    "logger.handler_set = True"
   ]
  },
  {
   "cell_type": "code",
   "execution_count": 139,
   "metadata": {
    "slideshow": {
     "slide_type": "subslide"
    }
   },
   "outputs": [
    {
     "name": "stderr",
     "output_type": "stream",
     "text": [
      "2019-06-20 15:09:45,377 - my log     [ERROR  ]  This is an error message\n",
      "2019-06-20 15:09:45,377 - my log     [ERROR  ]  This is an error message\n",
      "2019-06-20 15:09:45,379 - my log     [WARNING]  This is a warning message\n",
      "2019-06-20 15:09:45,379 - my log     [WARNING]  This is a warning message\n",
      "2019-06-20 15:09:45,380 - my log     [INFO   ]  This is an info message\n",
      "2019-06-20 15:09:45,380 - my log     [INFO   ]  This is an info message\n"
     ]
    }
   ],
   "source": [
    "# Set the level of info to write\n",
    "logger.setLevel(logging.INFO)\n",
    "logger.error('This is an error message')\n",
    "logger.warning('This is a warning message')\n",
    "logger.info('This is an info message')\n",
    "logger.debug('This is a debug message')"
   ]
  },
  {
   "cell_type": "markdown",
   "metadata": {},
   "source": [
    " </style><div class=note>\n",
    "**Note:**   Only levels higher than the one set are displaied. `DEBUG` have a lower level than `INFO`.\n",
    "<div/>"
   ]
  },
  {
   "cell_type": "markdown",
   "metadata": {
    "slideshow": {
     "slide_type": "slide"
    }
   },
   "source": [
    "## Used ressources:\n",
    "\n",
    "\n",
    "* **Matlab vs Python for matrices:** [cheatsheets.quantecon.org](https://cheatsheets.quantecon.org/)\n",
    "* [Primer on Python decorators](https://realpython.com/primer-on-python-decorators/)\n",
    "* [A 5 minute guide to Numba](http://numba.pydata.org/numba-doc/latest/user/5minguide.html)\n",
    "* [Logger documentation](https://docs.python.org/2/library/logging.html)"
   ]
  }
 ],
 "metadata": {
  "celltoolbar": "Slideshow",
  "kernelspec": {
   "display_name": "Python 3",
   "language": "python",
   "name": "python3"
  },
  "language_info": {
   "codemirror_mode": {
    "name": "ipython",
    "version": 3
   },
   "file_extension": ".py",
   "mimetype": "text/x-python",
   "name": "python",
   "nbconvert_exporter": "python",
   "pygments_lexer": "ipython3",
   "version": "3.8.5"
  },
  "toc": {
   "base_numbering": 1,
   "nav_menu": {
    "height": "555px",
    "width": "435px"
   },
   "number_sections": true,
   "sideBar": true,
   "skip_h1_title": true,
   "title_cell": "Table of Contents",
   "title_sidebar": "Contents",
   "toc_cell": true,
   "toc_position": {
    "height": "827px",
    "left": "21px",
    "top": "111px",
    "width": "440px"
   },
   "toc_section_display": true,
   "toc_window_display": false
  }
 },
 "nbformat": 4,
 "nbformat_minor": 2
}
